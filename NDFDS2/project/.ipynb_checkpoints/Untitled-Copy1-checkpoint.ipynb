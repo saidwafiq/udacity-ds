{
 "cells": [
  {
   "cell_type": "markdown",
   "metadata": {},
   "source": [
    "# Projeto Introdução a ML\n",
    "Udacity - Jan 2019\n",
    "\n",
    "### Identificando fraudes pelos e-mails da Enron\n",
    "Em 2000, Enron era uma das maiores empresas dos Estados Unidos. Já em 2002, ela colapsou e quebrou devido a uma fraude que envolveu grande parte da corporação. Resultando em uma investigação federal, muitos dados que são normalmente confidenciais, se tornaram públicos, incluindo dezenas de milhares de e-mails e detalhes financeiros para os executivos dos mais altos níveis da empresa.\n",
    "\n",
    "![Image](http://s.marketwatch.com/public/resources/MWimages/MW-FN641_enron_ZG_20170602101824.jpg)"
   ]
  },
  {
   "cell_type": "markdown",
   "metadata": {},
   "source": [
    "## Objetivo\n",
    "Neste projeto o objetivo é a construção de um modelo preditivo que visa determinar se um funcionário é um funcionário de interesse (POI), ou seja, um suspeito por participação na fraude.  O target para aprovação é atingir precision e recall de ao menos 0.3 para cada."
   ]
  },
  {
   "cell_type": "markdown",
   "metadata": {},
   "source": [
    "## Introdução\n",
    "Para exploração de dados e documentação do meu processo de análise, importei a base para um dataframe e utilizei numpy e pandas em conjunto com o Jupyter Notebook."
   ]
  },
  {
   "cell_type": "code",
   "execution_count": 179,
   "metadata": {},
   "outputs": [],
   "source": [
    "import pickle\n",
    "import numpy as np\n",
    "import pandas as pd\n",
    "import matplotlib.pyplot as plt\n",
    "from sklearn.metrics import accuracy_score\n",
    "from sklearn.metrics import precision_score\n",
    "from sklearn.metrics import recall_score\n",
    "from sklearn.metrics import f1_score\n",
    "from sklearn.model_selection import StratifiedShuffleSplit\n",
    "from sklearn.model_selection import train_test_split\n",
    "\n",
    "import sys\n",
    "sys.path.append(\"../tools/\")\n",
    "from feature_format import featureFormat, targetFeatureSplit\n",
    "from tester import dump_classifier_and_data, main"
   ]
  },
  {
   "cell_type": "code",
   "execution_count": 2,
   "metadata": {},
   "outputs": [],
   "source": [
    "# importando a base para um dicionario\n",
    "data_dict = pd.read_pickle(\"../final_project/final_project_dataset.pkl\")\n",
    "\n",
    "# cria um dataframe do dicionario\n",
    "df = pd.DataFrame.from_dict(data_dict, orient='index')"
   ]
  },
  {
   "cell_type": "markdown",
   "metadata": {},
   "source": [
    "## Exploração dos dados"
   ]
  },
  {
   "cell_type": "code",
   "execution_count": 3,
   "metadata": {},
   "outputs": [
    {
     "name": "stdout",
     "output_type": "stream",
     "text": [
      "<class 'pandas.core.frame.DataFrame'>\n",
      "Index: 146 entries, ALLEN PHILLIP K to YEAP SOON\n",
      "Data columns (total 21 columns):\n",
      "salary                       146 non-null object\n",
      "to_messages                  146 non-null object\n",
      "deferral_payments            146 non-null object\n",
      "total_payments               146 non-null object\n",
      "exercised_stock_options      146 non-null object\n",
      "bonus                        146 non-null object\n",
      "restricted_stock             146 non-null object\n",
      "shared_receipt_with_poi      146 non-null object\n",
      "restricted_stock_deferred    146 non-null object\n",
      "total_stock_value            146 non-null object\n",
      "expenses                     146 non-null object\n",
      "loan_advances                146 non-null object\n",
      "from_messages                146 non-null object\n",
      "other                        146 non-null object\n",
      "from_this_person_to_poi      146 non-null object\n",
      "poi                          146 non-null bool\n",
      "director_fees                146 non-null object\n",
      "deferred_income              146 non-null object\n",
      "long_term_incentive          146 non-null object\n",
      "email_address                146 non-null object\n",
      "from_poi_to_this_person      146 non-null object\n",
      "dtypes: bool(1), object(20)\n",
      "memory usage: 24.1+ KB\n"
     ]
    }
   ],
   "source": [
    "df.info()"
   ]
  },
  {
   "cell_type": "code",
   "execution_count": 4,
   "metadata": {},
   "outputs": [
    {
     "data": {
      "text/plain": [
       "(146, 21)"
      ]
     },
     "execution_count": 4,
     "metadata": {},
     "output_type": "execute_result"
    }
   ],
   "source": [
    "# dimensão do dataframe\n",
    "df.shape"
   ]
  },
  {
   "cell_type": "code",
   "execution_count": 5,
   "metadata": {},
   "outputs": [
    {
     "data": {
      "text/html": [
       "<div>\n",
       "<style scoped>\n",
       "    .dataframe tbody tr th:only-of-type {\n",
       "        vertical-align: middle;\n",
       "    }\n",
       "\n",
       "    .dataframe tbody tr th {\n",
       "        vertical-align: top;\n",
       "    }\n",
       "\n",
       "    .dataframe thead th {\n",
       "        text-align: right;\n",
       "    }\n",
       "</style>\n",
       "<table border=\"1\" class=\"dataframe\">\n",
       "  <thead>\n",
       "    <tr style=\"text-align: right;\">\n",
       "      <th></th>\n",
       "      <th>salary</th>\n",
       "      <th>to_messages</th>\n",
       "      <th>deferral_payments</th>\n",
       "      <th>total_payments</th>\n",
       "      <th>exercised_stock_options</th>\n",
       "      <th>bonus</th>\n",
       "      <th>restricted_stock</th>\n",
       "      <th>shared_receipt_with_poi</th>\n",
       "      <th>restricted_stock_deferred</th>\n",
       "      <th>total_stock_value</th>\n",
       "      <th>...</th>\n",
       "      <th>loan_advances</th>\n",
       "      <th>from_messages</th>\n",
       "      <th>other</th>\n",
       "      <th>from_this_person_to_poi</th>\n",
       "      <th>poi</th>\n",
       "      <th>director_fees</th>\n",
       "      <th>deferred_income</th>\n",
       "      <th>long_term_incentive</th>\n",
       "      <th>email_address</th>\n",
       "      <th>from_poi_to_this_person</th>\n",
       "    </tr>\n",
       "  </thead>\n",
       "  <tbody>\n",
       "    <tr>\n",
       "      <th>KAMINSKI WINCENTY J</th>\n",
       "      <td>275101</td>\n",
       "      <td>4607</td>\n",
       "      <td>NaN</td>\n",
       "      <td>1086821</td>\n",
       "      <td>850010</td>\n",
       "      <td>400000</td>\n",
       "      <td>126027</td>\n",
       "      <td>583</td>\n",
       "      <td>NaN</td>\n",
       "      <td>976037</td>\n",
       "      <td>...</td>\n",
       "      <td>NaN</td>\n",
       "      <td>14368</td>\n",
       "      <td>4669</td>\n",
       "      <td>171</td>\n",
       "      <td>False</td>\n",
       "      <td>NaN</td>\n",
       "      <td>NaN</td>\n",
       "      <td>323466</td>\n",
       "      <td>vince.kaminski@enron.com</td>\n",
       "      <td>41</td>\n",
       "    </tr>\n",
       "    <tr>\n",
       "      <th>WROBEL BRUCE</th>\n",
       "      <td>NaN</td>\n",
       "      <td>NaN</td>\n",
       "      <td>NaN</td>\n",
       "      <td>NaN</td>\n",
       "      <td>139130</td>\n",
       "      <td>NaN</td>\n",
       "      <td>NaN</td>\n",
       "      <td>NaN</td>\n",
       "      <td>NaN</td>\n",
       "      <td>139130</td>\n",
       "      <td>...</td>\n",
       "      <td>NaN</td>\n",
       "      <td>NaN</td>\n",
       "      <td>NaN</td>\n",
       "      <td>NaN</td>\n",
       "      <td>False</td>\n",
       "      <td>NaN</td>\n",
       "      <td>NaN</td>\n",
       "      <td>NaN</td>\n",
       "      <td>NaN</td>\n",
       "      <td>NaN</td>\n",
       "    </tr>\n",
       "    <tr>\n",
       "      <th>CORDES WILLIAM R</th>\n",
       "      <td>NaN</td>\n",
       "      <td>764</td>\n",
       "      <td>NaN</td>\n",
       "      <td>NaN</td>\n",
       "      <td>651850</td>\n",
       "      <td>NaN</td>\n",
       "      <td>386335</td>\n",
       "      <td>58</td>\n",
       "      <td>NaN</td>\n",
       "      <td>1038185</td>\n",
       "      <td>...</td>\n",
       "      <td>NaN</td>\n",
       "      <td>12</td>\n",
       "      <td>NaN</td>\n",
       "      <td>0</td>\n",
       "      <td>False</td>\n",
       "      <td>NaN</td>\n",
       "      <td>NaN</td>\n",
       "      <td>NaN</td>\n",
       "      <td>bill.cordes@enron.com</td>\n",
       "      <td>10</td>\n",
       "    </tr>\n",
       "    <tr>\n",
       "      <th>LOCKHART EUGENE E</th>\n",
       "      <td>NaN</td>\n",
       "      <td>NaN</td>\n",
       "      <td>NaN</td>\n",
       "      <td>NaN</td>\n",
       "      <td>NaN</td>\n",
       "      <td>NaN</td>\n",
       "      <td>NaN</td>\n",
       "      <td>NaN</td>\n",
       "      <td>NaN</td>\n",
       "      <td>NaN</td>\n",
       "      <td>...</td>\n",
       "      <td>NaN</td>\n",
       "      <td>NaN</td>\n",
       "      <td>NaN</td>\n",
       "      <td>NaN</td>\n",
       "      <td>False</td>\n",
       "      <td>NaN</td>\n",
       "      <td>NaN</td>\n",
       "      <td>NaN</td>\n",
       "      <td>NaN</td>\n",
       "      <td>NaN</td>\n",
       "    </tr>\n",
       "    <tr>\n",
       "      <th>WINOKUR JR. HERBERT S</th>\n",
       "      <td>NaN</td>\n",
       "      <td>NaN</td>\n",
       "      <td>NaN</td>\n",
       "      <td>84992</td>\n",
       "      <td>NaN</td>\n",
       "      <td>NaN</td>\n",
       "      <td>NaN</td>\n",
       "      <td>NaN</td>\n",
       "      <td>NaN</td>\n",
       "      <td>NaN</td>\n",
       "      <td>...</td>\n",
       "      <td>NaN</td>\n",
       "      <td>NaN</td>\n",
       "      <td>NaN</td>\n",
       "      <td>NaN</td>\n",
       "      <td>False</td>\n",
       "      <td>108579</td>\n",
       "      <td>-25000</td>\n",
       "      <td>NaN</td>\n",
       "      <td>NaN</td>\n",
       "      <td>NaN</td>\n",
       "    </tr>\n",
       "  </tbody>\n",
       "</table>\n",
       "<p>5 rows × 21 columns</p>\n",
       "</div>"
      ],
      "text/plain": [
       "                       salary to_messages deferral_payments total_payments  \\\n",
       "KAMINSKI WINCENTY J    275101        4607               NaN        1086821   \n",
       "WROBEL BRUCE              NaN         NaN               NaN            NaN   \n",
       "CORDES WILLIAM R          NaN         764               NaN            NaN   \n",
       "LOCKHART EUGENE E         NaN         NaN               NaN            NaN   \n",
       "WINOKUR JR. HERBERT S     NaN         NaN               NaN          84992   \n",
       "\n",
       "                      exercised_stock_options   bonus restricted_stock  \\\n",
       "KAMINSKI WINCENTY J                    850010  400000           126027   \n",
       "WROBEL BRUCE                           139130     NaN              NaN   \n",
       "CORDES WILLIAM R                       651850     NaN           386335   \n",
       "LOCKHART EUGENE E                         NaN     NaN              NaN   \n",
       "WINOKUR JR. HERBERT S                     NaN     NaN              NaN   \n",
       "\n",
       "                      shared_receipt_with_poi restricted_stock_deferred  \\\n",
       "KAMINSKI WINCENTY J                       583                       NaN   \n",
       "WROBEL BRUCE                              NaN                       NaN   \n",
       "CORDES WILLIAM R                           58                       NaN   \n",
       "LOCKHART EUGENE E                         NaN                       NaN   \n",
       "WINOKUR JR. HERBERT S                     NaN                       NaN   \n",
       "\n",
       "                      total_stock_value  ... loan_advances from_messages  \\\n",
       "KAMINSKI WINCENTY J              976037  ...           NaN         14368   \n",
       "WROBEL BRUCE                     139130  ...           NaN           NaN   \n",
       "CORDES WILLIAM R                1038185  ...           NaN            12   \n",
       "LOCKHART EUGENE E                   NaN  ...           NaN           NaN   \n",
       "WINOKUR JR. HERBERT S               NaN  ...           NaN           NaN   \n",
       "\n",
       "                      other from_this_person_to_poi    poi  director_fees  \\\n",
       "KAMINSKI WINCENTY J    4669                     171  False            NaN   \n",
       "WROBEL BRUCE            NaN                     NaN  False            NaN   \n",
       "CORDES WILLIAM R        NaN                       0  False            NaN   \n",
       "LOCKHART EUGENE E       NaN                     NaN  False            NaN   \n",
       "WINOKUR JR. HERBERT S   NaN                     NaN  False         108579   \n",
       "\n",
       "                      deferred_income long_term_incentive  \\\n",
       "KAMINSKI WINCENTY J               NaN              323466   \n",
       "WROBEL BRUCE                      NaN                 NaN   \n",
       "CORDES WILLIAM R                  NaN                 NaN   \n",
       "LOCKHART EUGENE E                 NaN                 NaN   \n",
       "WINOKUR JR. HERBERT S          -25000                 NaN   \n",
       "\n",
       "                                  email_address from_poi_to_this_person  \n",
       "KAMINSKI WINCENTY J    vince.kaminski@enron.com                      41  \n",
       "WROBEL BRUCE                                NaN                     NaN  \n",
       "CORDES WILLIAM R          bill.cordes@enron.com                      10  \n",
       "LOCKHART EUGENE E                           NaN                     NaN  \n",
       "WINOKUR JR. HERBERT S                       NaN                     NaN  \n",
       "\n",
       "[5 rows x 21 columns]"
      ]
     },
     "execution_count": 5,
     "metadata": {},
     "output_type": "execute_result"
    }
   ],
   "source": [
    "# visualizar alguns dados\n",
    "df.sample(5)"
   ]
  },
  {
   "cell_type": "markdown",
   "metadata": {},
   "source": [
    "#### É possível visualizar diversos valores faltantes (NaN). Para evitar problemas na análise, transformamos esses valores em `null`"
   ]
  },
  {
   "cell_type": "code",
   "execution_count": 6,
   "metadata": {},
   "outputs": [],
   "source": [
    "# Atribuindo null a valores faltantes\n",
    "df = df.replace(['NaN', 'nan', 'None'], np.nan)"
   ]
  },
  {
   "cell_type": "code",
   "execution_count": 7,
   "metadata": {},
   "outputs": [
    {
     "name": "stdout",
     "output_type": "stream",
     "text": [
      "<class 'pandas.core.frame.DataFrame'>\n",
      "Index: 146 entries, ALLEN PHILLIP K to YEAP SOON\n",
      "Data columns (total 21 columns):\n",
      "salary                       95 non-null float64\n",
      "to_messages                  86 non-null float64\n",
      "deferral_payments            39 non-null float64\n",
      "total_payments               125 non-null float64\n",
      "exercised_stock_options      102 non-null float64\n",
      "bonus                        82 non-null float64\n",
      "restricted_stock             110 non-null float64\n",
      "shared_receipt_with_poi      86 non-null float64\n",
      "restricted_stock_deferred    18 non-null float64\n",
      "total_stock_value            126 non-null float64\n",
      "expenses                     95 non-null float64\n",
      "loan_advances                4 non-null float64\n",
      "from_messages                86 non-null float64\n",
      "other                        93 non-null float64\n",
      "from_this_person_to_poi      86 non-null float64\n",
      "poi                          146 non-null bool\n",
      "director_fees                17 non-null float64\n",
      "deferred_income              49 non-null float64\n",
      "long_term_incentive          66 non-null float64\n",
      "email_address                111 non-null object\n",
      "from_poi_to_this_person      86 non-null float64\n",
      "dtypes: bool(1), float64(19), object(1)\n",
      "memory usage: 24.1+ KB\n"
     ]
    }
   ],
   "source": [
    "df.info()"
   ]
  },
  {
   "cell_type": "code",
   "execution_count": 8,
   "metadata": {},
   "outputs": [
    {
     "name": "stdout",
     "output_type": "stream",
     "text": [
      "O dataset possui 21 caracteristicas.\n"
     ]
    }
   ],
   "source": [
    "print('O dataset possui ' + str(len(df.columns)) + ' caracteristicas.')"
   ]
  },
  {
   "cell_type": "code",
   "execution_count": 9,
   "metadata": {},
   "outputs": [
    {
     "data": {
      "text/plain": [
       "False    128\n",
       "True      18\n",
       "Name: poi, dtype: int64"
      ]
     },
     "execution_count": 9,
     "metadata": {},
     "output_type": "execute_result"
    }
   ],
   "source": [
    "# contando POIs\n",
    "df.poi.value_counts()"
   ]
  },
  {
   "cell_type": "markdown",
   "metadata": {},
   "source": [
    "#### No total de 146 funcionários: \n",
    "- 128 não são POI\n",
    "- 18 são POI."
   ]
  },
  {
   "cell_type": "code",
   "execution_count": 10,
   "metadata": {},
   "outputs": [
    {
     "data": {
      "text/html": [
       "<div>\n",
       "<style scoped>\n",
       "    .dataframe tbody tr th:only-of-type {\n",
       "        vertical-align: middle;\n",
       "    }\n",
       "\n",
       "    .dataframe tbody tr th {\n",
       "        vertical-align: top;\n",
       "    }\n",
       "\n",
       "    .dataframe thead th {\n",
       "        text-align: right;\n",
       "    }\n",
       "</style>\n",
       "<table border=\"1\" class=\"dataframe\">\n",
       "  <thead>\n",
       "    <tr style=\"text-align: right;\">\n",
       "      <th></th>\n",
       "      <th>salary</th>\n",
       "      <th>to_messages</th>\n",
       "      <th>deferral_payments</th>\n",
       "      <th>total_payments</th>\n",
       "      <th>exercised_stock_options</th>\n",
       "      <th>bonus</th>\n",
       "      <th>restricted_stock</th>\n",
       "      <th>shared_receipt_with_poi</th>\n",
       "      <th>restricted_stock_deferred</th>\n",
       "      <th>total_stock_value</th>\n",
       "      <th>...</th>\n",
       "      <th>loan_advances</th>\n",
       "      <th>from_messages</th>\n",
       "      <th>other</th>\n",
       "      <th>from_this_person_to_poi</th>\n",
       "      <th>poi</th>\n",
       "      <th>director_fees</th>\n",
       "      <th>deferred_income</th>\n",
       "      <th>long_term_incentive</th>\n",
       "      <th>email_address</th>\n",
       "      <th>from_poi_to_this_person</th>\n",
       "    </tr>\n",
       "  </thead>\n",
       "  <tbody>\n",
       "    <tr>\n",
       "      <th>ALLEN PHILLIP K</th>\n",
       "      <td>201955.0</td>\n",
       "      <td>2902.0</td>\n",
       "      <td>2869717.0</td>\n",
       "      <td>4484442.0</td>\n",
       "      <td>1729541.0</td>\n",
       "      <td>4175000.0</td>\n",
       "      <td>126027.0</td>\n",
       "      <td>1407.0</td>\n",
       "      <td>-126027.0</td>\n",
       "      <td>1729541.0</td>\n",
       "      <td>...</td>\n",
       "      <td>NaN</td>\n",
       "      <td>2195.0</td>\n",
       "      <td>152.0</td>\n",
       "      <td>65.0</td>\n",
       "      <td>False</td>\n",
       "      <td>NaN</td>\n",
       "      <td>-3081055.0</td>\n",
       "      <td>304805.0</td>\n",
       "      <td>phillip.allen@enron.com</td>\n",
       "      <td>47.0</td>\n",
       "    </tr>\n",
       "    <tr>\n",
       "      <th>BADUM JAMES P</th>\n",
       "      <td>NaN</td>\n",
       "      <td>NaN</td>\n",
       "      <td>178980.0</td>\n",
       "      <td>182466.0</td>\n",
       "      <td>257817.0</td>\n",
       "      <td>NaN</td>\n",
       "      <td>NaN</td>\n",
       "      <td>NaN</td>\n",
       "      <td>NaN</td>\n",
       "      <td>257817.0</td>\n",
       "      <td>...</td>\n",
       "      <td>NaN</td>\n",
       "      <td>NaN</td>\n",
       "      <td>NaN</td>\n",
       "      <td>NaN</td>\n",
       "      <td>False</td>\n",
       "      <td>NaN</td>\n",
       "      <td>NaN</td>\n",
       "      <td>NaN</td>\n",
       "      <td>NaN</td>\n",
       "      <td>NaN</td>\n",
       "    </tr>\n",
       "    <tr>\n",
       "      <th>BANNANTINE JAMES M</th>\n",
       "      <td>477.0</td>\n",
       "      <td>566.0</td>\n",
       "      <td>NaN</td>\n",
       "      <td>916197.0</td>\n",
       "      <td>4046157.0</td>\n",
       "      <td>NaN</td>\n",
       "      <td>1757552.0</td>\n",
       "      <td>465.0</td>\n",
       "      <td>-560222.0</td>\n",
       "      <td>5243487.0</td>\n",
       "      <td>...</td>\n",
       "      <td>NaN</td>\n",
       "      <td>29.0</td>\n",
       "      <td>864523.0</td>\n",
       "      <td>0.0</td>\n",
       "      <td>False</td>\n",
       "      <td>NaN</td>\n",
       "      <td>-5104.0</td>\n",
       "      <td>NaN</td>\n",
       "      <td>james.bannantine@enron.com</td>\n",
       "      <td>39.0</td>\n",
       "    </tr>\n",
       "    <tr>\n",
       "      <th>BAXTER JOHN C</th>\n",
       "      <td>267102.0</td>\n",
       "      <td>NaN</td>\n",
       "      <td>1295738.0</td>\n",
       "      <td>5634343.0</td>\n",
       "      <td>6680544.0</td>\n",
       "      <td>1200000.0</td>\n",
       "      <td>3942714.0</td>\n",
       "      <td>NaN</td>\n",
       "      <td>NaN</td>\n",
       "      <td>10623258.0</td>\n",
       "      <td>...</td>\n",
       "      <td>NaN</td>\n",
       "      <td>NaN</td>\n",
       "      <td>2660303.0</td>\n",
       "      <td>NaN</td>\n",
       "      <td>False</td>\n",
       "      <td>NaN</td>\n",
       "      <td>-1386055.0</td>\n",
       "      <td>1586055.0</td>\n",
       "      <td>NaN</td>\n",
       "      <td>NaN</td>\n",
       "    </tr>\n",
       "    <tr>\n",
       "      <th>BAY FRANKLIN R</th>\n",
       "      <td>239671.0</td>\n",
       "      <td>NaN</td>\n",
       "      <td>260455.0</td>\n",
       "      <td>827696.0</td>\n",
       "      <td>NaN</td>\n",
       "      <td>400000.0</td>\n",
       "      <td>145796.0</td>\n",
       "      <td>NaN</td>\n",
       "      <td>-82782.0</td>\n",
       "      <td>63014.0</td>\n",
       "      <td>...</td>\n",
       "      <td>NaN</td>\n",
       "      <td>NaN</td>\n",
       "      <td>69.0</td>\n",
       "      <td>NaN</td>\n",
       "      <td>False</td>\n",
       "      <td>NaN</td>\n",
       "      <td>-201641.0</td>\n",
       "      <td>NaN</td>\n",
       "      <td>frank.bay@enron.com</td>\n",
       "      <td>NaN</td>\n",
       "    </tr>\n",
       "  </tbody>\n",
       "</table>\n",
       "<p>5 rows × 21 columns</p>\n",
       "</div>"
      ],
      "text/plain": [
       "                      salary  to_messages  deferral_payments  total_payments  \\\n",
       "ALLEN PHILLIP K     201955.0       2902.0          2869717.0       4484442.0   \n",
       "BADUM JAMES P            NaN          NaN           178980.0        182466.0   \n",
       "BANNANTINE JAMES M     477.0        566.0                NaN        916197.0   \n",
       "BAXTER JOHN C       267102.0          NaN          1295738.0       5634343.0   \n",
       "BAY FRANKLIN R      239671.0          NaN           260455.0        827696.0   \n",
       "\n",
       "                    exercised_stock_options      bonus  restricted_stock  \\\n",
       "ALLEN PHILLIP K                   1729541.0  4175000.0          126027.0   \n",
       "BADUM JAMES P                      257817.0        NaN               NaN   \n",
       "BANNANTINE JAMES M                4046157.0        NaN         1757552.0   \n",
       "BAXTER JOHN C                     6680544.0  1200000.0         3942714.0   \n",
       "BAY FRANKLIN R                          NaN   400000.0          145796.0   \n",
       "\n",
       "                    shared_receipt_with_poi  restricted_stock_deferred  \\\n",
       "ALLEN PHILLIP K                      1407.0                  -126027.0   \n",
       "BADUM JAMES P                           NaN                        NaN   \n",
       "BANNANTINE JAMES M                    465.0                  -560222.0   \n",
       "BAXTER JOHN C                           NaN                        NaN   \n",
       "BAY FRANKLIN R                          NaN                   -82782.0   \n",
       "\n",
       "                    total_stock_value  ...  loan_advances  from_messages  \\\n",
       "ALLEN PHILLIP K             1729541.0  ...            NaN         2195.0   \n",
       "BADUM JAMES P                257817.0  ...            NaN            NaN   \n",
       "BANNANTINE JAMES M          5243487.0  ...            NaN           29.0   \n",
       "BAXTER JOHN C              10623258.0  ...            NaN            NaN   \n",
       "BAY FRANKLIN R                63014.0  ...            NaN            NaN   \n",
       "\n",
       "                        other  from_this_person_to_poi    poi  director_fees  \\\n",
       "ALLEN PHILLIP K         152.0                     65.0  False            NaN   \n",
       "BADUM JAMES P             NaN                      NaN  False            NaN   \n",
       "BANNANTINE JAMES M   864523.0                      0.0  False            NaN   \n",
       "BAXTER JOHN C       2660303.0                      NaN  False            NaN   \n",
       "BAY FRANKLIN R           69.0                      NaN  False            NaN   \n",
       "\n",
       "                    deferred_income  long_term_incentive  \\\n",
       "ALLEN PHILLIP K          -3081055.0             304805.0   \n",
       "BADUM JAMES P                   NaN                  NaN   \n",
       "BANNANTINE JAMES M          -5104.0                  NaN   \n",
       "BAXTER JOHN C            -1386055.0            1586055.0   \n",
       "BAY FRANKLIN R            -201641.0                  NaN   \n",
       "\n",
       "                                 email_address from_poi_to_this_person  \n",
       "ALLEN PHILLIP K        phillip.allen@enron.com                    47.0  \n",
       "BADUM JAMES P                              NaN                     NaN  \n",
       "BANNANTINE JAMES M  james.bannantine@enron.com                    39.0  \n",
       "BAXTER JOHN C                              NaN                     NaN  \n",
       "BAY FRANKLIN R             frank.bay@enron.com                     NaN  \n",
       "\n",
       "[5 rows x 21 columns]"
      ]
     },
     "execution_count": 10,
     "metadata": {},
     "output_type": "execute_result"
    }
   ],
   "source": [
    "df.head()"
   ]
  },
  {
   "cell_type": "markdown",
   "metadata": {},
   "source": [
    "# Selecionando e criando features\n",
    "\n",
    "Essa etapa, também conhecida como *feature selection* e *feature engineering* trata a questão de como criar o melhor conjunto de dados possível para treinar um modelo."
   ]
  },
  {
   "cell_type": "markdown",
   "metadata": {},
   "source": [
    "### Procurando bons atributos\n",
    "\n",
    "Como nosso objetivo é identificar fraude, um modo de encontrar bons candidatos a features é encontrando as variáveis com mais outliers. Entre os modos disponíveis temos:\n",
    "- Box plot\n",
    "- Scatter plot\n",
    "- Z-score\n",
    "- IQR score\n",
    "\n",
    "Nessa caso vamos utilizar o IQR score, porque ele apresenta uma lista dos outliers identificados pra cada variável."
   ]
  },
  {
   "cell_type": "code",
   "execution_count": 11,
   "metadata": {},
   "outputs": [],
   "source": [
    "# Limpando coluna object para uma copia do dataframe\n",
    "df_o1 = df.drop(['email_address'], axis=1)"
   ]
  },
  {
   "cell_type": "code",
   "execution_count": 12,
   "metadata": {},
   "outputs": [
    {
     "name": "stdout",
     "output_type": "stream",
     "text": [
      "salary                         100301.00\n",
      "to_messages                      2093.50\n",
      "deferral_payments              921098.50\n",
      "total_payments                1698788.00\n",
      "exercised_stock_options       2019837.75\n",
      "bonus                          768750.00\n",
      "restricted_stock               748351.75\n",
      "shared_receipt_with_poi          1638.50\n",
      "restricted_stock_deferred      314612.00\n",
      "total_stock_value             2455336.50\n",
      "expenses                        57338.50\n",
      "loan_advances                80525000.00\n",
      "from_messages                     122.75\n",
      "other                          360881.00\n",
      "from_this_person_to_poi            23.75\n",
      "poi                                 0.00\n",
      "director_fees                   15000.00\n",
      "deferred_income                656516.00\n",
      "long_term_incentive            657422.00\n",
      "from_poi_to_this_person            62.25\n",
      "dtype: float64\n"
     ]
    }
   ],
   "source": [
    "# Primeiro calculamos o IQR\n",
    "Q1 = df_o1.quantile(0.25)\n",
    "Q3 = df_o1.quantile(0.75)\n",
    "IQR = Q3 - Q1\n",
    "print(IQR)"
   ]
  },
  {
   "cell_type": "code",
   "execution_count": 13,
   "metadata": {},
   "outputs": [
    {
     "data": {
      "text/plain": [
       "poi                          18\n",
       "from_messages                17\n",
       "total_stock_value            16\n",
       "restricted_stock             15\n",
       "from_this_person_to_poi      13\n",
       "exercised_stock_options      12\n",
       "total_payments               11\n",
       "bonus                        11\n",
       "from_poi_to_this_person      11\n",
       "other                        11\n",
       "salary                        9\n",
       "to_messages                   7\n",
       "director_fees                 6\n",
       "deferred_income               6\n",
       "long_term_incentive           5\n",
       "deferral_payments             5\n",
       "expenses                      4\n",
       "restricted_stock_deferred     3\n",
       "shared_receipt_with_poi       2\n",
       "loan_advances                 0\n",
       "dtype: int64"
      ]
     },
     "execution_count": 13,
     "metadata": {},
     "output_type": "execute_result"
    }
   ],
   "source": [
    "# Aqui listamos o número de outliers por atributo\n",
    "n_out = ((df_o1 < (Q1 - 1.5 * IQR)) | (df_o1 > (Q3 + 1.5 * IQR))).sum()\n",
    "n_out.sort_values(ascending=False)"
   ]
  },
  {
   "cell_type": "code",
   "execution_count": 151,
   "metadata": {},
   "outputs": [],
   "source": [
    "### Task 1: Select what features you'll use.\n",
    "### features_list is a list of strings, each of which is a feature name.\n",
    "### The first feature must be \"poi\".\n",
    "features_list = ['poi','salary'] # You will need to use more features\n",
    "\n",
    "# Minha primeira lista de features \n",
    "my_features_list = ['poi', \n",
    "                    'total_stock_value', \n",
    "                    'from_messages', \n",
    "                    'restricted_stock', \n",
    "                    'from_this_person_to_poi',  \n",
    "                    'exercised_stock_options', \n",
    "                    'from_poi_to_this_person', \n",
    "                    'total_payments', \n",
    "                    'bonus', \n",
    "                    'salary']\n",
    "\n",
    "### Store to my_dataset for easy export below.\n",
    "my_dataset = data_dict"
   ]
  },
  {
   "cell_type": "markdown",
   "metadata": {},
   "source": [
    "#### Agregamos todas as features que mais possuiam outliers entre `poi`  e `salary`. \n",
    "#### A escolha de ir até `salary` foi arbitrária, já que a feature list inicial era formada justamente por `poi` e `salary`."
   ]
  },
  {
   "cell_type": "markdown",
   "metadata": {},
   "source": [
    "# Procurando por mais outliers\n",
    "Rodamos um gráfico de disperção considerando bônus e salário para ver se encontramos alguma distorção."
   ]
  },
  {
   "cell_type": "code",
   "execution_count": 15,
   "metadata": {},
   "outputs": [
    {
     "data": {
      "image/png": "[encoded data removed]",
      "text/plain": [
       "<Figure size 432x288 with 1 Axes>"
      ]
     },
     "metadata": {
      "needs_background": "light"
     },
     "output_type": "display_data"
    }
   ],
   "source": [
    "features_list = [\"bonus\", \"salary\"]\n",
    "data = featureFormat(data_dict, features_list)\n",
    "\n",
    "for point in data:\n",
    "    salary = point[0]\n",
    "    bonus = point[1]\n",
    "    plt.scatter( salary, bonus )\n",
    "\n",
    "plt.xlabel(\"salary\")\n",
    "plt.ylabel(\"bonus\")\n",
    "plt.show()"
   ]
  },
  {
   "cell_type": "markdown",
   "metadata": {},
   "source": [
    "#### Encontramos um valor que está muito distante de todo o restante dos dados, claramente um outlier"
   ]
  },
  {
   "cell_type": "code",
   "execution_count": 16,
   "metadata": {},
   "outputs": [
    {
     "data": {
      "text/html": [
       "<div>\n",
       "<style scoped>\n",
       "    .dataframe tbody tr th:only-of-type {\n",
       "        vertical-align: middle;\n",
       "    }\n",
       "\n",
       "    .dataframe tbody tr th {\n",
       "        vertical-align: top;\n",
       "    }\n",
       "\n",
       "    .dataframe thead th {\n",
       "        text-align: right;\n",
       "    }\n",
       "</style>\n",
       "<table border=\"1\" class=\"dataframe\">\n",
       "  <thead>\n",
       "    <tr style=\"text-align: right;\">\n",
       "      <th></th>\n",
       "      <th>salary</th>\n",
       "      <th>to_messages</th>\n",
       "      <th>deferral_payments</th>\n",
       "      <th>total_payments</th>\n",
       "      <th>exercised_stock_options</th>\n",
       "      <th>bonus</th>\n",
       "      <th>restricted_stock</th>\n",
       "      <th>shared_receipt_with_poi</th>\n",
       "      <th>restricted_stock_deferred</th>\n",
       "      <th>total_stock_value</th>\n",
       "      <th>...</th>\n",
       "      <th>loan_advances</th>\n",
       "      <th>from_messages</th>\n",
       "      <th>other</th>\n",
       "      <th>from_this_person_to_poi</th>\n",
       "      <th>poi</th>\n",
       "      <th>director_fees</th>\n",
       "      <th>deferred_income</th>\n",
       "      <th>long_term_incentive</th>\n",
       "      <th>email_address</th>\n",
       "      <th>from_poi_to_this_person</th>\n",
       "    </tr>\n",
       "  </thead>\n",
       "  <tbody>\n",
       "    <tr>\n",
       "      <th>TOTAL</th>\n",
       "      <td>26704229.0</td>\n",
       "      <td>NaN</td>\n",
       "      <td>32083396.0</td>\n",
       "      <td>309886585.0</td>\n",
       "      <td>311764000.0</td>\n",
       "      <td>97343619.0</td>\n",
       "      <td>130322299.0</td>\n",
       "      <td>NaN</td>\n",
       "      <td>-7576788.0</td>\n",
       "      <td>434509511.0</td>\n",
       "      <td>...</td>\n",
       "      <td>83925000.0</td>\n",
       "      <td>NaN</td>\n",
       "      <td>42667589.0</td>\n",
       "      <td>NaN</td>\n",
       "      <td>False</td>\n",
       "      <td>1398517.0</td>\n",
       "      <td>-27992891.0</td>\n",
       "      <td>48521928.0</td>\n",
       "      <td>NaN</td>\n",
       "      <td>NaN</td>\n",
       "    </tr>\n",
       "  </tbody>\n",
       "</table>\n",
       "<p>1 rows × 21 columns</p>\n",
       "</div>"
      ],
      "text/plain": [
       "           salary  to_messages  deferral_payments  total_payments  \\\n",
       "TOTAL  26704229.0          NaN         32083396.0     309886585.0   \n",
       "\n",
       "       exercised_stock_options       bonus  restricted_stock  \\\n",
       "TOTAL              311764000.0  97343619.0       130322299.0   \n",
       "\n",
       "       shared_receipt_with_poi  restricted_stock_deferred  total_stock_value  \\\n",
       "TOTAL                      NaN                 -7576788.0        434509511.0   \n",
       "\n",
       "       ...  loan_advances  from_messages       other  from_this_person_to_poi  \\\n",
       "TOTAL  ...     83925000.0            NaN  42667589.0                      NaN   \n",
       "\n",
       "         poi  director_fees  deferred_income  long_term_incentive  \\\n",
       "TOTAL  False      1398517.0      -27992891.0           48521928.0   \n",
       "\n",
       "       email_address from_poi_to_this_person  \n",
       "TOTAL            NaN                     NaN  \n",
       "\n",
       "[1 rows x 21 columns]"
      ]
     },
     "execution_count": 16,
     "metadata": {},
     "output_type": "execute_result"
    }
   ],
   "source": [
    "# Visualizando outlier\n",
    "df.nlargest(1, 'salary')"
   ]
  },
  {
   "cell_type": "markdown",
   "metadata": {},
   "source": [
    "#### Identificamos uma linha que é a soma de todos os funcionários, ou seja, devemos remove-lá."
   ]
  },
  {
   "cell_type": "code",
   "execution_count": 17,
   "metadata": {},
   "outputs": [],
   "source": [
    "### Task 2: Remove outliers\n",
    "#removendo outlier\n",
    "data_dict.pop('TOTAL', None)\n",
    "df = df.drop(['TOTAL'])"
   ]
  },
  {
   "cell_type": "code",
   "execution_count": 18,
   "metadata": {},
   "outputs": [
    {
     "data": {
      "image/png": "[encoded data removed]",
      "text/plain": [
       "<Figure size 432x288 with 1 Axes>"
      ]
     },
     "metadata": {
      "needs_background": "light"
     },
     "output_type": "display_data"
    }
   ],
   "source": [
    "#verificando se o outlier foi removido corretamente\n",
    "data_up = featureFormat(data_dict, features_list)\n",
    "for point in data_up:\n",
    "    salary = point[0]\n",
    "    bonus = point[1]\n",
    "    plt.scatter( salary, bonus )\n",
    "    \n",
    "\n",
    "plt.xlabel(\"salary\")\n",
    "plt.xticks(np.arange(0, 10000000, step=2000000))\n",
    "plt.ylabel(\"bonus\")\n",
    "plt.show()"
   ]
  },
  {
   "cell_type": "markdown",
   "metadata": {},
   "source": [
    "#### Após remover o outlier é possível visualizar melhor a disperção."
   ]
  },
  {
   "cell_type": "code",
   "execution_count": 19,
   "metadata": {},
   "outputs": [
    {
     "data": {
      "text/plain": [
       "salary                        94\n",
       "to_messages                   86\n",
       "deferral_payments             38\n",
       "total_payments               124\n",
       "exercised_stock_options      101\n",
       "bonus                         81\n",
       "restricted_stock             109\n",
       "shared_receipt_with_poi       86\n",
       "restricted_stock_deferred     17\n",
       "total_stock_value            125\n",
       "expenses                      94\n",
       "loan_advances                  3\n",
       "from_messages                 86\n",
       "other                         92\n",
       "from_this_person_to_poi       86\n",
       "poi                          145\n",
       "director_fees                 16\n",
       "deferred_income               48\n",
       "long_term_incentive           65\n",
       "email_address                111\n",
       "from_poi_to_this_person       86\n",
       "dtype: int64"
      ]
     },
     "execution_count": 19,
     "metadata": {},
     "output_type": "execute_result"
    }
   ],
   "source": [
    "df.count() "
   ]
  },
  {
   "cell_type": "markdown",
   "metadata": {},
   "source": [
    "#### Verificamos a quantidade de variáveis por cada atributo. Apenas `poi` possuem todos os valores."
   ]
  },
  {
   "cell_type": "code",
   "execution_count": 20,
   "metadata": {},
   "outputs": [
    {
     "data": {
      "text/plain": [
       "LOCKHART EUGENE E                20\n",
       "WROBEL BRUCE                     18\n",
       "WHALEY DAVID A                   18\n",
       "GRAMM WENDY L                    18\n",
       "THE TRAVEL AGENCY IN THE PARK    18\n",
       "GILLIS JOHN                      17\n",
       "WODRASKA JOHN                    17\n",
       "SAVAGE FRANK                     17\n",
       "SCRIMSHAW MATTHEW                17\n",
       "CLINE KENNETH W                  17\n",
       "WAKEHAM JOHN                     17\n",
       "CHAN RONNIE                      16\n",
       "MENDELSOHN JOHN                  16\n",
       "PEREIRA PAULO V. FERRAZ          16\n",
       "BLAKE JR. NORMAN P               16\n",
       "dtype: int64"
      ]
     },
     "execution_count": 20,
     "metadata": {},
     "output_type": "execute_result"
    }
   ],
   "source": [
    "emp_nan = df.isna().sum(axis=1)\n",
    "emp_nan.sort_values(ascending=False).head(15)"
   ]
  },
  {
   "cell_type": "markdown",
   "metadata": {},
   "source": [
    "#### Lista de funcionários que possuem o maior número de dados faltantes. \n",
    "- De 21 características, `LOCKHART EUGENE E` possui apenas uma.\n",
    "- `THE TRAVEL AGENCY IN THE PARK` não parece ser o nome de alguém.\n",
    "- Temos linhas com muitos dados faltantes, acima de 65%"
   ]
  },
  {
   "cell_type": "code",
   "execution_count": 175,
   "metadata": {},
   "outputs": [
    {
     "ename": "KeyError",
     "evalue": "\"['LOCKHART EUGENE E' 'THE TRAVEL AGENCY IN THE PARK'] not found in axis\"",
     "output_type": "error",
     "traceback": [
      "\u001b[0;31m---------------------------------------------------------------------------\u001b[0m",
      "\u001b[0;31mKeyError\u001b[0m                                  Traceback (most recent call last)",
      "\u001b[0;32m<ipython-input-175-d3f2641545e7>\u001b[0m in \u001b[0;36m<module>\u001b[0;34m()\u001b[0m\n\u001b[1;32m      2\u001b[0m \u001b[0mdata_dict\u001b[0m\u001b[0;34m.\u001b[0m\u001b[0mpop\u001b[0m\u001b[0;34m(\u001b[0m\u001b[0;34m'LOCKHART EUGENE E'\u001b[0m\u001b[0;34m,\u001b[0m \u001b[0mNone\u001b[0m\u001b[0;34m)\u001b[0m\u001b[0;34m\u001b[0m\u001b[0m\n\u001b[1;32m      3\u001b[0m \u001b[0mdata_dict\u001b[0m\u001b[0;34m.\u001b[0m\u001b[0mpop\u001b[0m\u001b[0;34m(\u001b[0m\u001b[0;34m'THE TRAVEL AGENCY IN THE PARK'\u001b[0m\u001b[0;34m,\u001b[0m \u001b[0mNone\u001b[0m\u001b[0;34m)\u001b[0m\u001b[0;34m\u001b[0m\u001b[0m\n\u001b[0;32m----> 4\u001b[0;31m \u001b[0mdf\u001b[0m \u001b[0;34m=\u001b[0m \u001b[0mdf\u001b[0m\u001b[0;34m.\u001b[0m\u001b[0mdrop\u001b[0m\u001b[0;34m(\u001b[0m\u001b[0;34m[\u001b[0m\u001b[0;34m'LOCKHART EUGENE E'\u001b[0m\u001b[0;34m,\u001b[0m \u001b[0;34m'THE TRAVEL AGENCY IN THE PARK'\u001b[0m\u001b[0;34m]\u001b[0m\u001b[0;34m)\u001b[0m\u001b[0;34m\u001b[0m\u001b[0m\n\u001b[0m",
      "\u001b[0;32m/Users/saidwafiq/anaconda3/envs/py27/lib/python2.7/site-packages/pandas/core/frame.pyc\u001b[0m in \u001b[0;36mdrop\u001b[0;34m(self, labels, axis, index, columns, level, inplace, errors)\u001b[0m\n\u001b[1;32m   3928\u001b[0m                                            \u001b[0mindex\u001b[0m\u001b[0;34m=\u001b[0m\u001b[0mindex\u001b[0m\u001b[0;34m,\u001b[0m \u001b[0mcolumns\u001b[0m\u001b[0;34m=\u001b[0m\u001b[0mcolumns\u001b[0m\u001b[0;34m,\u001b[0m\u001b[0;34m\u001b[0m\u001b[0m\n\u001b[1;32m   3929\u001b[0m                                            \u001b[0mlevel\u001b[0m\u001b[0;34m=\u001b[0m\u001b[0mlevel\u001b[0m\u001b[0;34m,\u001b[0m \u001b[0minplace\u001b[0m\u001b[0;34m=\u001b[0m\u001b[0minplace\u001b[0m\u001b[0;34m,\u001b[0m\u001b[0;34m\u001b[0m\u001b[0m\n\u001b[0;32m-> 3930\u001b[0;31m                                            errors=errors)\n\u001b[0m\u001b[1;32m   3931\u001b[0m \u001b[0;34m\u001b[0m\u001b[0m\n\u001b[1;32m   3932\u001b[0m     @rewrite_axis_style_signature('mapper', [('copy', True),\n",
      "\u001b[0;32m/Users/saidwafiq/anaconda3/envs/py27/lib/python2.7/site-packages/pandas/core/generic.pyc\u001b[0m in \u001b[0;36mdrop\u001b[0;34m(self, labels, axis, index, columns, level, inplace, errors)\u001b[0m\n\u001b[1;32m   3768\u001b[0m         \u001b[0;32mfor\u001b[0m \u001b[0maxis\u001b[0m\u001b[0;34m,\u001b[0m \u001b[0mlabels\u001b[0m \u001b[0;32min\u001b[0m \u001b[0maxes\u001b[0m\u001b[0;34m.\u001b[0m\u001b[0mitems\u001b[0m\u001b[0;34m(\u001b[0m\u001b[0;34m)\u001b[0m\u001b[0;34m:\u001b[0m\u001b[0;34m\u001b[0m\u001b[0m\n\u001b[1;32m   3769\u001b[0m             \u001b[0;32mif\u001b[0m \u001b[0mlabels\u001b[0m \u001b[0;32mis\u001b[0m \u001b[0;32mnot\u001b[0m \u001b[0mNone\u001b[0m\u001b[0;34m:\u001b[0m\u001b[0;34m\u001b[0m\u001b[0m\n\u001b[0;32m-> 3770\u001b[0;31m                 \u001b[0mobj\u001b[0m \u001b[0;34m=\u001b[0m \u001b[0mobj\u001b[0m\u001b[0;34m.\u001b[0m\u001b[0m_drop_axis\u001b[0m\u001b[0;34m(\u001b[0m\u001b[0mlabels\u001b[0m\u001b[0;34m,\u001b[0m \u001b[0maxis\u001b[0m\u001b[0;34m,\u001b[0m \u001b[0mlevel\u001b[0m\u001b[0;34m=\u001b[0m\u001b[0mlevel\u001b[0m\u001b[0;34m,\u001b[0m \u001b[0merrors\u001b[0m\u001b[0;34m=\u001b[0m\u001b[0merrors\u001b[0m\u001b[0;34m)\u001b[0m\u001b[0;34m\u001b[0m\u001b[0m\n\u001b[0m\u001b[1;32m   3771\u001b[0m \u001b[0;34m\u001b[0m\u001b[0m\n\u001b[1;32m   3772\u001b[0m         \u001b[0;32mif\u001b[0m \u001b[0minplace\u001b[0m\u001b[0;34m:\u001b[0m\u001b[0;34m\u001b[0m\u001b[0m\n",
      "\u001b[0;32m/Users/saidwafiq/anaconda3/envs/py27/lib/python2.7/site-packages/pandas/core/generic.pyc\u001b[0m in \u001b[0;36m_drop_axis\u001b[0;34m(self, labels, axis, level, errors)\u001b[0m\n\u001b[1;32m   3800\u001b[0m                 \u001b[0mnew_axis\u001b[0m \u001b[0;34m=\u001b[0m \u001b[0maxis\u001b[0m\u001b[0;34m.\u001b[0m\u001b[0mdrop\u001b[0m\u001b[0;34m(\u001b[0m\u001b[0mlabels\u001b[0m\u001b[0;34m,\u001b[0m \u001b[0mlevel\u001b[0m\u001b[0;34m=\u001b[0m\u001b[0mlevel\u001b[0m\u001b[0;34m,\u001b[0m \u001b[0merrors\u001b[0m\u001b[0;34m=\u001b[0m\u001b[0merrors\u001b[0m\u001b[0;34m)\u001b[0m\u001b[0;34m\u001b[0m\u001b[0m\n\u001b[1;32m   3801\u001b[0m             \u001b[0;32melse\u001b[0m\u001b[0;34m:\u001b[0m\u001b[0;34m\u001b[0m\u001b[0m\n\u001b[0;32m-> 3802\u001b[0;31m                 \u001b[0mnew_axis\u001b[0m \u001b[0;34m=\u001b[0m \u001b[0maxis\u001b[0m\u001b[0;34m.\u001b[0m\u001b[0mdrop\u001b[0m\u001b[0;34m(\u001b[0m\u001b[0mlabels\u001b[0m\u001b[0;34m,\u001b[0m \u001b[0merrors\u001b[0m\u001b[0;34m=\u001b[0m\u001b[0merrors\u001b[0m\u001b[0;34m)\u001b[0m\u001b[0;34m\u001b[0m\u001b[0m\n\u001b[0m\u001b[1;32m   3803\u001b[0m             \u001b[0mresult\u001b[0m \u001b[0;34m=\u001b[0m \u001b[0mself\u001b[0m\u001b[0;34m.\u001b[0m\u001b[0mreindex\u001b[0m\u001b[0;34m(\u001b[0m\u001b[0;34m**\u001b[0m\u001b[0;34m{\u001b[0m\u001b[0maxis_name\u001b[0m\u001b[0;34m:\u001b[0m \u001b[0mnew_axis\u001b[0m\u001b[0;34m}\u001b[0m\u001b[0;34m)\u001b[0m\u001b[0;34m\u001b[0m\u001b[0m\n\u001b[1;32m   3804\u001b[0m \u001b[0;34m\u001b[0m\u001b[0m\n",
      "\u001b[0;32m/Users/saidwafiq/anaconda3/envs/py27/lib/python2.7/site-packages/pandas/core/indexes/base.pyc\u001b[0m in \u001b[0;36mdrop\u001b[0;34m(self, labels, errors)\u001b[0m\n\u001b[1;32m   4908\u001b[0m             \u001b[0;32mif\u001b[0m \u001b[0merrors\u001b[0m \u001b[0;34m!=\u001b[0m \u001b[0;34m'ignore'\u001b[0m\u001b[0;34m:\u001b[0m\u001b[0;34m\u001b[0m\u001b[0m\n\u001b[1;32m   4909\u001b[0m                 raise KeyError(\n\u001b[0;32m-> 4910\u001b[0;31m                     '{} not found in axis'.format(labels[mask]))\n\u001b[0m\u001b[1;32m   4911\u001b[0m             \u001b[0mindexer\u001b[0m \u001b[0;34m=\u001b[0m \u001b[0mindexer\u001b[0m\u001b[0;34m[\u001b[0m\u001b[0;34m~\u001b[0m\u001b[0mmask\u001b[0m\u001b[0;34m]\u001b[0m\u001b[0;34m\u001b[0m\u001b[0m\n\u001b[1;32m   4912\u001b[0m         \u001b[0;32mreturn\u001b[0m \u001b[0mself\u001b[0m\u001b[0;34m.\u001b[0m\u001b[0mdelete\u001b[0m\u001b[0;34m(\u001b[0m\u001b[0mindexer\u001b[0m\u001b[0;34m)\u001b[0m\u001b[0;34m\u001b[0m\u001b[0m\n",
      "\u001b[0;31mKeyError\u001b[0m: \"['LOCKHART EUGENE E' 'THE TRAVEL AGENCY IN THE PARK'] not found in axis\""
     ]
    }
   ],
   "source": [
    "# removendo últimos outliers\n",
    "data_dict.pop('LOCKHART EUGENE E', None)\n",
    "data_dict.pop('THE TRAVEL AGENCY IN THE PARK', None)\n",
    "df = df.drop(['LOCKHART EUGENE E', 'THE TRAVEL AGENCY IN THE PARK'])\n",
    "df = df.drop('email_address', axis=1)"
   ]
  },
  {
   "cell_type": "markdown",
   "metadata": {},
   "source": [
    "### Removendo linhas com muitos valores `NaN` \n",
    "\n",
    "Uma estratégia simples para lidar com dados faltantes é remover linhas que contém muitos valores `NaN`.\n",
    "\n",
    "Podemos fazer isso criando um novo dataframe com as linhas que contém os dados faltantes e usamos o dropna() para remove-las."
   ]
  },
  {
   "cell_type": "code",
   "execution_count": 117,
   "metadata": {},
   "outputs": [],
   "source": [
    "current_features = df.columns\n",
    "total_features = len(current_features)*1.0\n",
    "nan_rows = np.asarray(df.isnull().sum(axis=1).tolist())/total_features*100"
   ]
  },
  {
   "cell_type": "code",
   "execution_count": 124,
   "metadata": {},
   "outputs": [
    {
     "name": "stdout",
     "output_type": "stream",
     "text": [
      "Número de linhas com mais de 65% de valores NaN = 29\n"
     ]
    }
   ],
   "source": [
    "drop_rows = nan_rows>65\n",
    "print \"Número de linhas com mais de 65% de valores NaN =\",drop_rows.sum()"
   ]
  },
  {
   "cell_type": "code",
   "execution_count": 123,
   "metadata": {},
   "outputs": [
    {
     "name": "stderr",
     "output_type": "stream",
     "text": [
      "/Users/saidwafiq/anaconda3/envs/py27/lib/python2.7/site-packages/ipykernel_launcher.py:2: UserWarning: Boolean Series key will be reindexed to match DataFrame index.\n",
      "  \n"
     ]
    },
    {
     "data": {
      "text/html": [
       "<div>\n",
       "<style scoped>\n",
       "    .dataframe tbody tr th:only-of-type {\n",
       "        vertical-align: middle;\n",
       "    }\n",
       "\n",
       "    .dataframe tbody tr th {\n",
       "        vertical-align: top;\n",
       "    }\n",
       "\n",
       "    .dataframe thead th {\n",
       "        text-align: right;\n",
       "    }\n",
       "</style>\n",
       "<table border=\"1\" class=\"dataframe\">\n",
       "  <thead>\n",
       "    <tr style=\"text-align: right;\">\n",
       "      <th></th>\n",
       "      <th>salary</th>\n",
       "      <th>to_messages</th>\n",
       "      <th>deferral_payments</th>\n",
       "      <th>total_payments</th>\n",
       "      <th>exercised_stock_options</th>\n",
       "      <th>bonus</th>\n",
       "      <th>restricted_stock</th>\n",
       "      <th>shared_receipt_with_poi</th>\n",
       "      <th>restricted_stock_deferred</th>\n",
       "      <th>total_stock_value</th>\n",
       "      <th>...</th>\n",
       "      <th>from_messages</th>\n",
       "      <th>other</th>\n",
       "      <th>from_this_person_to_poi</th>\n",
       "      <th>poi</th>\n",
       "      <th>director_fees</th>\n",
       "      <th>deferred_income</th>\n",
       "      <th>long_term_incentive</th>\n",
       "      <th>email_address</th>\n",
       "      <th>from_poi_to_this_person</th>\n",
       "      <th>ts_ratio</th>\n",
       "    </tr>\n",
       "  </thead>\n",
       "  <tbody>\n",
       "  </tbody>\n",
       "</table>\n",
       "<p>0 rows × 22 columns</p>\n",
       "</div>"
      ],
      "text/plain": [
       "Empty DataFrame\n",
       "Columns: [salary, to_messages, deferral_payments, total_payments, exercised_stock_options, bonus, restricted_stock, shared_receipt_with_poi, restricted_stock_deferred, total_stock_value, expenses, loan_advances, from_messages, other, from_this_person_to_poi, poi, director_fees, deferred_income, long_term_incentive, email_address, from_poi_to_this_person, ts_ratio]\n",
       "Index: []\n",
       "\n",
       "[0 rows x 22 columns]"
      ]
     },
     "execution_count": 123,
     "metadata": {},
     "output_type": "execute_result"
    }
   ],
   "source": [
    "#Antes de remover, verificamos se alguma das linhas é um POI\n",
    "df[drop_rows][df['poi']==1]"
   ]
  },
  {
   "cell_type": "markdown",
   "metadata": {},
   "source": [
    "Nenhuma das linhas que serão removidas é POI, portanto podemos prosseguir com a remoção, pois não iremos aumentar nosso problema de dados desbalanceados."
   ]
  },
  {
   "cell_type": "code",
   "execution_count": 125,
   "metadata": {},
   "outputs": [],
   "source": [
    "df=df.drop(df.index[drop_rows.nonzero()])"
   ]
  },
  {
   "cell_type": "code",
   "execution_count": 155,
   "metadata": {},
   "outputs": [
    {
     "data": {
      "text/plain": [
       "JAEDICKE ROBERT                14\n",
       "HIRKO JOSEPH                   14\n",
       "LEWIS RICHARD                  13\n",
       "BAZELIDES PHILIP J             13\n",
       "BERBERIAN DAVID                13\n",
       "BROWN MICHAEL                  13\n",
       "HAYSLETT RODERICK J            13\n",
       "PIRO JIM                       13\n",
       "POWERS WILLIAM                 13\n",
       "YEAGER F SCOTT                 12\n",
       "FOWLER PEGGY                   12\n",
       "MCCARTY DANNY J                12\n",
       "HUGHES JAMES A                 12\n",
       "MCDONALD REBECCA               12\n",
       "MORAN MICHAEL P                12\n",
       "MORDAUNT KRISTINA M            12\n",
       "KISHKILL JOSEPH G              12\n",
       "CORDES WILLIAM R               12\n",
       "SHERRICK JEFFREY B             12\n",
       "STABLER FRANK                  12\n",
       "CUMBERLAND MICHAEL S           12\n",
       "SULLIVAN-SHAKLOVITZ COLLEEN    12\n",
       "FOY JOE                        11\n",
       "KOPPER MICHAEL J               11\n",
       "WHITE JR THOMAS E              11\n",
       "GOLD JOSEPH                    11\n",
       "PAI LOU L                      11\n",
       "OVERDYKE JR JERE C             11\n",
       "HAUG DAVID L                   11\n",
       "HAYES ROBERT E                 11\n",
       "dtype: int64"
      ]
     },
     "execution_count": 155,
     "metadata": {},
     "output_type": "execute_result"
    }
   ],
   "source": [
    "# verificando\n",
    "emp_nan = df.isna().sum(axis=1)\n",
    "emp_nan.sort_values(ascending=False).head(30)"
   ]
  },
  {
   "cell_type": "code",
   "execution_count": 138,
   "metadata": {},
   "outputs": [
    {
     "data": {
      "text/html": [
       "<div>\n",
       "<style scoped>\n",
       "    .dataframe tbody tr th:only-of-type {\n",
       "        vertical-align: middle;\n",
       "    }\n",
       "\n",
       "    .dataframe tbody tr th {\n",
       "        vertical-align: top;\n",
       "    }\n",
       "\n",
       "    .dataframe thead th {\n",
       "        text-align: right;\n",
       "    }\n",
       "</style>\n",
       "<table border=\"1\" class=\"dataframe\">\n",
       "  <thead>\n",
       "    <tr style=\"text-align: right;\">\n",
       "      <th></th>\n",
       "      <th>salary</th>\n",
       "      <th>to_messages</th>\n",
       "      <th>deferral_payments</th>\n",
       "      <th>total_payments</th>\n",
       "      <th>exercised_stock_options</th>\n",
       "      <th>bonus</th>\n",
       "      <th>restricted_stock</th>\n",
       "      <th>shared_receipt_with_poi</th>\n",
       "      <th>restricted_stock_deferred</th>\n",
       "      <th>total_stock_value</th>\n",
       "      <th>...</th>\n",
       "      <th>from_messages</th>\n",
       "      <th>other</th>\n",
       "      <th>from_this_person_to_poi</th>\n",
       "      <th>poi</th>\n",
       "      <th>director_fees</th>\n",
       "      <th>deferred_income</th>\n",
       "      <th>long_term_incentive</th>\n",
       "      <th>email_address</th>\n",
       "      <th>from_poi_to_this_person</th>\n",
       "      <th>ts_ratio</th>\n",
       "    </tr>\n",
       "  </thead>\n",
       "  <tbody>\n",
       "    <tr>\n",
       "      <th>BELDEN TIMOTHY N</th>\n",
       "      <td>213999.0</td>\n",
       "      <td>7991.0</td>\n",
       "      <td>2144013.0</td>\n",
       "      <td>5501630.0</td>\n",
       "      <td>953136.0</td>\n",
       "      <td>5249999.0</td>\n",
       "      <td>157569.0</td>\n",
       "      <td>5521.0</td>\n",
       "      <td>NaN</td>\n",
       "      <td>1110705.0</td>\n",
       "      <td>...</td>\n",
       "      <td>484.0</td>\n",
       "      <td>210698.0</td>\n",
       "      <td>108.0</td>\n",
       "      <td>True</td>\n",
       "      <td>NaN</td>\n",
       "      <td>-2334434.0</td>\n",
       "      <td>NaN</td>\n",
       "      <td>tim.belden@enron.com</td>\n",
       "      <td>228.0</td>\n",
       "      <td>25.708672</td>\n",
       "    </tr>\n",
       "    <tr>\n",
       "      <th>BOWEN JR RAYMOND M</th>\n",
       "      <td>278601.0</td>\n",
       "      <td>1858.0</td>\n",
       "      <td>NaN</td>\n",
       "      <td>2669589.0</td>\n",
       "      <td>NaN</td>\n",
       "      <td>1350000.0</td>\n",
       "      <td>252055.0</td>\n",
       "      <td>1593.0</td>\n",
       "      <td>NaN</td>\n",
       "      <td>252055.0</td>\n",
       "      <td>...</td>\n",
       "      <td>27.0</td>\n",
       "      <td>1621.0</td>\n",
       "      <td>15.0</td>\n",
       "      <td>True</td>\n",
       "      <td>NaN</td>\n",
       "      <td>-833.0</td>\n",
       "      <td>974293.0</td>\n",
       "      <td>raymond.bowen@enron.com</td>\n",
       "      <td>140.0</td>\n",
       "      <td>9.582123</td>\n",
       "    </tr>\n",
       "    <tr>\n",
       "      <th>CALGER CHRISTOPHER F</th>\n",
       "      <td>240189.0</td>\n",
       "      <td>2598.0</td>\n",
       "      <td>NaN</td>\n",
       "      <td>1639297.0</td>\n",
       "      <td>NaN</td>\n",
       "      <td>1250000.0</td>\n",
       "      <td>126027.0</td>\n",
       "      <td>2188.0</td>\n",
       "      <td>NaN</td>\n",
       "      <td>126027.0</td>\n",
       "      <td>...</td>\n",
       "      <td>144.0</td>\n",
       "      <td>486.0</td>\n",
       "      <td>25.0</td>\n",
       "      <td>True</td>\n",
       "      <td>NaN</td>\n",
       "      <td>-262500.0</td>\n",
       "      <td>375304.0</td>\n",
       "      <td>christopher.calger@enron.com</td>\n",
       "      <td>199.0</td>\n",
       "      <td>6.825029</td>\n",
       "    </tr>\n",
       "    <tr>\n",
       "      <th>CAUSEY RICHARD A</th>\n",
       "      <td>415189.0</td>\n",
       "      <td>1892.0</td>\n",
       "      <td>NaN</td>\n",
       "      <td>1868758.0</td>\n",
       "      <td>NaN</td>\n",
       "      <td>1000000.0</td>\n",
       "      <td>2502063.0</td>\n",
       "      <td>1585.0</td>\n",
       "      <td>NaN</td>\n",
       "      <td>2502063.0</td>\n",
       "      <td>...</td>\n",
       "      <td>49.0</td>\n",
       "      <td>307895.0</td>\n",
       "      <td>12.0</td>\n",
       "      <td>True</td>\n",
       "      <td>NaN</td>\n",
       "      <td>-235000.0</td>\n",
       "      <td>350000.0</td>\n",
       "      <td>richard.causey@enron.com</td>\n",
       "      <td>58.0</td>\n",
       "      <td>4.500981</td>\n",
       "    </tr>\n",
       "    <tr>\n",
       "      <th>COLWELL WESLEY</th>\n",
       "      <td>288542.0</td>\n",
       "      <td>1758.0</td>\n",
       "      <td>27610.0</td>\n",
       "      <td>1490344.0</td>\n",
       "      <td>NaN</td>\n",
       "      <td>1200000.0</td>\n",
       "      <td>698242.0</td>\n",
       "      <td>1132.0</td>\n",
       "      <td>NaN</td>\n",
       "      <td>698242.0</td>\n",
       "      <td>...</td>\n",
       "      <td>40.0</td>\n",
       "      <td>101740.0</td>\n",
       "      <td>11.0</td>\n",
       "      <td>True</td>\n",
       "      <td>NaN</td>\n",
       "      <td>-144062.0</td>\n",
       "      <td>NaN</td>\n",
       "      <td>wes.colwell@enron.com</td>\n",
       "      <td>240.0</td>\n",
       "      <td>5.165085</td>\n",
       "    </tr>\n",
       "    <tr>\n",
       "      <th>DELAINEY DAVID W</th>\n",
       "      <td>365163.0</td>\n",
       "      <td>3093.0</td>\n",
       "      <td>NaN</td>\n",
       "      <td>4747979.0</td>\n",
       "      <td>2291113.0</td>\n",
       "      <td>3000000.0</td>\n",
       "      <td>1323148.0</td>\n",
       "      <td>2097.0</td>\n",
       "      <td>NaN</td>\n",
       "      <td>3614261.0</td>\n",
       "      <td>...</td>\n",
       "      <td>3069.0</td>\n",
       "      <td>1661.0</td>\n",
       "      <td>609.0</td>\n",
       "      <td>True</td>\n",
       "      <td>NaN</td>\n",
       "      <td>NaN</td>\n",
       "      <td>1294981.0</td>\n",
       "      <td>david.delainey@enron.com</td>\n",
       "      <td>66.0</td>\n",
       "      <td>13.002355</td>\n",
       "    </tr>\n",
       "    <tr>\n",
       "      <th>FASTOW ANDREW S</th>\n",
       "      <td>440698.0</td>\n",
       "      <td>NaN</td>\n",
       "      <td>NaN</td>\n",
       "      <td>2424083.0</td>\n",
       "      <td>NaN</td>\n",
       "      <td>1300000.0</td>\n",
       "      <td>1794412.0</td>\n",
       "      <td>NaN</td>\n",
       "      <td>NaN</td>\n",
       "      <td>1794412.0</td>\n",
       "      <td>...</td>\n",
       "      <td>NaN</td>\n",
       "      <td>277464.0</td>\n",
       "      <td>NaN</td>\n",
       "      <td>True</td>\n",
       "      <td>NaN</td>\n",
       "      <td>-1386055.0</td>\n",
       "      <td>1736055.0</td>\n",
       "      <td>andrew.fastow@enron.com</td>\n",
       "      <td>NaN</td>\n",
       "      <td>5.500554</td>\n",
       "    </tr>\n",
       "    <tr>\n",
       "      <th>GLISAN JR BEN F</th>\n",
       "      <td>274975.0</td>\n",
       "      <td>873.0</td>\n",
       "      <td>NaN</td>\n",
       "      <td>1272284.0</td>\n",
       "      <td>384728.0</td>\n",
       "      <td>600000.0</td>\n",
       "      <td>393818.0</td>\n",
       "      <td>874.0</td>\n",
       "      <td>NaN</td>\n",
       "      <td>778546.0</td>\n",
       "      <td>...</td>\n",
       "      <td>16.0</td>\n",
       "      <td>200308.0</td>\n",
       "      <td>6.0</td>\n",
       "      <td>True</td>\n",
       "      <td>NaN</td>\n",
       "      <td>NaN</td>\n",
       "      <td>71023.0</td>\n",
       "      <td>ben.glisan@enron.com</td>\n",
       "      <td>52.0</td>\n",
       "      <td>4.626908</td>\n",
       "    </tr>\n",
       "    <tr>\n",
       "      <th>HANNON KEVIN P</th>\n",
       "      <td>243293.0</td>\n",
       "      <td>1045.0</td>\n",
       "      <td>NaN</td>\n",
       "      <td>288682.0</td>\n",
       "      <td>5538001.0</td>\n",
       "      <td>1500000.0</td>\n",
       "      <td>853064.0</td>\n",
       "      <td>1035.0</td>\n",
       "      <td>NaN</td>\n",
       "      <td>6391065.0</td>\n",
       "      <td>...</td>\n",
       "      <td>32.0</td>\n",
       "      <td>11350.0</td>\n",
       "      <td>21.0</td>\n",
       "      <td>True</td>\n",
       "      <td>NaN</td>\n",
       "      <td>-3117011.0</td>\n",
       "      <td>1617011.0</td>\n",
       "      <td>kevin.hannon@enron.com</td>\n",
       "      <td>32.0</td>\n",
       "      <td>1.186561</td>\n",
       "    </tr>\n",
       "    <tr>\n",
       "      <th>HIRKO JOSEPH</th>\n",
       "      <td>NaN</td>\n",
       "      <td>NaN</td>\n",
       "      <td>10259.0</td>\n",
       "      <td>91093.0</td>\n",
       "      <td>30766064.0</td>\n",
       "      <td>NaN</td>\n",
       "      <td>NaN</td>\n",
       "      <td>NaN</td>\n",
       "      <td>NaN</td>\n",
       "      <td>30766064.0</td>\n",
       "      <td>...</td>\n",
       "      <td>NaN</td>\n",
       "      <td>2856.0</td>\n",
       "      <td>NaN</td>\n",
       "      <td>True</td>\n",
       "      <td>NaN</td>\n",
       "      <td>NaN</td>\n",
       "      <td>NaN</td>\n",
       "      <td>joe.hirko@enron.com</td>\n",
       "      <td>NaN</td>\n",
       "      <td>NaN</td>\n",
       "    </tr>\n",
       "    <tr>\n",
       "      <th>KOENIG MARK E</th>\n",
       "      <td>309946.0</td>\n",
       "      <td>2374.0</td>\n",
       "      <td>NaN</td>\n",
       "      <td>1587421.0</td>\n",
       "      <td>671737.0</td>\n",
       "      <td>700000.0</td>\n",
       "      <td>1248318.0</td>\n",
       "      <td>2271.0</td>\n",
       "      <td>NaN</td>\n",
       "      <td>1920055.0</td>\n",
       "      <td>...</td>\n",
       "      <td>61.0</td>\n",
       "      <td>150458.0</td>\n",
       "      <td>15.0</td>\n",
       "      <td>True</td>\n",
       "      <td>NaN</td>\n",
       "      <td>NaN</td>\n",
       "      <td>300000.0</td>\n",
       "      <td>mark.koenig@enron.com</td>\n",
       "      <td>53.0</td>\n",
       "      <td>5.121605</td>\n",
       "    </tr>\n",
       "    <tr>\n",
       "      <th>KOPPER MICHAEL J</th>\n",
       "      <td>224305.0</td>\n",
       "      <td>NaN</td>\n",
       "      <td>NaN</td>\n",
       "      <td>2652612.0</td>\n",
       "      <td>NaN</td>\n",
       "      <td>800000.0</td>\n",
       "      <td>985032.0</td>\n",
       "      <td>NaN</td>\n",
       "      <td>NaN</td>\n",
       "      <td>985032.0</td>\n",
       "      <td>...</td>\n",
       "      <td>NaN</td>\n",
       "      <td>907502.0</td>\n",
       "      <td>NaN</td>\n",
       "      <td>True</td>\n",
       "      <td>NaN</td>\n",
       "      <td>NaN</td>\n",
       "      <td>602671.0</td>\n",
       "      <td>michael.kopper@enron.com</td>\n",
       "      <td>NaN</td>\n",
       "      <td>11.825916</td>\n",
       "    </tr>\n",
       "    <tr>\n",
       "      <th>LAY KENNETH L</th>\n",
       "      <td>1072321.0</td>\n",
       "      <td>4273.0</td>\n",
       "      <td>202911.0</td>\n",
       "      <td>103559793.0</td>\n",
       "      <td>34348384.0</td>\n",
       "      <td>7000000.0</td>\n",
       "      <td>14761694.0</td>\n",
       "      <td>2411.0</td>\n",
       "      <td>NaN</td>\n",
       "      <td>49110078.0</td>\n",
       "      <td>...</td>\n",
       "      <td>36.0</td>\n",
       "      <td>10359729.0</td>\n",
       "      <td>16.0</td>\n",
       "      <td>True</td>\n",
       "      <td>NaN</td>\n",
       "      <td>-300000.0</td>\n",
       "      <td>3600000.0</td>\n",
       "      <td>kenneth.lay@enron.com</td>\n",
       "      <td>123.0</td>\n",
       "      <td>96.575366</td>\n",
       "    </tr>\n",
       "    <tr>\n",
       "      <th>RICE KENNETH D</th>\n",
       "      <td>420636.0</td>\n",
       "      <td>905.0</td>\n",
       "      <td>NaN</td>\n",
       "      <td>505050.0</td>\n",
       "      <td>19794175.0</td>\n",
       "      <td>1750000.0</td>\n",
       "      <td>2748364.0</td>\n",
       "      <td>864.0</td>\n",
       "      <td>NaN</td>\n",
       "      <td>22542539.0</td>\n",
       "      <td>...</td>\n",
       "      <td>18.0</td>\n",
       "      <td>174839.0</td>\n",
       "      <td>4.0</td>\n",
       "      <td>True</td>\n",
       "      <td>NaN</td>\n",
       "      <td>-3504386.0</td>\n",
       "      <td>1617011.0</td>\n",
       "      <td>ken.rice@enron.com</td>\n",
       "      <td>42.0</td>\n",
       "      <td>1.200682</td>\n",
       "    </tr>\n",
       "    <tr>\n",
       "      <th>RIEKER PAULA H</th>\n",
       "      <td>249201.0</td>\n",
       "      <td>1328.0</td>\n",
       "      <td>214678.0</td>\n",
       "      <td>1099100.0</td>\n",
       "      <td>1635238.0</td>\n",
       "      <td>700000.0</td>\n",
       "      <td>283649.0</td>\n",
       "      <td>1258.0</td>\n",
       "      <td>NaN</td>\n",
       "      <td>1918887.0</td>\n",
       "      <td>...</td>\n",
       "      <td>82.0</td>\n",
       "      <td>1950.0</td>\n",
       "      <td>48.0</td>\n",
       "      <td>True</td>\n",
       "      <td>NaN</td>\n",
       "      <td>-100000.0</td>\n",
       "      <td>NaN</td>\n",
       "      <td>paula.rieker@enron.com</td>\n",
       "      <td>35.0</td>\n",
       "      <td>4.410496</td>\n",
       "    </tr>\n",
       "    <tr>\n",
       "      <th>SHELBY REX</th>\n",
       "      <td>211844.0</td>\n",
       "      <td>225.0</td>\n",
       "      <td>NaN</td>\n",
       "      <td>2003885.0</td>\n",
       "      <td>1624396.0</td>\n",
       "      <td>200000.0</td>\n",
       "      <td>869220.0</td>\n",
       "      <td>91.0</td>\n",
       "      <td>NaN</td>\n",
       "      <td>2493616.0</td>\n",
       "      <td>...</td>\n",
       "      <td>39.0</td>\n",
       "      <td>1573324.0</td>\n",
       "      <td>14.0</td>\n",
       "      <td>True</td>\n",
       "      <td>NaN</td>\n",
       "      <td>-4167.0</td>\n",
       "      <td>NaN</td>\n",
       "      <td>rex.shelby@enron.com</td>\n",
       "      <td>13.0</td>\n",
       "      <td>9.459248</td>\n",
       "    </tr>\n",
       "    <tr>\n",
       "      <th>SKILLING JEFFREY K</th>\n",
       "      <td>1111258.0</td>\n",
       "      <td>3627.0</td>\n",
       "      <td>NaN</td>\n",
       "      <td>8682716.0</td>\n",
       "      <td>19250000.0</td>\n",
       "      <td>5600000.0</td>\n",
       "      <td>6843672.0</td>\n",
       "      <td>2042.0</td>\n",
       "      <td>NaN</td>\n",
       "      <td>26093672.0</td>\n",
       "      <td>...</td>\n",
       "      <td>108.0</td>\n",
       "      <td>22122.0</td>\n",
       "      <td>30.0</td>\n",
       "      <td>True</td>\n",
       "      <td>NaN</td>\n",
       "      <td>NaN</td>\n",
       "      <td>1920000.0</td>\n",
       "      <td>jeff.skilling@enron.com</td>\n",
       "      <td>88.0</td>\n",
       "      <td>7.813411</td>\n",
       "    </tr>\n",
       "    <tr>\n",
       "      <th>YEAGER F SCOTT</th>\n",
       "      <td>158403.0</td>\n",
       "      <td>NaN</td>\n",
       "      <td>NaN</td>\n",
       "      <td>360300.0</td>\n",
       "      <td>8308552.0</td>\n",
       "      <td>NaN</td>\n",
       "      <td>3576206.0</td>\n",
       "      <td>NaN</td>\n",
       "      <td>NaN</td>\n",
       "      <td>11884758.0</td>\n",
       "      <td>...</td>\n",
       "      <td>NaN</td>\n",
       "      <td>147950.0</td>\n",
       "      <td>NaN</td>\n",
       "      <td>True</td>\n",
       "      <td>NaN</td>\n",
       "      <td>NaN</td>\n",
       "      <td>NaN</td>\n",
       "      <td>scott.yeager@enron.com</td>\n",
       "      <td>NaN</td>\n",
       "      <td>2.274578</td>\n",
       "    </tr>\n",
       "  </tbody>\n",
       "</table>\n",
       "<p>18 rows × 22 columns</p>\n",
       "</div>"
      ],
      "text/plain": [
       "                         salary  to_messages  deferral_payments  \\\n",
       "BELDEN TIMOTHY N       213999.0       7991.0          2144013.0   \n",
       "BOWEN JR RAYMOND M     278601.0       1858.0                NaN   \n",
       "CALGER CHRISTOPHER F   240189.0       2598.0                NaN   \n",
       "CAUSEY RICHARD A       415189.0       1892.0                NaN   \n",
       "COLWELL WESLEY         288542.0       1758.0            27610.0   \n",
       "DELAINEY DAVID W       365163.0       3093.0                NaN   \n",
       "FASTOW ANDREW S        440698.0          NaN                NaN   \n",
       "GLISAN JR BEN F        274975.0        873.0                NaN   \n",
       "HANNON KEVIN P         243293.0       1045.0                NaN   \n",
       "HIRKO JOSEPH                NaN          NaN            10259.0   \n",
       "KOENIG MARK E          309946.0       2374.0                NaN   \n",
       "KOPPER MICHAEL J       224305.0          NaN                NaN   \n",
       "LAY KENNETH L         1072321.0       4273.0           202911.0   \n",
       "RICE KENNETH D         420636.0        905.0                NaN   \n",
       "RIEKER PAULA H         249201.0       1328.0           214678.0   \n",
       "SHELBY REX             211844.0        225.0                NaN   \n",
       "SKILLING JEFFREY K    1111258.0       3627.0                NaN   \n",
       "YEAGER F SCOTT         158403.0          NaN                NaN   \n",
       "\n",
       "                      total_payments  exercised_stock_options      bonus  \\\n",
       "BELDEN TIMOTHY N           5501630.0                 953136.0  5249999.0   \n",
       "BOWEN JR RAYMOND M         2669589.0                      NaN  1350000.0   \n",
       "CALGER CHRISTOPHER F       1639297.0                      NaN  1250000.0   \n",
       "CAUSEY RICHARD A           1868758.0                      NaN  1000000.0   \n",
       "COLWELL WESLEY             1490344.0                      NaN  1200000.0   \n",
       "DELAINEY DAVID W           4747979.0                2291113.0  3000000.0   \n",
       "FASTOW ANDREW S            2424083.0                      NaN  1300000.0   \n",
       "GLISAN JR BEN F            1272284.0                 384728.0   600000.0   \n",
       "HANNON KEVIN P              288682.0                5538001.0  1500000.0   \n",
       "HIRKO JOSEPH                 91093.0               30766064.0        NaN   \n",
       "KOENIG MARK E              1587421.0                 671737.0   700000.0   \n",
       "KOPPER MICHAEL J           2652612.0                      NaN   800000.0   \n",
       "LAY KENNETH L            103559793.0               34348384.0  7000000.0   \n",
       "RICE KENNETH D              505050.0               19794175.0  1750000.0   \n",
       "RIEKER PAULA H             1099100.0                1635238.0   700000.0   \n",
       "SHELBY REX                 2003885.0                1624396.0   200000.0   \n",
       "SKILLING JEFFREY K         8682716.0               19250000.0  5600000.0   \n",
       "YEAGER F SCOTT              360300.0                8308552.0        NaN   \n",
       "\n",
       "                      restricted_stock  shared_receipt_with_poi  \\\n",
       "BELDEN TIMOTHY N              157569.0                   5521.0   \n",
       "BOWEN JR RAYMOND M            252055.0                   1593.0   \n",
       "CALGER CHRISTOPHER F          126027.0                   2188.0   \n",
       "CAUSEY RICHARD A             2502063.0                   1585.0   \n",
       "COLWELL WESLEY                698242.0                   1132.0   \n",
       "DELAINEY DAVID W             1323148.0                   2097.0   \n",
       "FASTOW ANDREW S              1794412.0                      NaN   \n",
       "GLISAN JR BEN F               393818.0                    874.0   \n",
       "HANNON KEVIN P                853064.0                   1035.0   \n",
       "HIRKO JOSEPH                       NaN                      NaN   \n",
       "KOENIG MARK E                1248318.0                   2271.0   \n",
       "KOPPER MICHAEL J              985032.0                      NaN   \n",
       "LAY KENNETH L               14761694.0                   2411.0   \n",
       "RICE KENNETH D               2748364.0                    864.0   \n",
       "RIEKER PAULA H                283649.0                   1258.0   \n",
       "SHELBY REX                    869220.0                     91.0   \n",
       "SKILLING JEFFREY K           6843672.0                   2042.0   \n",
       "YEAGER F SCOTT               3576206.0                      NaN   \n",
       "\n",
       "                      restricted_stock_deferred  total_stock_value  ...  \\\n",
       "BELDEN TIMOTHY N                            NaN          1110705.0  ...   \n",
       "BOWEN JR RAYMOND M                          NaN           252055.0  ...   \n",
       "CALGER CHRISTOPHER F                        NaN           126027.0  ...   \n",
       "CAUSEY RICHARD A                            NaN          2502063.0  ...   \n",
       "COLWELL WESLEY                              NaN           698242.0  ...   \n",
       "DELAINEY DAVID W                            NaN          3614261.0  ...   \n",
       "FASTOW ANDREW S                             NaN          1794412.0  ...   \n",
       "GLISAN JR BEN F                             NaN           778546.0  ...   \n",
       "HANNON KEVIN P                              NaN          6391065.0  ...   \n",
       "HIRKO JOSEPH                                NaN         30766064.0  ...   \n",
       "KOENIG MARK E                               NaN          1920055.0  ...   \n",
       "KOPPER MICHAEL J                            NaN           985032.0  ...   \n",
       "LAY KENNETH L                               NaN         49110078.0  ...   \n",
       "RICE KENNETH D                              NaN         22542539.0  ...   \n",
       "RIEKER PAULA H                              NaN          1918887.0  ...   \n",
       "SHELBY REX                                  NaN          2493616.0  ...   \n",
       "SKILLING JEFFREY K                          NaN         26093672.0  ...   \n",
       "YEAGER F SCOTT                              NaN         11884758.0  ...   \n",
       "\n",
       "                      from_messages       other  from_this_person_to_poi  \\\n",
       "BELDEN TIMOTHY N              484.0    210698.0                    108.0   \n",
       "BOWEN JR RAYMOND M             27.0      1621.0                     15.0   \n",
       "CALGER CHRISTOPHER F          144.0       486.0                     25.0   \n",
       "CAUSEY RICHARD A               49.0    307895.0                     12.0   \n",
       "COLWELL WESLEY                 40.0    101740.0                     11.0   \n",
       "DELAINEY DAVID W             3069.0      1661.0                    609.0   \n",
       "FASTOW ANDREW S                 NaN    277464.0                      NaN   \n",
       "GLISAN JR BEN F                16.0    200308.0                      6.0   \n",
       "HANNON KEVIN P                 32.0     11350.0                     21.0   \n",
       "HIRKO JOSEPH                    NaN      2856.0                      NaN   \n",
       "KOENIG MARK E                  61.0    150458.0                     15.0   \n",
       "KOPPER MICHAEL J                NaN    907502.0                      NaN   \n",
       "LAY KENNETH L                  36.0  10359729.0                     16.0   \n",
       "RICE KENNETH D                 18.0    174839.0                      4.0   \n",
       "RIEKER PAULA H                 82.0      1950.0                     48.0   \n",
       "SHELBY REX                     39.0   1573324.0                     14.0   \n",
       "SKILLING JEFFREY K            108.0     22122.0                     30.0   \n",
       "YEAGER F SCOTT                  NaN    147950.0                      NaN   \n",
       "\n",
       "                       poi  director_fees  deferred_income  \\\n",
       "BELDEN TIMOTHY N      True            NaN       -2334434.0   \n",
       "BOWEN JR RAYMOND M    True            NaN           -833.0   \n",
       "CALGER CHRISTOPHER F  True            NaN        -262500.0   \n",
       "CAUSEY RICHARD A      True            NaN        -235000.0   \n",
       "COLWELL WESLEY        True            NaN        -144062.0   \n",
       "DELAINEY DAVID W      True            NaN              NaN   \n",
       "FASTOW ANDREW S       True            NaN       -1386055.0   \n",
       "GLISAN JR BEN F       True            NaN              NaN   \n",
       "HANNON KEVIN P        True            NaN       -3117011.0   \n",
       "HIRKO JOSEPH          True            NaN              NaN   \n",
       "KOENIG MARK E         True            NaN              NaN   \n",
       "KOPPER MICHAEL J      True            NaN              NaN   \n",
       "LAY KENNETH L         True            NaN        -300000.0   \n",
       "RICE KENNETH D        True            NaN       -3504386.0   \n",
       "RIEKER PAULA H        True            NaN        -100000.0   \n",
       "SHELBY REX            True            NaN          -4167.0   \n",
       "SKILLING JEFFREY K    True            NaN              NaN   \n",
       "YEAGER F SCOTT        True            NaN              NaN   \n",
       "\n",
       "                      long_term_incentive                 email_address  \\\n",
       "BELDEN TIMOTHY N                      NaN          tim.belden@enron.com   \n",
       "BOWEN JR RAYMOND M               974293.0       raymond.bowen@enron.com   \n",
       "CALGER CHRISTOPHER F             375304.0  christopher.calger@enron.com   \n",
       "CAUSEY RICHARD A                 350000.0      richard.causey@enron.com   \n",
       "COLWELL WESLEY                        NaN         wes.colwell@enron.com   \n",
       "DELAINEY DAVID W                1294981.0      david.delainey@enron.com   \n",
       "FASTOW ANDREW S                 1736055.0       andrew.fastow@enron.com   \n",
       "GLISAN JR BEN F                   71023.0          ben.glisan@enron.com   \n",
       "HANNON KEVIN P                  1617011.0        kevin.hannon@enron.com   \n",
       "HIRKO JOSEPH                          NaN           joe.hirko@enron.com   \n",
       "KOENIG MARK E                    300000.0         mark.koenig@enron.com   \n",
       "KOPPER MICHAEL J                 602671.0      michael.kopper@enron.com   \n",
       "LAY KENNETH L                   3600000.0         kenneth.lay@enron.com   \n",
       "RICE KENNETH D                  1617011.0            ken.rice@enron.com   \n",
       "RIEKER PAULA H                        NaN        paula.rieker@enron.com   \n",
       "SHELBY REX                            NaN          rex.shelby@enron.com   \n",
       "SKILLING JEFFREY K              1920000.0       jeff.skilling@enron.com   \n",
       "YEAGER F SCOTT                        NaN        scott.yeager@enron.com   \n",
       "\n",
       "                      from_poi_to_this_person   ts_ratio  \n",
       "BELDEN TIMOTHY N                        228.0  25.708672  \n",
       "BOWEN JR RAYMOND M                      140.0   9.582123  \n",
       "CALGER CHRISTOPHER F                    199.0   6.825029  \n",
       "CAUSEY RICHARD A                         58.0   4.500981  \n",
       "COLWELL WESLEY                          240.0   5.165085  \n",
       "DELAINEY DAVID W                         66.0  13.002355  \n",
       "FASTOW ANDREW S                           NaN   5.500554  \n",
       "GLISAN JR BEN F                          52.0   4.626908  \n",
       "HANNON KEVIN P                           32.0   1.186561  \n",
       "HIRKO JOSEPH                              NaN        NaN  \n",
       "KOENIG MARK E                            53.0   5.121605  \n",
       "KOPPER MICHAEL J                          NaN  11.825916  \n",
       "LAY KENNETH L                           123.0  96.575366  \n",
       "RICE KENNETH D                           42.0   1.200682  \n",
       "RIEKER PAULA H                           35.0   4.410496  \n",
       "SHELBY REX                               13.0   9.459248  \n",
       "SKILLING JEFFREY K                       88.0   7.813411  \n",
       "YEAGER F SCOTT                            NaN   2.274578  \n",
       "\n",
       "[18 rows x 22 columns]"
      ]
     },
     "execution_count": 138,
     "metadata": {},
     "output_type": "execute_result"
    }
   ],
   "source": [
    "#listando os POI\n",
    "df[df.poi==True]"
   ]
  },
  {
   "cell_type": "code",
   "execution_count": 146,
   "metadata": {
    "scrolled": false
   },
   "outputs": [
    {
     "name": "stderr",
     "output_type": "stream",
     "text": [
      "/Users/saidwafiq/anaconda3/envs/py27/lib/python2.7/site-packages/ipykernel_launcher.py:2: UserWarning: Boolean Series key will be reindexed to match DataFrame index.\n",
      "  \n"
     ]
    },
    {
     "data": {
      "text/plain": [
       "LAY KENNETH L           103559793.0\n",
       "SKILLING JEFFREY K        8682716.0\n",
       "BELDEN TIMOTHY N          5501630.0\n",
       "DELAINEY DAVID W          4747979.0\n",
       "BOWEN JR RAYMOND M        2669589.0\n",
       "KOPPER MICHAEL J          2652612.0\n",
       "FASTOW ANDREW S           2424083.0\n",
       "SHELBY REX                2003885.0\n",
       "CAUSEY RICHARD A          1868758.0\n",
       "CALGER CHRISTOPHER F      1639297.0\n",
       "KOENIG MARK E             1587421.0\n",
       "COLWELL WESLEY            1490344.0\n",
       "GLISAN JR BEN F           1272284.0\n",
       "RIEKER PAULA H            1099100.0\n",
       "RICE KENNETH D             505050.0\n",
       "YEAGER F SCOTT             360300.0\n",
       "HANNON KEVIN P             288682.0\n",
       "HIRKO JOSEPH                91093.0\n",
       "Name: total_payments, dtype: float64"
      ]
     },
     "execution_count": 146,
     "metadata": {},
     "output_type": "execute_result"
    }
   ],
   "source": [
    "# Funcionarios POI ordenado pelos que receberam maiores pagamentos.\n",
    "df.sort_values(by='total_payments', ascending=False)[df.poi==True]['total_payments']"
   ]
  },
  {
   "cell_type": "markdown",
   "metadata": {},
   "source": [
    "### Imputando dados faltantes\n",
    "\n",
    "Imputing refers to using a model to replace missing values.\n",
    "\n",
    "There are many options we could consider when replacing a missing value, for example:\n",
    "\n",
    "A constant value that has meaning within the domain, such as 0, distinct from all other values.\n",
    "A value from another randomly selected record.\n",
    "A mean, median or mode value for the column.\n",
    "A value estimated by another predictive model."
   ]
  },
  {
   "cell_type": "code",
   "execution_count": 171,
   "metadata": {},
   "outputs": [],
   "source": [
    "df.fillna(df.mean(),inplace=True)"
   ]
  },
  {
   "cell_type": "code",
   "execution_count": 178,
   "metadata": {},
   "outputs": [
    {
     "data": {
      "text/html": [
       "<div>\n",
       "<style scoped>\n",
       "    .dataframe tbody tr th:only-of-type {\n",
       "        vertical-align: middle;\n",
       "    }\n",
       "\n",
       "    .dataframe tbody tr th {\n",
       "        vertical-align: top;\n",
       "    }\n",
       "\n",
       "    .dataframe thead th {\n",
       "        text-align: right;\n",
       "    }\n",
       "</style>\n",
       "<table border=\"1\" class=\"dataframe\">\n",
       "  <thead>\n",
       "    <tr style=\"text-align: right;\">\n",
       "      <th></th>\n",
       "      <th>salary</th>\n",
       "      <th>to_messages</th>\n",
       "      <th>deferral_payments</th>\n",
       "      <th>total_payments</th>\n",
       "      <th>exercised_stock_options</th>\n",
       "      <th>bonus</th>\n",
       "      <th>restricted_stock</th>\n",
       "      <th>shared_receipt_with_poi</th>\n",
       "      <th>restricted_stock_deferred</th>\n",
       "      <th>total_stock_value</th>\n",
       "      <th>...</th>\n",
       "      <th>loan_advances</th>\n",
       "      <th>from_messages</th>\n",
       "      <th>other</th>\n",
       "      <th>from_this_person_to_poi</th>\n",
       "      <th>poi</th>\n",
       "      <th>director_fees</th>\n",
       "      <th>deferred_income</th>\n",
       "      <th>long_term_incentive</th>\n",
       "      <th>from_poi_to_this_person</th>\n",
       "      <th>ts_ratio</th>\n",
       "    </tr>\n",
       "  </thead>\n",
       "  <tbody>\n",
       "    <tr>\n",
       "      <th>ALLEN PHILLIP K</th>\n",
       "      <td>201955.0</td>\n",
       "      <td>2902.000000</td>\n",
       "      <td>2.869717e+06</td>\n",
       "      <td>4484442.0</td>\n",
       "      <td>1.729541e+06</td>\n",
       "      <td>4.175000e+06</td>\n",
       "      <td>1.260270e+05</td>\n",
       "      <td>1407.000000</td>\n",
       "      <td>-1.260270e+05</td>\n",
       "      <td>1729541.0</td>\n",
       "      <td>...</td>\n",
       "      <td>27975000.0</td>\n",
       "      <td>2195.000000</td>\n",
       "      <td>152.0</td>\n",
       "      <td>65.000000</td>\n",
       "      <td>False</td>\n",
       "      <td>88038.0</td>\n",
       "      <td>-3.081055e+06</td>\n",
       "      <td>3.048050e+05</td>\n",
       "      <td>47.000000</td>\n",
       "      <td>22.205155</td>\n",
       "    </tr>\n",
       "    <tr>\n",
       "      <th>BANNANTINE JAMES M</th>\n",
       "      <td>477.0</td>\n",
       "      <td>566.000000</td>\n",
       "      <td>9.796086e+05</td>\n",
       "      <td>916197.0</td>\n",
       "      <td>4.046157e+06</td>\n",
       "      <td>1.201773e+06</td>\n",
       "      <td>1.757552e+06</td>\n",
       "      <td>465.000000</td>\n",
       "      <td>-5.602220e+05</td>\n",
       "      <td>5243487.0</td>\n",
       "      <td>...</td>\n",
       "      <td>27975000.0</td>\n",
       "      <td>29.000000</td>\n",
       "      <td>864523.0</td>\n",
       "      <td>0.000000</td>\n",
       "      <td>False</td>\n",
       "      <td>88038.0</td>\n",
       "      <td>-5.104000e+03</td>\n",
       "      <td>7.524422e+05</td>\n",
       "      <td>39.000000</td>\n",
       "      <td>1920.748428</td>\n",
       "    </tr>\n",
       "    <tr>\n",
       "      <th>BAXTER JOHN C</th>\n",
       "      <td>267102.0</td>\n",
       "      <td>2073.860465</td>\n",
       "      <td>1.295738e+06</td>\n",
       "      <td>5634343.0</td>\n",
       "      <td>6.680544e+06</td>\n",
       "      <td>1.200000e+06</td>\n",
       "      <td>3.942714e+06</td>\n",
       "      <td>1176.465116</td>\n",
       "      <td>1.032161e+06</td>\n",
       "      <td>10623258.0</td>\n",
       "      <td>...</td>\n",
       "      <td>27975000.0</td>\n",
       "      <td>608.790698</td>\n",
       "      <td>2660303.0</td>\n",
       "      <td>41.232558</td>\n",
       "      <td>False</td>\n",
       "      <td>88038.0</td>\n",
       "      <td>-1.386055e+06</td>\n",
       "      <td>1.586055e+06</td>\n",
       "      <td>64.895349</td>\n",
       "      <td>21.094350</td>\n",
       "    </tr>\n",
       "    <tr>\n",
       "      <th>BAY FRANKLIN R</th>\n",
       "      <td>239671.0</td>\n",
       "      <td>2073.860465</td>\n",
       "      <td>2.604550e+05</td>\n",
       "      <td>827696.0</td>\n",
       "      <td>3.340974e+06</td>\n",
       "      <td>4.000000e+05</td>\n",
       "      <td>1.457960e+05</td>\n",
       "      <td>1176.465116</td>\n",
       "      <td>-8.278200e+04</td>\n",
       "      <td>63014.0</td>\n",
       "      <td>...</td>\n",
       "      <td>27975000.0</td>\n",
       "      <td>608.790698</td>\n",
       "      <td>69.0</td>\n",
       "      <td>41.232558</td>\n",
       "      <td>False</td>\n",
       "      <td>88038.0</td>\n",
       "      <td>-2.016410e+05</td>\n",
       "      <td>7.524422e+05</td>\n",
       "      <td>64.895349</td>\n",
       "      <td>3.453467</td>\n",
       "    </tr>\n",
       "    <tr>\n",
       "      <th>BAZELIDES PHILIP J</th>\n",
       "      <td>80818.0</td>\n",
       "      <td>2073.860465</td>\n",
       "      <td>6.846940e+05</td>\n",
       "      <td>860136.0</td>\n",
       "      <td>1.599641e+06</td>\n",
       "      <td>1.201773e+06</td>\n",
       "      <td>1.210479e+06</td>\n",
       "      <td>1176.465116</td>\n",
       "      <td>1.032161e+06</td>\n",
       "      <td>1599641.0</td>\n",
       "      <td>...</td>\n",
       "      <td>27975000.0</td>\n",
       "      <td>608.790698</td>\n",
       "      <td>874.0</td>\n",
       "      <td>41.232558</td>\n",
       "      <td>False</td>\n",
       "      <td>88038.0</td>\n",
       "      <td>-7.158297e+05</td>\n",
       "      <td>9.375000e+04</td>\n",
       "      <td>64.895349</td>\n",
       "      <td>10.642877</td>\n",
       "    </tr>\n",
       "  </tbody>\n",
       "</table>\n",
       "<p>5 rows × 21 columns</p>\n",
       "</div>"
      ],
      "text/plain": [
       "                      salary  to_messages  deferral_payments  total_payments  \\\n",
       "ALLEN PHILLIP K     201955.0  2902.000000       2.869717e+06       4484442.0   \n",
       "BANNANTINE JAMES M     477.0   566.000000       9.796086e+05        916197.0   \n",
       "BAXTER JOHN C       267102.0  2073.860465       1.295738e+06       5634343.0   \n",
       "BAY FRANKLIN R      239671.0  2073.860465       2.604550e+05        827696.0   \n",
       "BAZELIDES PHILIP J   80818.0  2073.860465       6.846940e+05        860136.0   \n",
       "\n",
       "                    exercised_stock_options         bonus  restricted_stock  \\\n",
       "ALLEN PHILLIP K                1.729541e+06  4.175000e+06      1.260270e+05   \n",
       "BANNANTINE JAMES M             4.046157e+06  1.201773e+06      1.757552e+06   \n",
       "BAXTER JOHN C                  6.680544e+06  1.200000e+06      3.942714e+06   \n",
       "BAY FRANKLIN R                 3.340974e+06  4.000000e+05      1.457960e+05   \n",
       "BAZELIDES PHILIP J             1.599641e+06  1.201773e+06      1.210479e+06   \n",
       "\n",
       "                    shared_receipt_with_poi  restricted_stock_deferred  \\\n",
       "ALLEN PHILLIP K                 1407.000000              -1.260270e+05   \n",
       "BANNANTINE JAMES M               465.000000              -5.602220e+05   \n",
       "BAXTER JOHN C                   1176.465116               1.032161e+06   \n",
       "BAY FRANKLIN R                  1176.465116              -8.278200e+04   \n",
       "BAZELIDES PHILIP J              1176.465116               1.032161e+06   \n",
       "\n",
       "                    total_stock_value  ...  loan_advances  from_messages  \\\n",
       "ALLEN PHILLIP K             1729541.0  ...     27975000.0    2195.000000   \n",
       "BANNANTINE JAMES M          5243487.0  ...     27975000.0      29.000000   \n",
       "BAXTER JOHN C              10623258.0  ...     27975000.0     608.790698   \n",
       "BAY FRANKLIN R                63014.0  ...     27975000.0     608.790698   \n",
       "BAZELIDES PHILIP J          1599641.0  ...     27975000.0     608.790698   \n",
       "\n",
       "                        other  from_this_person_to_poi    poi  director_fees  \\\n",
       "ALLEN PHILLIP K         152.0                65.000000  False        88038.0   \n",
       "BANNANTINE JAMES M   864523.0                 0.000000  False        88038.0   \n",
       "BAXTER JOHN C       2660303.0                41.232558  False        88038.0   \n",
       "BAY FRANKLIN R           69.0                41.232558  False        88038.0   \n",
       "BAZELIDES PHILIP J      874.0                41.232558  False        88038.0   \n",
       "\n",
       "                    deferred_income  long_term_incentive  \\\n",
       "ALLEN PHILLIP K       -3.081055e+06         3.048050e+05   \n",
       "BANNANTINE JAMES M    -5.104000e+03         7.524422e+05   \n",
       "BAXTER JOHN C         -1.386055e+06         1.586055e+06   \n",
       "BAY FRANKLIN R        -2.016410e+05         7.524422e+05   \n",
       "BAZELIDES PHILIP J    -7.158297e+05         9.375000e+04   \n",
       "\n",
       "                    from_poi_to_this_person     ts_ratio  \n",
       "ALLEN PHILLIP K                   47.000000    22.205155  \n",
       "BANNANTINE JAMES M                39.000000  1920.748428  \n",
       "BAXTER JOHN C                     64.895349    21.094350  \n",
       "BAY FRANKLIN R                    64.895349     3.453467  \n",
       "BAZELIDES PHILIP J                64.895349    10.642877  \n",
       "\n",
       "[5 rows x 21 columns]"
      ]
     },
     "execution_count": 178,
     "metadata": {},
     "output_type": "execute_result"
    }
   ],
   "source": [
    "df.head()"
   ]
  },
  {
   "cell_type": "markdown",
   "metadata": {},
   "source": [
    "## Testando os classificadores\n",
    "Vamos começar testando a `my_features_list` e depois testar uma nova lista com a feature criada `ts_ratio`.\n",
    "\n",
    "Utilizamos os scores de accuracy, precision, recall e f1-score para avaliar qual algoritmo de classificação será selecionado."
   ]
  },
  {
   "cell_type": "code",
   "execution_count": 152,
   "metadata": {},
   "outputs": [],
   "source": [
    "### Extract my features and labels from dataset for local testing\n",
    "data = featureFormat(my_dataset, my_features_list, sort_keys = True)\n",
    "labels, features = targetFeatureSplit(data)"
   ]
  },
  {
   "cell_type": "code",
   "execution_count": 153,
   "metadata": {},
   "outputs": [],
   "source": [
    "# criando os conjuntos de treinamento e teste\n",
    "features_train, features_test, labels_train, labels_test = \\\n",
    "    train_test_split(features, labels, test_size=0.25, random_state=42)"
   ]
  },
  {
   "cell_type": "markdown",
   "metadata": {},
   "source": [
    "### Naive Bayes"
   ]
  },
  {
   "cell_type": "code",
   "execution_count": 154,
   "metadata": {},
   "outputs": [
    {
     "name": "stdout",
     "output_type": "stream",
     "text": [
      "('Accuracy', 0.8888888888888888)\n",
      "('Precision', 0.3333333333333333)\n",
      "('Recall', 0.3333333333333333)\n",
      "('F1-Score', 0.3333333333333333)\n"
     ]
    }
   ],
   "source": [
    "from sklearn.naive_bayes import GaussianNB\n",
    "clf = GaussianNB()\n",
    "\n",
    "clf.fit(features_train, labels_train)\n",
    "pred = clf.predict(features_test)\n",
    "print('Accuracy', accuracy_score(labels_test, pred))\n",
    "print('Precision', precision_score(labels_test, pred))\n",
    "print('Recall', recall_score(labels_test, pred))\n",
    "print('F1-Score', f1_score(labels_test, pred))"
   ]
  },
  {
   "cell_type": "markdown",
   "metadata": {},
   "source": [
    "### k-nearest neighbors"
   ]
  },
  {
   "cell_type": "code",
   "execution_count": 28,
   "metadata": {
    "scrolled": true
   },
   "outputs": [
    {
     "name": "stdout",
     "output_type": "stream",
     "text": [
      "('Accuracy', 0.9444444444444444)\n",
      "('Precision', 1.0)\n",
      "('Recall', 0.3333333333333333)\n",
      "('F1-Score', 0.5)\n"
     ]
    }
   ],
   "source": [
    "from sklearn.neighbors import KNeighborsClassifier\n",
    "clf = KNeighborsClassifier()\n",
    "\n",
    "clf.fit(features_train, labels_train)\n",
    "pred = clf.predict(features_test)\n",
    "print('Accuracy', accuracy_score(labels_test, pred))\n",
    "print('Precision', precision_score(labels_test, pred))\n",
    "print('Recall', recall_score(labels_test, pred))\n",
    "print('F1-Score', f1_score(labels_test, pred))"
   ]
  },
  {
   "cell_type": "markdown",
   "metadata": {},
   "source": [
    "Temos um problema aqui, accuracy bom demais pra ser verdade e precision 1.0. Um sintoma claro de **overfitting**.\n",
    "\n",
    "O que causou esse problema é que usamos o `train_test_split` em nosso **dataset** que é bem **pequeno e desbalanceado**. \n",
    "Entre as duas classes de classificação do nosso modelo, temos apenas **18 POI, menos de 13% do total**. Nosso modelo não tem boa capacidade de generalizar, então com a entrada de novos dados o resultado de predição será bem fraco.\n",
    "\n",
    "Para contornar este problema, primeiro devemos dar mais importância ao **precision** e **recall** do que accuracy, pois como vimos accuracy em datasets desbalanceados pode ser enganoso. \n",
    "\n",
    "Outra medida que deve ser tomada é utilização de validação cruzada. Escolhi utilizar o `StratifiedShuffleSplit` porque ele randomiza o dataset e suas partes de treinamento e teste **preservando a proporção entre as duas classes**. Preservar a proporção no nosso caso é imperativo devido a distruibuição desbalanceada entre elas. Se não fizermos isso corremos o risco de ter uma divisão com apenas uma das classes, gerando um modelo com scores altos, mas que não funcionaria como preditor."
   ]
  },
  {
   "cell_type": "markdown",
   "metadata": {},
   "source": [
    "### StratifiedShuffleSplit"
   ]
  },
  {
   "cell_type": "code",
   "execution_count": 29,
   "metadata": {},
   "outputs": [],
   "source": [
    "# criando os conjuntos de treinamento e teste com StratifiedShuffleSplit\n",
    "def validate(data, labels):\n",
    "    accuracy_scores = []\n",
    "    precision_scores = []\n",
    "    recall_scores = []\n",
    "    f1_scores = []\n",
    "    \n",
    "    sss = StratifiedShuffleSplit(n_splits=1000, test_size=0.15, random_state=42)\n",
    "    for train_index, test_index in sss.split(features, labels):\n",
    "        features_train = []\n",
    "        features_test  = []\n",
    "        labels_train   = []\n",
    "        labels_test    = []\n",
    "        for ii in train_index:\n",
    "            features_train.append( features[ii] )\n",
    "            labels_train.append( labels[ii] )\n",
    "        for jj in test_index:\n",
    "            features_test.append( features[jj] )\n",
    "            labels_test.append( labels[jj] )\n",
    "        clf.fit(features_train, labels_train)\n",
    "        pred = clf.predict(features_test)\n",
    "        accuracy_scores.append(accuracy_score(labels_test, pred))\n",
    "        precision_scores.append(precision_score(labels_test, pred))\n",
    "        recall_scores.append(recall_score(labels_test, pred))\n",
    "        f1_scores.append(f1_score(labels_test, pred))\n",
    "\n",
    "    print('Accuracy', np.mean(accuracy_scores))\n",
    "    print('Precision', np.mean(precision_scores))\n",
    "    print('Recall', np.mean(recall_scores))\n",
    "    print('F1-measure', np.mean(f1_scores))"
   ]
  },
  {
   "cell_type": "markdown",
   "metadata": {},
   "source": [
    "### Naive Bayes"
   ]
  },
  {
   "cell_type": "code",
   "execution_count": 31,
   "metadata": {},
   "outputs": [
    {
     "name": "stdout",
     "output_type": "stream",
     "text": [
      "('Accuracy', 0.8513181818181818)\n",
      "('Precision', 0.3996928571428571)\n",
      "('Recall', 0.283)\n",
      "('F1-measure', 0.31104343434343434)\n"
     ]
    }
   ],
   "source": [
    "from sklearn.naive_bayes import GaussianNB\n",
    "clf = GaussianNB()\n",
    "\n",
    "# chama função\n",
    "validate(features, labels)"
   ]
  },
  {
   "cell_type": "markdown",
   "metadata": {},
   "source": [
    "### k-nearest neighbors"
   ]
  },
  {
   "cell_type": "code",
   "execution_count": 32,
   "metadata": {
    "scrolled": true
   },
   "outputs": [
    {
     "name": "stdout",
     "output_type": "stream",
     "text": [
      "('Accuracy', 0.8767272727272725)\n",
      "('Precision', 0.42816666666666664)\n",
      "('Recall', 0.18566666666666665)\n",
      "('F1-measure', 0.25098095238095236)\n"
     ]
    }
   ],
   "source": [
    "from sklearn.neighbors import KNeighborsClassifier\n",
    "clf = KNeighborsClassifier()\n",
    "\n",
    "# chama função com SSS\n",
    "validate(features, labels)"
   ]
  },
  {
   "cell_type": "markdown",
   "metadata": {},
   "source": [
    "### Random Forest"
   ]
  },
  {
   "cell_type": "code",
   "execution_count": 33,
   "metadata": {},
   "outputs": [
    {
     "name": "stderr",
     "output_type": "stream",
     "text": [
      "/Users/saidwafiq/anaconda3/envs/py27/lib/python2.7/site-packages/sklearn/ensemble/forest.py:246: FutureWarning: The default value of n_estimators will change from 10 in version 0.20 to 100 in 0.22.\n",
      "  \"10 in version 0.20 to 100 in 0.22.\", FutureWarning)\n"
     ]
    },
    {
     "name": "stdout",
     "output_type": "stream",
     "text": [
      "('Accuracy', 0.851181818181818)\n",
      "('Precision', 0.2538)\n",
      "('Recall', 0.12966666666666665)\n",
      "('F1-measure', 0.1635285714285714)\n"
     ]
    }
   ],
   "source": [
    "from sklearn.ensemble import RandomForestClassifier\n",
    "clf = RandomForestClassifier()\n",
    "\n",
    "# chama função com SSS\n",
    "validate(features, labels)"
   ]
  },
  {
   "cell_type": "markdown",
   "metadata": {},
   "source": [
    "### Decision Tree"
   ]
  },
  {
   "cell_type": "code",
   "execution_count": 34,
   "metadata": {},
   "outputs": [
    {
     "name": "stdout",
     "output_type": "stream",
     "text": [
      "('Accuracy', 0.7976818181818183)\n",
      "('Precision', 0.24780952380952379)\n",
      "('Recall', 0.2613333333333333)\n",
      "('F1-measure', 0.23879271284271283)\n"
     ]
    }
   ],
   "source": [
    "from sklearn.tree import DecisionTreeClassifier\n",
    "clf = DecisionTreeClassifier()\n",
    "\n",
    "# chama função com SSS\n",
    "validate(features, labels)"
   ]
  },
  {
   "cell_type": "markdown",
   "metadata": {},
   "source": [
    "### Ada Booster"
   ]
  },
  {
   "cell_type": "code",
   "execution_count": 35,
   "metadata": {},
   "outputs": [
    {
     "name": "stdout",
     "output_type": "stream",
     "text": [
      "('Accuracy', 0.8248636363636362)\n",
      "('Precision', 0.28669285714285714)\n",
      "('Recall', 0.23933333333333331)\n",
      "('F1-measure', 0.24552077922077922)\n"
     ]
    }
   ],
   "source": [
    "from sklearn.ensemble import AdaBoostClassifier\n",
    "clf = AdaBoostClassifier()\n",
    "\n",
    "# chama função com SSS\n",
    "validate(features, labels)"
   ]
  },
  {
   "cell_type": "markdown",
   "metadata": {},
   "source": [
    " ## Escalonando features\n",
    "Precisamos corrigir pesos discrepantes entre algumas features que possuem escalas muito diferentes como por exemplo `from messages` e `total_stock_value`. \n",
    "\n",
    "Features com pesos discrepantes podem impactar o modelo em classificadores como **SVM** e **K Means**."
   ]
  },
  {
   "cell_type": "code",
   "execution_count": 36,
   "metadata": {},
   "outputs": [],
   "source": [
    "from sklearn import preprocessing\n",
    "scaler = preprocessing.MinMaxScaler()\n",
    "features = scaler.fit_transform(features)"
   ]
  },
  {
   "cell_type": "markdown",
   "metadata": {},
   "source": [
    "### SVM"
   ]
  },
  {
   "cell_type": "code",
   "execution_count": 37,
   "metadata": {},
   "outputs": [
    {
     "name": "stderr",
     "output_type": "stream",
     "text": [
      "/Users/saidwafiq/anaconda3/envs/py27/lib/python2.7/site-packages/sklearn/svm/base.py:196: FutureWarning: The default value of gamma will change from 'auto' to 'scale' in version 0.22 to account better for unscaled features. Set gamma explicitly to 'auto' or 'scale' to avoid this warning.\n",
      "  \"avoid this warning.\", FutureWarning)\n"
     ]
    },
    {
     "name": "stdout",
     "output_type": "stream",
     "text": [
      "('Accuracy', 0.8636363636363634)\n",
      "('Precision', 0.0)\n",
      "('Recall', 0.0)\n",
      "('F1-measure', 0.0)\n"
     ]
    }
   ],
   "source": [
    "from sklearn.svm import SVC\n",
    "clf = SVC()\n",
    "\n",
    "# chama função com SSS\n",
    "validate(features, labels)"
   ]
  },
  {
   "cell_type": "markdown",
   "metadata": {},
   "source": [
    "### K Means"
   ]
  },
  {
   "cell_type": "code",
   "execution_count": 38,
   "metadata": {},
   "outputs": [
    {
     "name": "stdout",
     "output_type": "stream",
     "text": [
      "('Accuracy', 0.7115454545454545)\n",
      "('Precision', 0.17678845677026792)\n",
      "('Recall', 0.257)\n",
      "('F1-measure', 0.1498335455763333)\n"
     ]
    }
   ],
   "source": [
    "from sklearn.cluster import KMeans\n",
    "clf = KMeans(n_clusters=2)\n",
    "\n",
    "# chama função com SSS\n",
    "validate(features, labels)"
   ]
  },
  {
   "cell_type": "markdown",
   "metadata": {},
   "source": [
    "## Verificando os resultados\n",
    "\n",
    "    NB  ('Accuracy', 0.851) ('Precision', 0.399) ('Recall', 0.283) ('F1-measure', 0.311)\n",
    "    kNN ('Accuracy', 0.876) ('Precision', 0.428) ('Recall', 0.185) ('F1-measure', 0.250)\n",
    "    RF  ('Accuracy', 0.851) ('Precision', 0.253) ('Recall', 0.129) ('F1-measure', 0.163)\n",
    "    DT  ('Accuracy', 0.797) ('Precision', 0.247) ('Recall', 0.261) ('F1-measure', 0.238)\n",
    "    AB  ('Accuracy', 0.824) ('Precision', 0.286) ('Recall', 0.239) ('F1-measure', 0.245)\n",
    "    SVM ('Accuracy', 0.863) ('Precision', 0.0)   ('Recall', 0.0)   ('F1-measure', 0.0)\n",
    "    KM  ('Accuracy', 0.711) ('Precision', 0.176) ('Recall', 0.257) ('F1-measure', 0.149)\n",
    "    \n",
    "Naive Bayes apresentou um indice de acurácia bom e o melhor F1 score, dos algoritmos de aprendizagem supervisionada o Random Forest se saiu pior, com o menor F1 score. \n",
    "\n",
    "K Means, algoritmo de aprendizagem não supervisionada, teve o pior F1 score de todos que foram testados.\n",
    "\n",
    "Como nosso objetivo é classificar POI e Não POI e como temos dados de entrada que correspondem ao que queremos classificar, **selecionei dois algoritmos** de aprendizagem supervisionada. **Naives Bayes**, que teve o melhor resultado e **Random Forest**, que teve o pior resultado. \n",
    "#### Dessa forma, quando trabalharmos na afinação do algoritmo, conseguiremos ter uma ideia melhor do impacto dessa fase no ajuste do modelo."
   ]
  },
  {
   "cell_type": "markdown",
   "metadata": {},
   "source": [
    "# Criando uma nova feature\n",
    "O objetivo nesta etapa é combinar features para melhorar o desempenho do classificador.\n",
    "\n",
    "Nesse caso proponho trabalhar com o ratio entre `total_payments` e `salary`, supondo que essa relação deveria ser harmônica entre POI e não POI. Uma eventual distorção poderia ser um sinal de alerta, indicando um possível POI."
   ]
  },
  {
   "cell_type": "code",
   "execution_count": 39,
   "metadata": {},
   "outputs": [
    {
     "data": {
      "text/plain": [
       "(143, 22)"
      ]
     },
     "execution_count": 39,
     "metadata": {},
     "output_type": "execute_result"
    }
   ],
   "source": [
    "### Task 3: Create new feature(s)\n",
    "df_2 = df.copy()\n",
    "df_2['ts_ratio'] = df_2['total_payments']/df_2['salary']\n",
    "df_nona = df_2.fillna(value='NaN')\n",
    "data_dict_2 = df_nona.to_dict(orient='index')\n",
    "df_2.shape"
   ]
  },
  {
   "cell_type": "code",
   "execution_count": 40,
   "metadata": {},
   "outputs": [
    {
     "data": {
      "text/html": [
       "<div>\n",
       "<style scoped>\n",
       "    .dataframe tbody tr th:only-of-type {\n",
       "        vertical-align: middle;\n",
       "    }\n",
       "\n",
       "    .dataframe tbody tr th {\n",
       "        vertical-align: top;\n",
       "    }\n",
       "\n",
       "    .dataframe thead th {\n",
       "        text-align: right;\n",
       "    }\n",
       "</style>\n",
       "<table border=\"1\" class=\"dataframe\">\n",
       "  <thead>\n",
       "    <tr style=\"text-align: right;\">\n",
       "      <th></th>\n",
       "      <th>salary</th>\n",
       "      <th>to_messages</th>\n",
       "      <th>deferral_payments</th>\n",
       "      <th>total_payments</th>\n",
       "      <th>exercised_stock_options</th>\n",
       "      <th>bonus</th>\n",
       "      <th>restricted_stock</th>\n",
       "      <th>shared_receipt_with_poi</th>\n",
       "      <th>restricted_stock_deferred</th>\n",
       "      <th>total_stock_value</th>\n",
       "      <th>...</th>\n",
       "      <th>from_messages</th>\n",
       "      <th>other</th>\n",
       "      <th>from_this_person_to_poi</th>\n",
       "      <th>poi</th>\n",
       "      <th>director_fees</th>\n",
       "      <th>deferred_income</th>\n",
       "      <th>long_term_incentive</th>\n",
       "      <th>email_address</th>\n",
       "      <th>from_poi_to_this_person</th>\n",
       "      <th>ts_ratio</th>\n",
       "    </tr>\n",
       "  </thead>\n",
       "  <tbody>\n",
       "    <tr>\n",
       "      <th>BANNANTINE JAMES M</th>\n",
       "      <td>477.0</td>\n",
       "      <td>566.0</td>\n",
       "      <td>NaN</td>\n",
       "      <td>916197.0</td>\n",
       "      <td>4046157.0</td>\n",
       "      <td>NaN</td>\n",
       "      <td>1757552.0</td>\n",
       "      <td>465.0</td>\n",
       "      <td>-560222.0</td>\n",
       "      <td>5243487.0</td>\n",
       "      <td>...</td>\n",
       "      <td>29.0</td>\n",
       "      <td>864523.0</td>\n",
       "      <td>0.0</td>\n",
       "      <td>False</td>\n",
       "      <td>NaN</td>\n",
       "      <td>-5104.0</td>\n",
       "      <td>NaN</td>\n",
       "      <td>james.bannantine@enron.com</td>\n",
       "      <td>39.0</td>\n",
       "      <td>1920.748428</td>\n",
       "    </tr>\n",
       "    <tr>\n",
       "      <th>GRAY RODNEY</th>\n",
       "      <td>6615.0</td>\n",
       "      <td>NaN</td>\n",
       "      <td>93585.0</td>\n",
       "      <td>1146658.0</td>\n",
       "      <td>NaN</td>\n",
       "      <td>NaN</td>\n",
       "      <td>NaN</td>\n",
       "      <td>NaN</td>\n",
       "      <td>NaN</td>\n",
       "      <td>NaN</td>\n",
       "      <td>...</td>\n",
       "      <td>NaN</td>\n",
       "      <td>680833.0</td>\n",
       "      <td>NaN</td>\n",
       "      <td>False</td>\n",
       "      <td>NaN</td>\n",
       "      <td>NaN</td>\n",
       "      <td>365625.0</td>\n",
       "      <td>NaN</td>\n",
       "      <td>NaN</td>\n",
       "      <td>173.342101</td>\n",
       "    </tr>\n",
       "    <tr>\n",
       "      <th>LAY KENNETH L</th>\n",
       "      <td>1072321.0</td>\n",
       "      <td>4273.0</td>\n",
       "      <td>202911.0</td>\n",
       "      <td>103559793.0</td>\n",
       "      <td>34348384.0</td>\n",
       "      <td>7000000.0</td>\n",
       "      <td>14761694.0</td>\n",
       "      <td>2411.0</td>\n",
       "      <td>NaN</td>\n",
       "      <td>49110078.0</td>\n",
       "      <td>...</td>\n",
       "      <td>36.0</td>\n",
       "      <td>10359729.0</td>\n",
       "      <td>16.0</td>\n",
       "      <td>True</td>\n",
       "      <td>NaN</td>\n",
       "      <td>-300000.0</td>\n",
       "      <td>3600000.0</td>\n",
       "      <td>kenneth.lay@enron.com</td>\n",
       "      <td>123.0</td>\n",
       "      <td>96.575366</td>\n",
       "    </tr>\n",
       "    <tr>\n",
       "      <th>LAVORATO JOHN J</th>\n",
       "      <td>339288.0</td>\n",
       "      <td>7259.0</td>\n",
       "      <td>NaN</td>\n",
       "      <td>10425757.0</td>\n",
       "      <td>4158995.0</td>\n",
       "      <td>8000000.0</td>\n",
       "      <td>1008149.0</td>\n",
       "      <td>3962.0</td>\n",
       "      <td>NaN</td>\n",
       "      <td>5167144.0</td>\n",
       "      <td>...</td>\n",
       "      <td>2585.0</td>\n",
       "      <td>1552.0</td>\n",
       "      <td>411.0</td>\n",
       "      <td>False</td>\n",
       "      <td>NaN</td>\n",
       "      <td>NaN</td>\n",
       "      <td>2035380.0</td>\n",
       "      <td>john.lavorato@enron.com</td>\n",
       "      <td>528.0</td>\n",
       "      <td>30.728340</td>\n",
       "    </tr>\n",
       "    <tr>\n",
       "      <th>BELDEN TIMOTHY N</th>\n",
       "      <td>213999.0</td>\n",
       "      <td>7991.0</td>\n",
       "      <td>2144013.0</td>\n",
       "      <td>5501630.0</td>\n",
       "      <td>953136.0</td>\n",
       "      <td>5249999.0</td>\n",
       "      <td>157569.0</td>\n",
       "      <td>5521.0</td>\n",
       "      <td>NaN</td>\n",
       "      <td>1110705.0</td>\n",
       "      <td>...</td>\n",
       "      <td>484.0</td>\n",
       "      <td>210698.0</td>\n",
       "      <td>108.0</td>\n",
       "      <td>True</td>\n",
       "      <td>NaN</td>\n",
       "      <td>-2334434.0</td>\n",
       "      <td>NaN</td>\n",
       "      <td>tim.belden@enron.com</td>\n",
       "      <td>228.0</td>\n",
       "      <td>25.708672</td>\n",
       "    </tr>\n",
       "  </tbody>\n",
       "</table>\n",
       "<p>5 rows × 22 columns</p>\n",
       "</div>"
      ],
      "text/plain": [
       "                       salary  to_messages  deferral_payments  total_payments  \\\n",
       "BANNANTINE JAMES M      477.0        566.0                NaN        916197.0   \n",
       "GRAY RODNEY            6615.0          NaN            93585.0       1146658.0   \n",
       "LAY KENNETH L       1072321.0       4273.0           202911.0     103559793.0   \n",
       "LAVORATO JOHN J      339288.0       7259.0                NaN      10425757.0   \n",
       "BELDEN TIMOTHY N     213999.0       7991.0          2144013.0       5501630.0   \n",
       "\n",
       "                    exercised_stock_options      bonus  restricted_stock  \\\n",
       "BANNANTINE JAMES M                4046157.0        NaN         1757552.0   \n",
       "GRAY RODNEY                             NaN        NaN               NaN   \n",
       "LAY KENNETH L                    34348384.0  7000000.0        14761694.0   \n",
       "LAVORATO JOHN J                   4158995.0  8000000.0         1008149.0   \n",
       "BELDEN TIMOTHY N                   953136.0  5249999.0          157569.0   \n",
       "\n",
       "                    shared_receipt_with_poi  restricted_stock_deferred  \\\n",
       "BANNANTINE JAMES M                    465.0                  -560222.0   \n",
       "GRAY RODNEY                             NaN                        NaN   \n",
       "LAY KENNETH L                        2411.0                        NaN   \n",
       "LAVORATO JOHN J                      3962.0                        NaN   \n",
       "BELDEN TIMOTHY N                     5521.0                        NaN   \n",
       "\n",
       "                    total_stock_value  ...  from_messages       other  \\\n",
       "BANNANTINE JAMES M          5243487.0  ...           29.0    864523.0   \n",
       "GRAY RODNEY                       NaN  ...            NaN    680833.0   \n",
       "LAY KENNETH L              49110078.0  ...           36.0  10359729.0   \n",
       "LAVORATO JOHN J             5167144.0  ...         2585.0      1552.0   \n",
       "BELDEN TIMOTHY N            1110705.0  ...          484.0    210698.0   \n",
       "\n",
       "                    from_this_person_to_poi    poi  director_fees  \\\n",
       "BANNANTINE JAMES M                      0.0  False            NaN   \n",
       "GRAY RODNEY                             NaN  False            NaN   \n",
       "LAY KENNETH L                          16.0   True            NaN   \n",
       "LAVORATO JOHN J                       411.0  False            NaN   \n",
       "BELDEN TIMOTHY N                      108.0   True            NaN   \n",
       "\n",
       "                    deferred_income  long_term_incentive  \\\n",
       "BANNANTINE JAMES M          -5104.0                  NaN   \n",
       "GRAY RODNEY                     NaN             365625.0   \n",
       "LAY KENNETH L             -300000.0            3600000.0   \n",
       "LAVORATO JOHN J                 NaN            2035380.0   \n",
       "BELDEN TIMOTHY N         -2334434.0                  NaN   \n",
       "\n",
       "                                 email_address  from_poi_to_this_person  \\\n",
       "BANNANTINE JAMES M  james.bannantine@enron.com                     39.0   \n",
       "GRAY RODNEY                                NaN                      NaN   \n",
       "LAY KENNETH L            kenneth.lay@enron.com                    123.0   \n",
       "LAVORATO JOHN J        john.lavorato@enron.com                    528.0   \n",
       "BELDEN TIMOTHY N          tim.belden@enron.com                    228.0   \n",
       "\n",
       "                       ts_ratio  \n",
       "BANNANTINE JAMES M  1920.748428  \n",
       "GRAY RODNEY          173.342101  \n",
       "LAY KENNETH L         96.575366  \n",
       "LAVORATO JOHN J       30.728340  \n",
       "BELDEN TIMOTHY N      25.708672  \n",
       "\n",
       "[5 rows x 22 columns]"
      ]
     },
     "execution_count": 40,
     "metadata": {},
     "output_type": "execute_result"
    }
   ],
   "source": [
    "df_2.nlargest(5, 'ts_ratio')"
   ]
  },
  {
   "cell_type": "code",
   "execution_count": 41,
   "metadata": {},
   "outputs": [],
   "source": [
    "my_dataset_2 = data_dict_2\n",
    "\n",
    "my_features_list2 = ['poi', \n",
    "                    'total_stock_value', \n",
    "                    'from_messages', \n",
    "                    'restricted_stock', \n",
    "                    'from_this_person_to_poi',  \n",
    "                    'exercised_stock_options', \n",
    "                    'from_poi_to_this_person', \n",
    "                    'total_payments', \n",
    "                    'bonus', \n",
    "                    'salary',\n",
    "                    'ts_ratio']"
   ]
  },
  {
   "cell_type": "markdown",
   "metadata": {},
   "source": [
    "## Testando o novo atributo `ts_ratio`"
   ]
  },
  {
   "cell_type": "code",
   "execution_count": 42,
   "metadata": {},
   "outputs": [],
   "source": [
    "### Extract my features and labels from dataset for local testing\n",
    "data2 = featureFormat(my_dataset_2, my_features_list2, sort_keys = True)\n",
    "labels, features = targetFeatureSplit(data2)\n"
   ]
  },
  {
   "cell_type": "code",
   "execution_count": 43,
   "metadata": {},
   "outputs": [
    {
     "name": "stdout",
     "output_type": "stream",
     "text": [
      "('Accuracy', 0.8504545454545452)\n",
      "('Precision', 0.39865952380952374)\n",
      "('Recall', 0.2866666666666666)\n",
      "('F1-measure', 0.3129958152958153)\n"
     ]
    }
   ],
   "source": [
    "from sklearn.naive_bayes import GaussianNB\n",
    "clf = GaussianNB()\n",
    "\n",
    "# chama função com SSS\n",
    "validate(features, labels)"
   ]
  },
  {
   "cell_type": "code",
   "execution_count": 44,
   "metadata": {},
   "outputs": [
    {
     "name": "stdout",
     "output_type": "stream",
     "text": [
      "('Accuracy', 0.8529090909090907)\n",
      "('Precision', 0.24605000000000002)\n",
      "('Recall', 0.12766666666666665)\n",
      "('F1-measure', 0.1594269841269841)\n"
     ]
    }
   ],
   "source": [
    "from sklearn.ensemble import RandomForestClassifier\n",
    "clf = RandomForestClassifier()\n",
    "\n",
    "# chama função com SSS\n",
    "validate(features, labels)"
   ]
  },
  {
   "cell_type": "markdown",
   "metadata": {},
   "source": [
    "## Comparando os resultados com o atributo `ts_ratio`\n",
    "\n",
    "    NB  ('Accuracy', 0.851) ('Precision', 0.399) ('Recall', 0.283) ('F1-measure', 0.311)\n",
    "    NB  ('Accuracy', 0.850) ('Precision', 0.398) ('Recall', 0.286) ('F1-measure', 0.312)\n",
    "    \n",
    "    RF  ('Accuracy', 0.851) ('Precision', 0.253) ('Recall', 0.129) ('F1-measure', 0.163)\n",
    "    RF  ('Accuracy', 0.852) ('Precision', 0.246) ('Recall', 0.127) ('F1-measure', 0.159)\n",
    "                        "
   ]
  },
  {
   "cell_type": "markdown",
   "metadata": {},
   "source": [
    "#### O novo atributo não teve efeito considerável com o classificador Naive Bayes.  Mas piorou sensivelmente o modelo que usa Random Forest"
   ]
  },
  {
   "cell_type": "markdown",
   "metadata": {},
   "source": [
    "# Outra forma de selecionar features\n",
    "O scikit-learn possui um módulo de seleção de features auxiliando na melhoria da acurácia e performance do modelo."
   ]
  },
  {
   "cell_type": "code",
   "execution_count": 45,
   "metadata": {},
   "outputs": [],
   "source": [
    "# adicionando todas as features\n",
    "features_list = ['poi',\n",
    "                 'salary',\n",
    "                 'to_messages',\n",
    "                 'deferral_payments',\n",
    "                 'total_payments',\n",
    "                 'exercised_stock_options',\n",
    "                 'bonus',\n",
    "                 'restricted_stock',\n",
    "                 'shared_receipt_with_poi',\n",
    "                 'restricted_stock_deferred',\n",
    "                 'total_stock_value',\n",
    "                 'expenses',\n",
    "                 'loan_advances',\n",
    "                 'from_messages',\n",
    "                 'other',\n",
    "                 'from_this_person_to_poi',\n",
    "                 'director_fees',\n",
    "                 'deferred_income',\n",
    "                 'long_term_incentive',\n",
    "                 'from_poi_to_this_person'\n",
    "                ]"
   ]
  },
  {
   "cell_type": "markdown",
   "metadata": {},
   "source": [
    "### SelectKBest\n",
    "Utilizamos o módulo SelectKBest que por meio do teste da Análise de Variância ANOVA- ANAlysis of VAriance determina quais as features mais importantes."
   ]
  },
  {
   "cell_type": "code",
   "execution_count": 46,
   "metadata": {},
   "outputs": [],
   "source": [
    "data3 = featureFormat(my_dataset, features_list)\n",
    "labels, features = targetFeatureSplit(data3)\n",
    "\n",
    "##avalia o score de cada feature\n",
    "from sklearn.feature_selection import SelectKBest, f_classif\n",
    "selek = SelectKBest(f_classif, k='all').fit(features, labels)"
   ]
  },
  {
   "cell_type": "code",
   "execution_count": 47,
   "metadata": {},
   "outputs": [
    {
     "data": {
      "text/plain": [
       "[('exercised_stock_options', 24.815079733218194),\n",
       " ('total_stock_value', 24.18289867856688),\n",
       " ('bonus', 20.792252047181535),\n",
       " ('salary', 18.289684043404513),\n",
       " ('deferred_income', 11.458476579280369),\n",
       " ('long_term_incentive', 9.922186013189823),\n",
       " ('restricted_stock', 9.2128106219771),\n",
       " ('total_payments', 8.77277773009168),\n",
       " ('shared_receipt_with_poi', 8.589420731682381),\n",
       " ('loan_advances', 7.184055658288725),\n",
       " ('expenses', 6.094173310638945),\n",
       " ('from_poi_to_this_person', 5.243449713374958),\n",
       " ('other', 4.187477506995375),\n",
       " ('from_this_person_to_poi', 2.382612108227674),\n",
       " ('director_fees', 2.1263278020077054),\n",
       " ('to_messages', 1.6463411294420076),\n",
       " ('deferral_payments', 0.2246112747360099),\n",
       " ('from_messages', 0.16970094762175533),\n",
       " ('restricted_stock_deferred', 0.06549965290994214)]"
      ]
     },
     "execution_count": 47,
     "metadata": {},
     "output_type": "execute_result"
    }
   ],
   "source": [
    "##concatena o nome da feature e seu respectivo score\n",
    "all_scores_dict = {}\n",
    "for i, score in enumerate(selek.scores_):\n",
    "    all_scores_dict[features_list[i+1]] = score\n",
    "\n",
    "##organiza features e respectivos scores em ordem decrescente\n",
    "import operator\n",
    "sorted_dict_scores = sorted(all_scores_dict.items(), key=operator.itemgetter(1),reverse = True)\n",
    "\n",
    "sorted_dict_scores"
   ]
  },
  {
   "cell_type": "markdown",
   "metadata": {},
   "source": [
    "#### Para comparar com as listas de atributos anteriores, vamos selecionar a mesma quantidade de features: `10`, de maior score e incluindo o `poi`."
   ]
  },
  {
   "cell_type": "code",
   "execution_count": 48,
   "metadata": {},
   "outputs": [],
   "source": [
    "features_list = ['poi',\n",
    "                 'salary',\n",
    "                 'total_payments',\n",
    "                 'exercised_stock_options',\n",
    "                 'bonus',\n",
    "                 'restricted_stock',\n",
    "                 'total_stock_value',\n",
    "                 'deferred_income',\n",
    "                 'long_term_incentive',\n",
    "                 'shared_receipt_with_poi'\n",
    "                ]\n",
    "\n",
    "data3 = featureFormat(my_dataset, features_list)\n",
    "labels, features = targetFeatureSplit(data3)"
   ]
  },
  {
   "cell_type": "code",
   "execution_count": 49,
   "metadata": {
    "scrolled": true
   },
   "outputs": [
    {
     "name": "stdout",
     "output_type": "stream",
     "text": [
      "('Accuracy', 0.8398636363636363)\n",
      "('Precision', 0.4013416666666667)\n",
      "('Recall', 0.321)\n",
      "('F1-measure', 0.335204329004329)\n"
     ]
    }
   ],
   "source": [
    "## NB\n",
    "from sklearn.naive_bayes import GaussianNB\n",
    "clf = GaussianNB()\n",
    "\n",
    "# chama função com SSS\n",
    "validate(features, labels)"
   ]
  },
  {
   "cell_type": "code",
   "execution_count": 51,
   "metadata": {},
   "outputs": [
    {
     "name": "stdout",
     "output_type": "stream",
     "text": [
      "('Accuracy', 0.8549545454545453)\n",
      "('Precision', 0.3055833333333333)\n",
      "('Recall', 0.16066666666666668)\n",
      "('F1-measure', 0.2002944444444444)\n"
     ]
    }
   ],
   "source": [
    "## RF\n",
    "from sklearn.ensemble import RandomForestClassifier\n",
    "clf = RandomForestClassifier()\n",
    "\n",
    "# chama função com SSS\n",
    "validate(features, labels)"
   ]
  },
  {
   "cell_type": "markdown",
   "metadata": {},
   "source": [
    "## Comparando os resultados\n",
    "\n",
    "    NB  ('Accuracy', 0.851) ('Precision', 0.399) ('Recall', 0.283) ('F1-measure', 0.311)\n",
    "    NB  ('Accuracy', 0.850) ('Precision', 0.398) ('Recall', 0.286) ('F1-measure', 0.312)\n",
    "    NB  ('Accuracy', 0.839) ('Precision', 0.401) ('Recall', 0.321) ('F1-measure', 0.335)\n",
    "    \n",
    "    RF  ('Accuracy', 0.851) ('Precision', 0.253) ('Recall', 0.129) ('F1-measure', 0.163)\n",
    "    RF  ('Accuracy', 0.852) ('Precision', 0.246) ('Recall', 0.127) ('F1-measure', 0.159)\n",
    "    RF  ('Accuracy', 0.854) ('Precision', 0.305) ('Recall', 0.160) ('F1-measure', 0.200) \n",
    "    \n",
    "A nova lista de atributos melhorou os resultados dos dois classificadores, no caso do **Naive Bayes**, atingimos um resultado que cumpre o objetivo da rúbrica, com **0.401 de Precision** e  **0.321 de Recall**"
   ]
  },
  {
   "cell_type": "markdown",
   "metadata": {},
   "source": [
    "# Afinação do algoritmo\n",
    "A tarefa de *model tuning* trata a questão de como encontrar os melhores hiper parâmetros para o modelo escolhido.\n",
    "\n",
    "Treinamos nosso modelo com a configuração de parâmetros padrão para servir de *baseline* e agora vamos tentar melhorar os resultados testando diversas configurações de parâmetros.\n",
    "\n",
    "Existem duas formas de fazer isso:\n",
    "\n",
    "- Manualmente: testar diferentes parâmetros, um a um, e analisar os resultados.\n",
    "- Usando algoritmos de tuning: um algoritmo pode testar diferentes cenários.\n",
    "\n",
    "Existem duas classes de algoritmos de tuning:\n",
    "\n",
    "- Grid search: define-se exatamente quais são os valores dos parâmetros que serão testados.\n",
    "- Random search: valores aleatórios de parâmetros são testados.\n",
    "\n",
    "#### Vamos trabalhar com o algoritmo de tuning `GridSearchCV` e `RandomizedSearchCV` e vamos compará-los.\n",
    "\n",
    "Como não há quase parâmetros para tunar no **Naive Bayes**, vamos trabalhar apenas com o **Random Forest** e ver o quanto conseguimos otimizar este modelo."
   ]
  },
  {
   "cell_type": "code",
   "execution_count": 77,
   "metadata": {},
   "outputs": [
    {
     "name": "stdout",
     "output_type": "stream",
     "text": [
      "RandomizedSearchCV took 36.03 seconds for 50 candidates parameter settings.\n",
      "Model with rank: 1\n",
      "Mean validation score: 0.350 (std: 0.200)\n",
      "Parameters: {'n_estimators': 9, 'min_samples_split': 9, 'criterion': 'gini', 'max_features': 2, 'max_depth': 3, 'class_weight': 'balanced'}\n",
      "\n",
      "Model with rank: 2\n",
      "Mean validation score: 0.345 (std: 0.217)\n",
      "Parameters: {'n_estimators': 6, 'min_samples_split': 9, 'criterion': 'gini', 'max_features': 1, 'max_depth': 3, 'class_weight': 'balanced'}\n",
      "\n",
      "Model with rank: 3\n",
      "Mean validation score: 0.337 (std: 0.236)\n",
      "Parameters: {'n_estimators': 6, 'min_samples_split': 9, 'criterion': 'entropy', 'max_features': 3, 'max_depth': 3, 'class_weight': 'balanced'}\n",
      "\n"
     ]
    }
   ],
   "source": [
    "from time import time\n",
    "from scipy.stats import randint as sp_randint\n",
    "from sklearn.model_selection import RandomizedSearchCV\n",
    "from sklearn.metrics import f1_score, make_scorer\n",
    "\n",
    "# criando o f1 score para rankeamento\n",
    "f1 = make_scorer(f1_score)\n",
    "\n",
    "# Utility function to report best scores\n",
    "def report(results, n_top=3):\n",
    "    for i in range(1, n_top + 1):\n",
    "        candidates = np.flatnonzero(results['rank_test_score'] == i)\n",
    "        for candidate in candidates:\n",
    "            print(\"Model with rank: {0}\".format(i))\n",
    "            print(\"Mean validation score: {0:.3f} (std: {1:.3f})\".format(\n",
    "                  results['mean_test_score'][candidate],\n",
    "                  results['std_test_score'][candidate]))\n",
    "            print(\"Parameters: {0}\".format(results['params'][candidate]))\n",
    "            print(\"\")\n",
    "\n",
    "# specify parameters and distributions to sample from\n",
    "param_dist = {'max_depth': [3, None],\n",
    "              'max_features': sp_randint(1, 9),\n",
    "              'min_samples_split': sp_randint(2, 11),\n",
    "              'class_weight':(None, 'balanced'),\n",
    "              'criterion': ['gini', 'entropy'],\n",
    "              'n_estimators': sp_randint(2, 12)}\n",
    "\n",
    "# run randomized search\n",
    "n_iter_search = 50\n",
    "random_search = RandomizedSearchCV(clf, scoring=f1, param_distributions=param_dist,\n",
    "                                   n_iter=n_iter_search, cv=StratifiedShuffleSplit(n_splits=40, test_size=0.15, random_state=42))\n",
    "\n",
    "start = time()\n",
    "random_search.fit(features, labels)\n",
    "print('RandomizedSearchCV took %.2f seconds for %d candidates'\n",
    "      ' parameter settings.' % ((time() - start), n_iter_search))\n",
    "report(random_search.cv_results_)"
   ]
  },
  {
   "cell_type": "code",
   "execution_count": 68,
   "metadata": {},
   "outputs": [
    {
     "name": "stdout",
     "output_type": "stream",
     "text": [
      "('Accuracy', 0.7845454545454545)\n",
      "('Precision', 0.2763925324675325)\n",
      "('Recall', 0.3386666666666666)\n",
      "('F1-measure', 0.28580956265956264)\n"
     ]
    }
   ],
   "source": [
    "## RF\n",
    "clf = RandomForestClassifier(n_estimators = 5,\n",
    "                             max_features = 5, \n",
    "                             min_samples_split = 9, \n",
    "                             criterion = 'entropy', \n",
    "                             max_depth = 3, \n",
    "                             class_weight = 'balanced')\n",
    "validate(features, labels)"
   ]
  },
  {
   "cell_type": "markdown",
   "metadata": {},
   "source": [
    "O `RandomSearchCV` teve boa performance e apresentou uma configuração de parâmetros que de fato melhorou o resultado do modelo, no entanto não foi o suciente para atingir o requisito mínimo da rúbrica.\n",
    "\n",
    "    RF  ('Accuracy', 0.784) ('Precision', 0.276) ('Recall', 0.338) ('F1-measure', 0.285)"
   ]
  },
  {
   "cell_type": "code",
   "execution_count": 69,
   "metadata": {},
   "outputs": [
    {
     "name": "stdout",
     "output_type": "stream",
     "text": [
      "GridSearchCV took 232.70 seconds for 384 candidate parameter settings.\n",
      "Model with rank: 1\n",
      "Mean validation score: 0.374 (std: 0.220)\n",
      "Parameters: {'n_estimators': 8, 'min_samples_split': 11, 'criterion': 'gini', 'max_features': 3, 'max_depth': 3, 'class_weight': 'balanced'}\n",
      "\n",
      "Model with rank: 2\n",
      "Mean validation score: 0.373 (std: 0.228)\n",
      "Parameters: {'n_estimators': 6, 'min_samples_split': 2, 'criterion': 'entropy', 'max_features': 3, 'max_depth': 3, 'class_weight': 'balanced'}\n",
      "\n",
      "Model with rank: 3\n",
      "Mean validation score: 0.373 (std: 0.243)\n",
      "Parameters: {'n_estimators': 8, 'min_samples_split': 7, 'criterion': 'entropy', 'max_features': 1, 'max_depth': 3, 'class_weight': 'balanced'}\n",
      "\n"
     ]
    }
   ],
   "source": [
    "from sklearn.model_selection import GridSearchCV\n",
    "\n",
    "# use a full grid over all parameters\n",
    "param_grid = {'max_depth': [3, None],\n",
    "              'max_features': [None, 1, 3, 8],\n",
    "              'min_samples_split': [2, 3, 7, 11],\n",
    "              'class_weight':(None, 'balanced'),\n",
    "              'criterion': ['gini', 'entropy'],\n",
    "              'n_estimators': [2, 6, 8]}\n",
    "\n",
    "# run grid search\n",
    "grid_search = GridSearchCV(clf, scoring=f1, param_grid=param_grid, cv=StratifiedShuffleSplit(n_splits=40, test_size=0.15, random_state=42))\n",
    "start = time()\n",
    "grid_search.fit(features, labels)\n",
    "\n",
    "print(\"GridSearchCV took %.2f seconds for %d candidate parameter settings.\"\n",
    "      % (time() - start, len(grid_search.cv_results_['params'])))\n",
    "report(grid_search.cv_results_)"
   ]
  },
  {
   "cell_type": "code",
   "execution_count": 70,
   "metadata": {},
   "outputs": [
    {
     "name": "stdout",
     "output_type": "stream",
     "text": [
      "('Accuracy', 0.7821818181818181)\n",
      "('Precision', 0.2793414502164502)\n",
      "('Recall', 0.35666666666666663)\n",
      "('F1-measure', 0.2952070374070374)\n"
     ]
    }
   ],
   "source": [
    "## RF\n",
    "clf = RandomForestClassifier(n_estimators = 8,\n",
    "                             max_features = 3, \n",
    "                             min_samples_split = 11, \n",
    "                             criterion = 'gini', \n",
    "                             max_depth = 3, \n",
    "                             class_weight = 'balanced')\n",
    "validate(features, labels)"
   ]
  },
  {
   "cell_type": "markdown",
   "metadata": {},
   "source": [
    "O `GridSearchCV` teve performance ainda melhor e apresentou uma configuração de parâmetros que teve o melhor resultado de todas as interações com o classificador `Random Forest`, no entanto ainda não foi o suficiente para atingir 0.3 em precision e recall.\n",
    "\n",
    "    RF  ('Accuracy', 0.782) ('Precision', 0.279) ('Recall', 0.356) ('F1-measure', 0.295)\n",
    "    \n",
    "Ficou evidente o impacto que a afinação do algoritmo teve no resultado do modelo. Vamos então explorar o tuning no `Decision Tree` que permite diversos parametros de teste."
   ]
  },
  {
   "cell_type": "code",
   "execution_count": 82,
   "metadata": {},
   "outputs": [
    {
     "name": "stdout",
     "output_type": "stream",
     "text": [
      "GridSearchCV took 28.76 seconds for 256 candidate parameter settings.\n",
      "Model with rank: 1\n",
      "Mean validation score: 0.377 (std: 0.169)\n",
      "Parameters: {'splitter': 'best', 'min_samples_split': 3, 'criterion': 'gini', 'max_features': 1, 'max_depth': 3, 'class_weight': 'balanced'}\n",
      "\n",
      "Model with rank: 2\n",
      "Mean validation score: 0.369 (std: 0.171)\n",
      "Parameters: {'splitter': 'random', 'min_samples_split': 7, 'criterion': 'gini', 'max_features': None, 'max_depth': 3, 'class_weight': 'balanced'}\n",
      "\n",
      "Model with rank: 3\n",
      "Mean validation score: 0.366 (std: 0.143)\n",
      "Parameters: {'splitter': 'random', 'min_samples_split': 7, 'criterion': 'gini', 'max_features': 8, 'max_depth': 3, 'class_weight': 'balanced'}\n",
      "\n"
     ]
    }
   ],
   "source": [
    "clf = DecisionTreeClassifier()\n",
    "\n",
    "# use a full grid over all parameters\n",
    "param_grid = {'max_depth': [3, None],\n",
    "              'max_features': [None, 1, 3, 8],\n",
    "              'min_samples_split': [2, 3, 7, 11],\n",
    "              'class_weight':(None, 'balanced'),\n",
    "              'criterion': ['gini', 'entropy'],\n",
    "              'splitter': ['best', 'random']}\n",
    "\n",
    "# run grid search\n",
    "grid_search = GridSearchCV(clf, scoring=f1, param_grid=param_grid, cv=StratifiedShuffleSplit(n_splits=40, test_size=0.15, random_state=42))\n",
    "start = time()\n",
    "grid_search.fit(features, labels)\n",
    "\n",
    "print(\"GridSearchCV took %.2f seconds for %d candidate parameter settings.\"\n",
    "      % (time() - start, len(grid_search.cv_results_['params'])))\n",
    "report(grid_search.cv_results_)"
   ]
  },
  {
   "cell_type": "code",
   "execution_count": 88,
   "metadata": {},
   "outputs": [
    {
     "name": "stdout",
     "output_type": "stream",
     "text": [
      "('Accuracy', 0.7003181818181818)\n",
      "('Precision', 0.25178165592577356)\n",
      "('Recall', 0.5196666666666667)\n",
      "('F1-measure', 0.31774761372957966)\n"
     ]
    }
   ],
   "source": [
    "## DT\n",
    "clf = DecisionTreeClassifier(splitter ='best',\n",
    "                             max_features = 1, \n",
    "                             min_samples_split = 3, \n",
    "                             criterion = 'gini', \n",
    "                             max_depth = 3, \n",
    "                             class_weight = 'balanced')\n",
    "validate(features, labels)"
   ]
  },
  {
   "cell_type": "markdown",
   "metadata": {},
   "source": [
    "    DT  ('Accuracy', 0.797) ('Precision', 0.247) ('Recall', 0.261) ('F1-measure', 0.238)\n",
    "    DT  ('Accuracy', 0.700) ('Precision', 0.251) ('Recall', 0.519) ('F1-measure', 0.317)\n",
    "\n",
    "Houve melhora no **F1**, **Precision** e grande melhora no **Recall**, o que para nosso modelo é muito interessante pois queremos identificar os suspeitos de fraude e nesse caso é **melhor ter mais falsos positivos**, já que numa investigação posterior estes seriam inocentados. Ter maioria de falsos negativos seria um problema, porque possíveis  culpados não seriam investigados.\n",
    "\n",
    "No entanto, parece que a lista de features selecionadas ainda não é a ideal. Apesar da seleção ter respeitado os scores mais altos segundo o `SelectKBest`, muitas dessas features tem alta proporção de dados `NaN`.\n",
    "\n",
    "Selecionei todas as features relacionadas a POI, mas para evitar bias criei noise com as features que possuem mais dados."
   ]
  },
  {
   "cell_type": "code",
   "execution_count": 111,
   "metadata": {},
   "outputs": [],
   "source": [
    "features_list = ['poi',\n",
    "                 'total_payments',\n",
    "                 'total_stock_value',\n",
    "                 'shared_receipt_with_poi']\n",
    "\n",
    "data4 = featureFormat(my_dataset, features_list)\n",
    "labels, features = targetFeatureSplit(data4)"
   ]
  },
  {
   "cell_type": "code",
   "execution_count": 112,
   "metadata": {},
   "outputs": [
    {
     "name": "stdout",
     "output_type": "stream",
     "text": [
      "GridSearchCV took 53.05 seconds for 192 candidate parameter settings.\n",
      "Model with rank: 1\n",
      "Mean validation score: 0.371 (std: 0.176)\n",
      "Parameters: {'splitter': 'random', 'min_samples_split': 11, 'criterion': 'gini', 'max_features': 3, 'max_depth': None, 'class_weight': 'balanced'}\n",
      "\n",
      "Model with rank: 2\n",
      "Mean validation score: 0.369 (std: 0.157)\n",
      "Parameters: {'splitter': 'best', 'min_samples_split': 7, 'criterion': 'gini', 'max_features': 1, 'max_depth': 3, 'class_weight': 'balanced'}\n",
      "\n",
      "Model with rank: 3\n",
      "Mean validation score: 0.369 (std: 0.150)\n",
      "Parameters: {'splitter': 'random', 'min_samples_split': 7, 'criterion': 'entropy', 'max_features': 1, 'max_depth': None, 'class_weight': 'balanced'}\n",
      "\n"
     ]
    }
   ],
   "source": [
    "clf = DecisionTreeClassifier()\n",
    "\n",
    "# use a full grid over all parameters\n",
    "param_grid = {'max_depth': [3, None],\n",
    "              'max_features': [None, 1, 3],\n",
    "              'min_samples_split': [2, 3, 7, 11],\n",
    "              'class_weight':(None, 'balanced'),\n",
    "              'criterion': ['gini', 'entropy'],\n",
    "              'splitter': ['best', 'random']}\n",
    "\n",
    "# run grid search\n",
    "grid_search = GridSearchCV(clf, scoring=f1, param_grid=param_grid, cv=StratifiedShuffleSplit(n_splits=100, test_size=0.15, random_state=42))\n",
    "start = time()\n",
    "grid_search.fit(features, labels)\n",
    "\n",
    "print(\"GridSearchCV took %.2f seconds for %d candidate parameter settings.\"\n",
    "      % (time() - start, len(grid_search.cv_results_['params'])))\n",
    "report(grid_search.cv_results_)"
   ]
  },
  {
   "cell_type": "code",
   "execution_count": 113,
   "metadata": {},
   "outputs": [
    {
     "name": "stdout",
     "output_type": "stream",
     "text": [
      "('Accuracy', 0.7109545454545455)\n",
      "('Precision', 0.2573325355200355)\n",
      "('Recall', 0.552)\n",
      "('F1-measure', 0.34002391239651303)\n"
     ]
    }
   ],
   "source": [
    "## DT\n",
    "clf = DecisionTreeClassifier(splitter ='random',\n",
    "                             max_features = 3, \n",
    "                             min_samples_split = 11, \n",
    "                             criterion = 'gini', \n",
    "                             max_depth = None, \n",
    "                             class_weight = 'balanced')\n",
    "validate(features, labels)"
   ]
  },
  {
   "cell_type": "code",
   "execution_count": null,
   "metadata": {},
   "outputs": [],
   "source": [
    "clf = GridSearchCV(estimator = pipeline,                                     # Pipeline\n",
    "                   param_grid = parameters,                                  # Parameters to be tested.\n",
    "                   cv = StratifiedShuffleSplit(n_splits = 20,                # Number of splits.\n",
    "                                               test_size = 0.25,             # Test Dataset size\n",
    "                                               random_state = 42),           # Set the random seed.\n",
    "                   scoring = f1)                                        # Metric to evaluate."
   ]
  },
  {
   "cell_type": "code",
   "execution_count": 61,
   "metadata": {},
   "outputs": [
    {
     "name": "stdout",
     "output_type": "stream",
     "text": [
      "('Accuracy', 0.8441818181818181)\n",
      "('Precision', 0.33261666666666667)\n",
      "('Recall', 0.21333333333333332)\n",
      "('F1-measure', 0.24308347763347762)\n"
     ]
    }
   ],
   "source": [
    "## RF\n",
    "clf = RandomForestClassifier(n_estimators = 7,\n",
    "                             max_features = 7, \n",
    "                             min_samples_split = 6, \n",
    "                             criterion = 'gini', \n",
    "                             max_depth = None, \n",
    "                             class_weight = None)\n",
    "validate(features, labels)"
   ]
  },
  {
   "cell_type": "markdown",
   "metadata": {},
   "source": [
    "# Referências\n",
    "\n",
    "- https://towardsdatascience.com/ways-to-detect-and-remove-the-outliers-404d16608dba\n",
    "- https://hackinganalytics.com/2016/09/04/model-tuning-otimizando-os-hiper-parametros-do-modelo/\n",
    "- https://scikit-learn.org/stable/auto_examples/model_selection/plot_randomized_search.html\n",
    "- https://machinelearningmastery.com/handle-missing-data-python/"
   ]
  },
  {
   "cell_type": "code",
   "execution_count": null,
   "metadata": {},
   "outputs": [],
   "source": []
  }
 ],
 "metadata": {
  "kernelspec": {
   "display_name": "Python [conda env:py27]",
   "language": "python",
   "name": "conda-env-py27-py"
  },
  "language_info": {
   "codemirror_mode": {
    "name": "ipython",
    "version": 2
   },
   "file_extension": ".py",
   "mimetype": "text/x-python",
   "name": "python",
   "nbconvert_exporter": "python",
   "pygments_lexer": "ipython2",
   "version": "2.7.15"
  }
 },
 "nbformat": 4,
 "nbformat_minor": 2
}
