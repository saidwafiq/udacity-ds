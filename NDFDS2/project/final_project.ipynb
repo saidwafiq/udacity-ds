{
 "cells": [
  {
   "cell_type": "markdown",
   "metadata": {},
   "source": [
    "# Projeto Introdução a ML\n",
    "Udacity - Jan 2019\n",
    "\n",
    "# 1. Identificando fraudes pelos e-mails da Enron\n",
    "Em 2000, Enron era uma das maiores empresas dos Estados Unidos. Já em 2002, ela colapsou e quebrou devido a uma fraude que envolveu grande parte da corporação. Resultando em uma investigação federal, muitos dados que são normalmente confidenciais, se tornaram públicos, incluindo dezenas de milhares de e-mails e detalhes financeiros para os executivos dos mais altos níveis da empresa.\n",
    "\n",
    "![Image](http://s.marketwatch.com/public/resources/MWimages/MW-FN641_enron_ZG_20170602101824.jpg)"
   ]
  },
  {
   "cell_type": "markdown",
   "metadata": {},
   "source": [
    "## Objetivo\n",
    "Neste projeto o objetivo é a construção de um modelo preditivo que visa determinar se um funcionário é um funcionário de interesse (POI), ou seja, um suspeito por participação na fraude.  O target para aprovação é atingir precision e recall de ao menos 0.3 para cada."
   ]
  },
  {
   "cell_type": "markdown",
   "metadata": {},
   "source": [
    "## Introdução\n",
    "Para exploração de dados e documentação do meu processo de análise, importei a base para um dataframe e utilizei numpy e pandas em conjunto com o Jupyter Notebook."
   ]
  },
  {
   "cell_type": "code",
   "execution_count": 1,
   "metadata": {},
   "outputs": [],
   "source": [
    "import pickle\n",
    "import numpy as np\n",
    "import pandas as pd\n",
    "import matplotlib.pyplot as plt\n",
    "from sklearn.metrics import accuracy_score\n",
    "from sklearn.metrics import precision_score\n",
    "from sklearn.metrics import recall_score\n",
    "from sklearn.metrics import f1_score\n",
    "from sklearn.model_selection import StratifiedShuffleSplit\n",
    "from sklearn.model_selection import train_test_split\n",
    "from sklearn.preprocessing import MinMaxScaler\n",
    "\n",
    "import sys\n",
    "sys.path.append(\"../tools/\")\n",
    "from feature_format import featureFormat, targetFeatureSplit\n",
    "from tester import dump_classifier_and_data, main"
   ]
  },
  {
   "cell_type": "code",
   "execution_count": 2,
   "metadata": {},
   "outputs": [],
   "source": [
    "# importando a base para um dicionario\n",
    "data_dict = pd.read_pickle(\"../final_project/final_project_dataset.pkl\")\n",
    "\n",
    "# cria um dataframe do dicionario\n",
    "df = pd.DataFrame.from_dict(data_dict, orient='index')"
   ]
  },
  {
   "cell_type": "markdown",
   "metadata": {},
   "source": [
    "## Exploração dos dados"
   ]
  },
  {
   "cell_type": "code",
   "execution_count": 3,
   "metadata": {},
   "outputs": [
    {
     "name": "stdout",
     "output_type": "stream",
     "text": [
      "<class 'pandas.core.frame.DataFrame'>\n",
      "Index: 146 entries, ALLEN PHILLIP K to YEAP SOON\n",
      "Data columns (total 21 columns):\n",
      "salary                       146 non-null object\n",
      "to_messages                  146 non-null object\n",
      "deferral_payments            146 non-null object\n",
      "total_payments               146 non-null object\n",
      "exercised_stock_options      146 non-null object\n",
      "bonus                        146 non-null object\n",
      "restricted_stock             146 non-null object\n",
      "shared_receipt_with_poi      146 non-null object\n",
      "restricted_stock_deferred    146 non-null object\n",
      "total_stock_value            146 non-null object\n",
      "expenses                     146 non-null object\n",
      "loan_advances                146 non-null object\n",
      "from_messages                146 non-null object\n",
      "other                        146 non-null object\n",
      "from_this_person_to_poi      146 non-null object\n",
      "poi                          146 non-null bool\n",
      "director_fees                146 non-null object\n",
      "deferred_income              146 non-null object\n",
      "long_term_incentive          146 non-null object\n",
      "email_address                146 non-null object\n",
      "from_poi_to_this_person      146 non-null object\n",
      "dtypes: bool(1), object(20)\n",
      "memory usage: 24.1+ KB\n"
     ]
    }
   ],
   "source": [
    "df.info()"
   ]
  },
  {
   "cell_type": "code",
   "execution_count": 4,
   "metadata": {},
   "outputs": [
    {
     "data": {
      "text/plain": [
       "(146, 21)"
      ]
     },
     "execution_count": 4,
     "metadata": {},
     "output_type": "execute_result"
    }
   ],
   "source": [
    "# dimensão do dataframe\n",
    "df.shape"
   ]
  },
  {
   "cell_type": "code",
   "execution_count": 5,
   "metadata": {},
   "outputs": [
    {
     "data": {
      "text/html": [
       "<div>\n",
       "<style scoped>\n",
       "    .dataframe tbody tr th:only-of-type {\n",
       "        vertical-align: middle;\n",
       "    }\n",
       "\n",
       "    .dataframe tbody tr th {\n",
       "        vertical-align: top;\n",
       "    }\n",
       "\n",
       "    .dataframe thead th {\n",
       "        text-align: right;\n",
       "    }\n",
       "</style>\n",
       "<table border=\"1\" class=\"dataframe\">\n",
       "  <thead>\n",
       "    <tr style=\"text-align: right;\">\n",
       "      <th></th>\n",
       "      <th>salary</th>\n",
       "      <th>to_messages</th>\n",
       "      <th>deferral_payments</th>\n",
       "      <th>total_payments</th>\n",
       "      <th>exercised_stock_options</th>\n",
       "      <th>bonus</th>\n",
       "      <th>restricted_stock</th>\n",
       "      <th>shared_receipt_with_poi</th>\n",
       "      <th>restricted_stock_deferred</th>\n",
       "      <th>total_stock_value</th>\n",
       "      <th>...</th>\n",
       "      <th>loan_advances</th>\n",
       "      <th>from_messages</th>\n",
       "      <th>other</th>\n",
       "      <th>from_this_person_to_poi</th>\n",
       "      <th>poi</th>\n",
       "      <th>director_fees</th>\n",
       "      <th>deferred_income</th>\n",
       "      <th>long_term_incentive</th>\n",
       "      <th>email_address</th>\n",
       "      <th>from_poi_to_this_person</th>\n",
       "    </tr>\n",
       "  </thead>\n",
       "  <tbody>\n",
       "    <tr>\n",
       "      <th>CAUSEY RICHARD A</th>\n",
       "      <td>415189</td>\n",
       "      <td>1892</td>\n",
       "      <td>NaN</td>\n",
       "      <td>1868758</td>\n",
       "      <td>NaN</td>\n",
       "      <td>1000000</td>\n",
       "      <td>2502063</td>\n",
       "      <td>1585</td>\n",
       "      <td>NaN</td>\n",
       "      <td>2502063</td>\n",
       "      <td>...</td>\n",
       "      <td>NaN</td>\n",
       "      <td>49</td>\n",
       "      <td>307895</td>\n",
       "      <td>12</td>\n",
       "      <td>True</td>\n",
       "      <td>NaN</td>\n",
       "      <td>-235000</td>\n",
       "      <td>350000</td>\n",
       "      <td>richard.causey@enron.com</td>\n",
       "      <td>58</td>\n",
       "    </tr>\n",
       "    <tr>\n",
       "      <th>DURAN WILLIAM D</th>\n",
       "      <td>210692</td>\n",
       "      <td>904</td>\n",
       "      <td>NaN</td>\n",
       "      <td>2093263</td>\n",
       "      <td>1451869</td>\n",
       "      <td>750000</td>\n",
       "      <td>189041</td>\n",
       "      <td>599</td>\n",
       "      <td>NaN</td>\n",
       "      <td>1640910</td>\n",
       "      <td>...</td>\n",
       "      <td>NaN</td>\n",
       "      <td>12</td>\n",
       "      <td>1568</td>\n",
       "      <td>3</td>\n",
       "      <td>False</td>\n",
       "      <td>NaN</td>\n",
       "      <td>NaN</td>\n",
       "      <td>1105218</td>\n",
       "      <td>w.duran@enron.com</td>\n",
       "      <td>106</td>\n",
       "    </tr>\n",
       "    <tr>\n",
       "      <th>MCCONNELL MICHAEL S</th>\n",
       "      <td>365038</td>\n",
       "      <td>3329</td>\n",
       "      <td>NaN</td>\n",
       "      <td>2101364</td>\n",
       "      <td>1623010</td>\n",
       "      <td>1100000</td>\n",
       "      <td>1478269</td>\n",
       "      <td>2189</td>\n",
       "      <td>NaN</td>\n",
       "      <td>3101279</td>\n",
       "      <td>...</td>\n",
       "      <td>NaN</td>\n",
       "      <td>2742</td>\n",
       "      <td>540</td>\n",
       "      <td>194</td>\n",
       "      <td>False</td>\n",
       "      <td>NaN</td>\n",
       "      <td>NaN</td>\n",
       "      <td>554422</td>\n",
       "      <td>mike.mcconnell@enron.com</td>\n",
       "      <td>92</td>\n",
       "    </tr>\n",
       "    <tr>\n",
       "      <th>TOTAL</th>\n",
       "      <td>26704229</td>\n",
       "      <td>NaN</td>\n",
       "      <td>32083396</td>\n",
       "      <td>309886585</td>\n",
       "      <td>311764000</td>\n",
       "      <td>97343619</td>\n",
       "      <td>130322299</td>\n",
       "      <td>NaN</td>\n",
       "      <td>-7576788</td>\n",
       "      <td>434509511</td>\n",
       "      <td>...</td>\n",
       "      <td>83925000</td>\n",
       "      <td>NaN</td>\n",
       "      <td>42667589</td>\n",
       "      <td>NaN</td>\n",
       "      <td>False</td>\n",
       "      <td>1398517</td>\n",
       "      <td>-27992891</td>\n",
       "      <td>48521928</td>\n",
       "      <td>NaN</td>\n",
       "      <td>NaN</td>\n",
       "    </tr>\n",
       "    <tr>\n",
       "      <th>SHERRICK JEFFREY B</th>\n",
       "      <td>NaN</td>\n",
       "      <td>613</td>\n",
       "      <td>NaN</td>\n",
       "      <td>NaN</td>\n",
       "      <td>1426469</td>\n",
       "      <td>NaN</td>\n",
       "      <td>405999</td>\n",
       "      <td>583</td>\n",
       "      <td>NaN</td>\n",
       "      <td>1832468</td>\n",
       "      <td>...</td>\n",
       "      <td>NaN</td>\n",
       "      <td>25</td>\n",
       "      <td>NaN</td>\n",
       "      <td>18</td>\n",
       "      <td>False</td>\n",
       "      <td>NaN</td>\n",
       "      <td>NaN</td>\n",
       "      <td>NaN</td>\n",
       "      <td>jeffrey.sherrick@enron.com</td>\n",
       "      <td>39</td>\n",
       "    </tr>\n",
       "  </tbody>\n",
       "</table>\n",
       "<p>5 rows × 21 columns</p>\n",
       "</div>"
      ],
      "text/plain": [
       "                       salary to_messages deferral_payments total_payments  \\\n",
       "CAUSEY RICHARD A       415189        1892               NaN        1868758   \n",
       "DURAN WILLIAM D        210692         904               NaN        2093263   \n",
       "MCCONNELL MICHAEL S    365038        3329               NaN        2101364   \n",
       "TOTAL                26704229         NaN          32083396      309886585   \n",
       "SHERRICK JEFFREY B        NaN         613               NaN            NaN   \n",
       "\n",
       "                    exercised_stock_options     bonus restricted_stock  \\\n",
       "CAUSEY RICHARD A                        NaN   1000000          2502063   \n",
       "DURAN WILLIAM D                     1451869    750000           189041   \n",
       "MCCONNELL MICHAEL S                 1623010   1100000          1478269   \n",
       "TOTAL                             311764000  97343619        130322299   \n",
       "SHERRICK JEFFREY B                  1426469       NaN           405999   \n",
       "\n",
       "                    shared_receipt_with_poi restricted_stock_deferred  \\\n",
       "CAUSEY RICHARD A                       1585                       NaN   \n",
       "DURAN WILLIAM D                         599                       NaN   \n",
       "MCCONNELL MICHAEL S                    2189                       NaN   \n",
       "TOTAL                                   NaN                  -7576788   \n",
       "SHERRICK JEFFREY B                      583                       NaN   \n",
       "\n",
       "                    total_stock_value  ... loan_advances from_messages  \\\n",
       "CAUSEY RICHARD A              2502063  ...           NaN            49   \n",
       "DURAN WILLIAM D               1640910  ...           NaN            12   \n",
       "MCCONNELL MICHAEL S           3101279  ...           NaN          2742   \n",
       "TOTAL                       434509511  ...      83925000           NaN   \n",
       "SHERRICK JEFFREY B            1832468  ...           NaN            25   \n",
       "\n",
       "                        other from_this_person_to_poi    poi  director_fees  \\\n",
       "CAUSEY RICHARD A       307895                      12   True            NaN   \n",
       "DURAN WILLIAM D          1568                       3  False            NaN   \n",
       "MCCONNELL MICHAEL S       540                     194  False            NaN   \n",
       "TOTAL                42667589                     NaN  False        1398517   \n",
       "SHERRICK JEFFREY B        NaN                      18  False            NaN   \n",
       "\n",
       "                    deferred_income long_term_incentive  \\\n",
       "CAUSEY RICHARD A            -235000              350000   \n",
       "DURAN WILLIAM D                 NaN             1105218   \n",
       "MCCONNELL MICHAEL S             NaN              554422   \n",
       "TOTAL                     -27992891            48521928   \n",
       "SHERRICK JEFFREY B              NaN                 NaN   \n",
       "\n",
       "                                  email_address from_poi_to_this_person  \n",
       "CAUSEY RICHARD A       richard.causey@enron.com                      58  \n",
       "DURAN WILLIAM D               w.duran@enron.com                     106  \n",
       "MCCONNELL MICHAEL S    mike.mcconnell@enron.com                      92  \n",
       "TOTAL                                       NaN                     NaN  \n",
       "SHERRICK JEFFREY B   jeffrey.sherrick@enron.com                      39  \n",
       "\n",
       "[5 rows x 21 columns]"
      ]
     },
     "execution_count": 5,
     "metadata": {},
     "output_type": "execute_result"
    }
   ],
   "source": [
    "# visualizar alguns dados\n",
    "df.sample(5)"
   ]
  },
  {
   "cell_type": "markdown",
   "metadata": {},
   "source": [
    "#### É possível visualizar diversos valores faltantes (NaN). Para evitar problemas na análise, transformamos esses valores em `null`"
   ]
  },
  {
   "cell_type": "code",
   "execution_count": 6,
   "metadata": {},
   "outputs": [],
   "source": [
    "# Atribuindo null a valores faltantes\n",
    "df = df.replace(['NaN', 'nan', 'None'], np.nan)"
   ]
  },
  {
   "cell_type": "code",
   "execution_count": 7,
   "metadata": {},
   "outputs": [
    {
     "name": "stdout",
     "output_type": "stream",
     "text": [
      "<class 'pandas.core.frame.DataFrame'>\n",
      "Index: 146 entries, ALLEN PHILLIP K to YEAP SOON\n",
      "Data columns (total 21 columns):\n",
      "salary                       95 non-null float64\n",
      "to_messages                  86 non-null float64\n",
      "deferral_payments            39 non-null float64\n",
      "total_payments               125 non-null float64\n",
      "exercised_stock_options      102 non-null float64\n",
      "bonus                        82 non-null float64\n",
      "restricted_stock             110 non-null float64\n",
      "shared_receipt_with_poi      86 non-null float64\n",
      "restricted_stock_deferred    18 non-null float64\n",
      "total_stock_value            126 non-null float64\n",
      "expenses                     95 non-null float64\n",
      "loan_advances                4 non-null float64\n",
      "from_messages                86 non-null float64\n",
      "other                        93 non-null float64\n",
      "from_this_person_to_poi      86 non-null float64\n",
      "poi                          146 non-null bool\n",
      "director_fees                17 non-null float64\n",
      "deferred_income              49 non-null float64\n",
      "long_term_incentive          66 non-null float64\n",
      "email_address                111 non-null object\n",
      "from_poi_to_this_person      86 non-null float64\n",
      "dtypes: bool(1), float64(19), object(1)\n",
      "memory usage: 24.1+ KB\n"
     ]
    }
   ],
   "source": [
    "df.info()"
   ]
  },
  {
   "cell_type": "code",
   "execution_count": 8,
   "metadata": {},
   "outputs": [
    {
     "name": "stdout",
     "output_type": "stream",
     "text": [
      "O dataset possui 21 caracteristicas.\n"
     ]
    }
   ],
   "source": [
    "print('O dataset possui ' + str(len(df.columns)) + ' caracteristicas.')"
   ]
  },
  {
   "cell_type": "code",
   "execution_count": 9,
   "metadata": {},
   "outputs": [],
   "source": [
    "# Limpando coluna object\n",
    "df = df.drop(['email_address'], axis=1)"
   ]
  },
  {
   "cell_type": "code",
   "execution_count": 10,
   "metadata": {},
   "outputs": [
    {
     "name": "stdout",
     "output_type": "stream",
     "text": [
      "Porcentagem de dados válidos em cada coluna:\n"
     ]
    },
    {
     "data": {
      "text/plain": [
       "salary                        65.068493\n",
       "to_messages                   58.904110\n",
       "deferral_payments             26.712329\n",
       "total_payments                85.616438\n",
       "exercised_stock_options       69.863014\n",
       "bonus                         56.164384\n",
       "restricted_stock              75.342466\n",
       "shared_receipt_with_poi       58.904110\n",
       "restricted_stock_deferred     12.328767\n",
       "total_stock_value             86.301370\n",
       "expenses                      65.068493\n",
       "loan_advances                  2.739726\n",
       "from_messages                 58.904110\n",
       "other                         63.698630\n",
       "from_this_person_to_poi       58.904110\n",
       "poi                          100.000000\n",
       "director_fees                 11.643836\n",
       "deferred_income               33.561644\n",
       "long_term_incentive           45.205479\n",
       "from_poi_to_this_person       58.904110\n",
       "dtype: float64"
      ]
     },
     "execution_count": 10,
     "metadata": {},
     "output_type": "execute_result"
    }
   ],
   "source": [
    "print \"Porcentagem de dados válidos em cada coluna:\"\n",
    "(df.notna().sum()*1.0)/(len(df))*100"
   ]
  },
  {
   "cell_type": "markdown",
   "metadata": {},
   "source": [
    "### Dados `NaN`\n",
    "\n",
    "Algumas colunas tem menos de 30% de dados válidos, dados `NaN` impactam a performance do modelo, por isso vamos remover as colunas que tem mais de 70% de dados `NaN`"
   ]
  },
  {
   "cell_type": "code",
   "execution_count": 11,
   "metadata": {},
   "outputs": [],
   "source": [
    "df = df.drop(['loan_advances', 'restricted_stock_deferred', 'director_fees', 'deferral_payments'], axis=1)"
   ]
  },
  {
   "cell_type": "code",
   "execution_count": 12,
   "metadata": {},
   "outputs": [
    {
     "name": "stdout",
     "output_type": "stream",
     "text": [
      "O dataset possui 16 caracteristicas.\n"
     ]
    }
   ],
   "source": [
    "print('O dataset possui ' + str(len(df.columns)) + ' caracteristicas.')"
   ]
  },
  {
   "cell_type": "code",
   "execution_count": 13,
   "metadata": {},
   "outputs": [
    {
     "data": {
      "text/plain": [
       "False    128\n",
       "True      18\n",
       "Name: poi, dtype: int64"
      ]
     },
     "execution_count": 13,
     "metadata": {},
     "output_type": "execute_result"
    }
   ],
   "source": [
    "# contando POIs\n",
    "df.poi.value_counts()"
   ]
  },
  {
   "cell_type": "markdown",
   "metadata": {},
   "source": [
    "#### No total de 146 funcionários: \n",
    "- 128 não são POI\n",
    "- 18 são POI."
   ]
  },
  {
   "cell_type": "code",
   "execution_count": 198,
   "metadata": {},
   "outputs": [
    {
     "data": {
      "text/html": [
       "<div>\n",
       "<style scoped>\n",
       "    .dataframe tbody tr th:only-of-type {\n",
       "        vertical-align: middle;\n",
       "    }\n",
       "\n",
       "    .dataframe tbody tr th {\n",
       "        vertical-align: top;\n",
       "    }\n",
       "\n",
       "    .dataframe thead th {\n",
       "        text-align: right;\n",
       "    }\n",
       "</style>\n",
       "<table border=\"1\" class=\"dataframe\">\n",
       "  <thead>\n",
       "    <tr style=\"text-align: right;\">\n",
       "      <th></th>\n",
       "      <th>salary</th>\n",
       "      <th>to_messages</th>\n",
       "      <th>total_payments</th>\n",
       "      <th>exercised_stock_options</th>\n",
       "      <th>bonus</th>\n",
       "      <th>restricted_stock</th>\n",
       "      <th>shared_receipt_with_poi</th>\n",
       "      <th>total_stock_value</th>\n",
       "      <th>expenses</th>\n",
       "      <th>from_messages</th>\n",
       "      <th>other</th>\n",
       "      <th>from_this_person_to_poi</th>\n",
       "      <th>poi</th>\n",
       "      <th>deferred_income</th>\n",
       "      <th>long_term_incentive</th>\n",
       "      <th>from_poi_to_this_person</th>\n",
       "    </tr>\n",
       "  </thead>\n",
       "  <tbody>\n",
       "    <tr>\n",
       "      <th>BELDEN TIMOTHY N</th>\n",
       "      <td>213999.0</td>\n",
       "      <td>7991.0</td>\n",
       "      <td>5501630.0</td>\n",
       "      <td>953136.0</td>\n",
       "      <td>5249999.0</td>\n",
       "      <td>157569.0</td>\n",
       "      <td>5521.0</td>\n",
       "      <td>1110705.0</td>\n",
       "      <td>17355.0</td>\n",
       "      <td>484.0</td>\n",
       "      <td>210698.0</td>\n",
       "      <td>108.0</td>\n",
       "      <td>True</td>\n",
       "      <td>-2334434.0</td>\n",
       "      <td>1134637.0</td>\n",
       "      <td>228.0</td>\n",
       "    </tr>\n",
       "    <tr>\n",
       "      <th>BOWEN JR RAYMOND M</th>\n",
       "      <td>278601.0</td>\n",
       "      <td>1858.0</td>\n",
       "      <td>2669589.0</td>\n",
       "      <td>3914557.0</td>\n",
       "      <td>1350000.0</td>\n",
       "      <td>252055.0</td>\n",
       "      <td>1593.0</td>\n",
       "      <td>252055.0</td>\n",
       "      <td>65907.0</td>\n",
       "      <td>27.0</td>\n",
       "      <td>1621.0</td>\n",
       "      <td>15.0</td>\n",
       "      <td>True</td>\n",
       "      <td>-833.0</td>\n",
       "      <td>974293.0</td>\n",
       "      <td>140.0</td>\n",
       "    </tr>\n",
       "    <tr>\n",
       "      <th>CALGER CHRISTOPHER F</th>\n",
       "      <td>240189.0</td>\n",
       "      <td>2598.0</td>\n",
       "      <td>1639297.0</td>\n",
       "      <td>3914557.0</td>\n",
       "      <td>1250000.0</td>\n",
       "      <td>126027.0</td>\n",
       "      <td>2188.0</td>\n",
       "      <td>126027.0</td>\n",
       "      <td>35818.0</td>\n",
       "      <td>144.0</td>\n",
       "      <td>486.0</td>\n",
       "      <td>25.0</td>\n",
       "      <td>True</td>\n",
       "      <td>-262500.0</td>\n",
       "      <td>375304.0</td>\n",
       "      <td>199.0</td>\n",
       "    </tr>\n",
       "    <tr>\n",
       "      <th>CAUSEY RICHARD A</th>\n",
       "      <td>415189.0</td>\n",
       "      <td>1892.0</td>\n",
       "      <td>1868758.0</td>\n",
       "      <td>3914557.0</td>\n",
       "      <td>1000000.0</td>\n",
       "      <td>2502063.0</td>\n",
       "      <td>1585.0</td>\n",
       "      <td>2502063.0</td>\n",
       "      <td>30674.0</td>\n",
       "      <td>49.0</td>\n",
       "      <td>307895.0</td>\n",
       "      <td>12.0</td>\n",
       "      <td>True</td>\n",
       "      <td>-235000.0</td>\n",
       "      <td>350000.0</td>\n",
       "      <td>58.0</td>\n",
       "    </tr>\n",
       "    <tr>\n",
       "      <th>COLWELL WESLEY</th>\n",
       "      <td>288542.0</td>\n",
       "      <td>1758.0</td>\n",
       "      <td>1490344.0</td>\n",
       "      <td>3914557.0</td>\n",
       "      <td>1200000.0</td>\n",
       "      <td>698242.0</td>\n",
       "      <td>1132.0</td>\n",
       "      <td>698242.0</td>\n",
       "      <td>16514.0</td>\n",
       "      <td>40.0</td>\n",
       "      <td>101740.0</td>\n",
       "      <td>11.0</td>\n",
       "      <td>True</td>\n",
       "      <td>-144062.0</td>\n",
       "      <td>1134637.0</td>\n",
       "      <td>240.0</td>\n",
       "    </tr>\n",
       "  </tbody>\n",
       "</table>\n",
       "</div>"
      ],
      "text/plain": [
       "                        salary  to_messages  total_payments  \\\n",
       "BELDEN TIMOTHY N      213999.0       7991.0       5501630.0   \n",
       "BOWEN JR RAYMOND M    278601.0       1858.0       2669589.0   \n",
       "CALGER CHRISTOPHER F  240189.0       2598.0       1639297.0   \n",
       "CAUSEY RICHARD A      415189.0       1892.0       1868758.0   \n",
       "COLWELL WESLEY        288542.0       1758.0       1490344.0   \n",
       "\n",
       "                      exercised_stock_options      bonus  restricted_stock  \\\n",
       "BELDEN TIMOTHY N                     953136.0  5249999.0          157569.0   \n",
       "BOWEN JR RAYMOND M                  3914557.0  1350000.0          252055.0   \n",
       "CALGER CHRISTOPHER F                3914557.0  1250000.0          126027.0   \n",
       "CAUSEY RICHARD A                    3914557.0  1000000.0         2502063.0   \n",
       "COLWELL WESLEY                      3914557.0  1200000.0          698242.0   \n",
       "\n",
       "                      shared_receipt_with_poi  total_stock_value  expenses  \\\n",
       "BELDEN TIMOTHY N                       5521.0          1110705.0   17355.0   \n",
       "BOWEN JR RAYMOND M                     1593.0           252055.0   65907.0   \n",
       "CALGER CHRISTOPHER F                   2188.0           126027.0   35818.0   \n",
       "CAUSEY RICHARD A                       1585.0          2502063.0   30674.0   \n",
       "COLWELL WESLEY                         1132.0           698242.0   16514.0   \n",
       "\n",
       "                      from_messages     other  from_this_person_to_poi   poi  \\\n",
       "BELDEN TIMOTHY N              484.0  210698.0                    108.0  True   \n",
       "BOWEN JR RAYMOND M             27.0    1621.0                     15.0  True   \n",
       "CALGER CHRISTOPHER F          144.0     486.0                     25.0  True   \n",
       "CAUSEY RICHARD A               49.0  307895.0                     12.0  True   \n",
       "COLWELL WESLEY                 40.0  101740.0                     11.0  True   \n",
       "\n",
       "                      deferred_income  long_term_incentive  \\\n",
       "BELDEN TIMOTHY N           -2334434.0            1134637.0   \n",
       "BOWEN JR RAYMOND M             -833.0             974293.0   \n",
       "CALGER CHRISTOPHER F        -262500.0             375304.0   \n",
       "CAUSEY RICHARD A            -235000.0             350000.0   \n",
       "COLWELL WESLEY              -144062.0            1134637.0   \n",
       "\n",
       "                      from_poi_to_this_person  \n",
       "BELDEN TIMOTHY N                        228.0  \n",
       "BOWEN JR RAYMOND M                      140.0  \n",
       "CALGER CHRISTOPHER F                    199.0  \n",
       "CAUSEY RICHARD A                         58.0  \n",
       "COLWELL WESLEY                          240.0  "
      ]
     },
     "execution_count": 198,
     "metadata": {},
     "output_type": "execute_result"
    }
   ],
   "source": [
    "df.head()"
   ]
  },
  {
   "cell_type": "markdown",
   "metadata": {},
   "source": [
    "### Removendo linhas com muitos valores `NaN` \n",
    "\n",
    "Outra estratégia simples para lidar com dados faltantes é remover linhas que contém muitos valores `NaN`.\n",
    "\n",
    "Podemos fazer isso criando um novo dataframe com as linhas que contém os dados faltantes e usamos o dropna() para remove-las."
   ]
  },
  {
   "cell_type": "code",
   "execution_count": 15,
   "metadata": {},
   "outputs": [],
   "source": [
    "current_features = df.columns\n",
    "total_features = len(current_features)*1.0\n",
    "nan_rows = np.asarray(df.isnull().sum(axis=1).tolist())/total_features*100"
   ]
  },
  {
   "cell_type": "code",
   "execution_count": 16,
   "metadata": {},
   "outputs": [
    {
     "name": "stdout",
     "output_type": "stream",
     "text": [
      "Número de linhas com mais de 70% de valores NaN = 24\n"
     ]
    }
   ],
   "source": [
    "drop_rows = nan_rows>70\n",
    "print \"Número de linhas com mais de 70% de valores NaN =\",drop_rows.sum()"
   ]
  },
  {
   "cell_type": "code",
   "execution_count": 17,
   "metadata": {},
   "outputs": [
    {
     "name": "stderr",
     "output_type": "stream",
     "text": [
      "/Users/saidwafiq/anaconda3/envs/py27/lib/python2.7/site-packages/ipykernel_launcher.py:2: UserWarning: Boolean Series key will be reindexed to match DataFrame index.\n",
      "  \n"
     ]
    },
    {
     "data": {
      "text/html": [
       "<div>\n",
       "<style scoped>\n",
       "    .dataframe tbody tr th:only-of-type {\n",
       "        vertical-align: middle;\n",
       "    }\n",
       "\n",
       "    .dataframe tbody tr th {\n",
       "        vertical-align: top;\n",
       "    }\n",
       "\n",
       "    .dataframe thead th {\n",
       "        text-align: right;\n",
       "    }\n",
       "</style>\n",
       "<table border=\"1\" class=\"dataframe\">\n",
       "  <thead>\n",
       "    <tr style=\"text-align: right;\">\n",
       "      <th></th>\n",
       "      <th>salary</th>\n",
       "      <th>to_messages</th>\n",
       "      <th>total_payments</th>\n",
       "      <th>exercised_stock_options</th>\n",
       "      <th>bonus</th>\n",
       "      <th>restricted_stock</th>\n",
       "      <th>shared_receipt_with_poi</th>\n",
       "      <th>total_stock_value</th>\n",
       "      <th>expenses</th>\n",
       "      <th>from_messages</th>\n",
       "      <th>other</th>\n",
       "      <th>from_this_person_to_poi</th>\n",
       "      <th>poi</th>\n",
       "      <th>deferred_income</th>\n",
       "      <th>long_term_incentive</th>\n",
       "      <th>from_poi_to_this_person</th>\n",
       "    </tr>\n",
       "  </thead>\n",
       "  <tbody>\n",
       "  </tbody>\n",
       "</table>\n",
       "</div>"
      ],
      "text/plain": [
       "Empty DataFrame\n",
       "Columns: [salary, to_messages, total_payments, exercised_stock_options, bonus, restricted_stock, shared_receipt_with_poi, total_stock_value, expenses, from_messages, other, from_this_person_to_poi, poi, deferred_income, long_term_incentive, from_poi_to_this_person]\n",
       "Index: []"
      ]
     },
     "execution_count": 17,
     "metadata": {},
     "output_type": "execute_result"
    }
   ],
   "source": [
    "#Antes de remover, verificamos se alguma das linhas é um POI\n",
    "df[drop_rows][df['poi']==1]"
   ]
  },
  {
   "cell_type": "markdown",
   "metadata": {},
   "source": [
    "Nenhuma das linhas que serão removidas é POI, portanto podemos prosseguir com a remoção, pois não iremos aumentar nosso problema de dados desbalanceados."
   ]
  },
  {
   "cell_type": "code",
   "execution_count": 18,
   "metadata": {},
   "outputs": [],
   "source": [
    "df=df.drop(df.index[drop_rows.nonzero()])"
   ]
  },
  {
   "cell_type": "markdown",
   "metadata": {},
   "source": [
    "# Procurando por outliers\n",
    "Rodamos um gráfico de disperção considerando bônus e salário para ver se encontramos alguma distorção."
   ]
  },
  {
   "cell_type": "code",
   "execution_count": 19,
   "metadata": {},
   "outputs": [
    {
     "data": {
      "image/png": "[encoded data removed]",
      "text/plain": [
       "<Figure size 432x288 with 1 Axes>"
      ]
     },
     "metadata": {
      "needs_background": "light"
     },
     "output_type": "display_data"
    }
   ],
   "source": [
    "features_list = [\"bonus\", \"salary\"]\n",
    "data = featureFormat(data_dict, features_list)\n",
    "\n",
    "for point in data:\n",
    "    salary = point[0]\n",
    "    bonus = point[1]\n",
    "    plt.scatter( salary, bonus )\n",
    "\n",
    "plt.xlabel(\"salary\")\n",
    "plt.ylabel(\"bonus\")\n",
    "plt.show()"
   ]
  },
  {
   "cell_type": "markdown",
   "metadata": {},
   "source": [
    "#### Encontramos um valor que está muito distante de todo o restante dos dados, claramente um outlier"
   ]
  },
  {
   "cell_type": "code",
   "execution_count": 20,
   "metadata": {},
   "outputs": [
    {
     "data": {
      "text/html": [
       "<div>\n",
       "<style scoped>\n",
       "    .dataframe tbody tr th:only-of-type {\n",
       "        vertical-align: middle;\n",
       "    }\n",
       "\n",
       "    .dataframe tbody tr th {\n",
       "        vertical-align: top;\n",
       "    }\n",
       "\n",
       "    .dataframe thead th {\n",
       "        text-align: right;\n",
       "    }\n",
       "</style>\n",
       "<table border=\"1\" class=\"dataframe\">\n",
       "  <thead>\n",
       "    <tr style=\"text-align: right;\">\n",
       "      <th></th>\n",
       "      <th>salary</th>\n",
       "      <th>to_messages</th>\n",
       "      <th>total_payments</th>\n",
       "      <th>exercised_stock_options</th>\n",
       "      <th>bonus</th>\n",
       "      <th>restricted_stock</th>\n",
       "      <th>shared_receipt_with_poi</th>\n",
       "      <th>total_stock_value</th>\n",
       "      <th>expenses</th>\n",
       "      <th>from_messages</th>\n",
       "      <th>other</th>\n",
       "      <th>from_this_person_to_poi</th>\n",
       "      <th>poi</th>\n",
       "      <th>deferred_income</th>\n",
       "      <th>long_term_incentive</th>\n",
       "      <th>from_poi_to_this_person</th>\n",
       "    </tr>\n",
       "  </thead>\n",
       "  <tbody>\n",
       "    <tr>\n",
       "      <th>TOTAL</th>\n",
       "      <td>26704229.0</td>\n",
       "      <td>NaN</td>\n",
       "      <td>309886585.0</td>\n",
       "      <td>311764000.0</td>\n",
       "      <td>97343619.0</td>\n",
       "      <td>130322299.0</td>\n",
       "      <td>NaN</td>\n",
       "      <td>434509511.0</td>\n",
       "      <td>5235198.0</td>\n",
       "      <td>NaN</td>\n",
       "      <td>42667589.0</td>\n",
       "      <td>NaN</td>\n",
       "      <td>False</td>\n",
       "      <td>-27992891.0</td>\n",
       "      <td>48521928.0</td>\n",
       "      <td>NaN</td>\n",
       "    </tr>\n",
       "  </tbody>\n",
       "</table>\n",
       "</div>"
      ],
      "text/plain": [
       "           salary  to_messages  total_payments  exercised_stock_options  \\\n",
       "TOTAL  26704229.0          NaN     309886585.0              311764000.0   \n",
       "\n",
       "            bonus  restricted_stock  shared_receipt_with_poi  \\\n",
       "TOTAL  97343619.0       130322299.0                      NaN   \n",
       "\n",
       "       total_stock_value   expenses  from_messages       other  \\\n",
       "TOTAL        434509511.0  5235198.0            NaN  42667589.0   \n",
       "\n",
       "       from_this_person_to_poi    poi  deferred_income  long_term_incentive  \\\n",
       "TOTAL                      NaN  False      -27992891.0           48521928.0   \n",
       "\n",
       "       from_poi_to_this_person  \n",
       "TOTAL                      NaN  "
      ]
     },
     "execution_count": 20,
     "metadata": {},
     "output_type": "execute_result"
    }
   ],
   "source": [
    "# Visualizando outlier\n",
    "df.nlargest(1, 'salary')"
   ]
  },
  {
   "cell_type": "markdown",
   "metadata": {},
   "source": [
    "#### Identificamos uma linha que é a soma de todos os funcionários, ou seja, devemos remove-lá."
   ]
  },
  {
   "cell_type": "code",
   "execution_count": 21,
   "metadata": {},
   "outputs": [],
   "source": [
    "### Task 2: Remove outliers\n",
    "#removendo outlier\n",
    "data_dict.pop('TOTAL', None)\n",
    "df = df.drop(['TOTAL'])"
   ]
  },
  {
   "cell_type": "code",
   "execution_count": 22,
   "metadata": {},
   "outputs": [
    {
     "data": {
      "image/png": "[encoded data removed]",
      "text/plain": [
       "<Figure size 432x288 with 1 Axes>"
      ]
     },
     "metadata": {
      "needs_background": "light"
     },
     "output_type": "display_data"
    }
   ],
   "source": [
    "#verificando se o outlier foi removido corretamente\n",
    "data_up = featureFormat(data_dict, features_list)\n",
    "for point in data_up:\n",
    "    salary = point[0]\n",
    "    bonus = point[1]\n",
    "    plt.scatter( salary, bonus )\n",
    "    \n",
    "\n",
    "plt.xlabel(\"salary\")\n",
    "plt.xticks(np.arange(0, 10000000, step=2000000))\n",
    "plt.ylabel(\"bonus\")\n",
    "plt.show()"
   ]
  },
  {
   "cell_type": "markdown",
   "metadata": {},
   "source": [
    "#### Após remover o outlier é possível visualizar melhor a disperção."
   ]
  },
  {
   "cell_type": "code",
   "execution_count": 23,
   "metadata": {},
   "outputs": [
    {
     "data": {
      "text/plain": [
       "salary                      94\n",
       "to_messages                 86\n",
       "total_payments             110\n",
       "exercised_stock_options     92\n",
       "bonus                       81\n",
       "restricted_stock           102\n",
       "shared_receipt_with_poi     86\n",
       "total_stock_value          114\n",
       "expenses                    87\n",
       "from_messages               86\n",
       "other                       90\n",
       "from_this_person_to_poi     86\n",
       "poi                        121\n",
       "deferred_income             40\n",
       "long_term_incentive         65\n",
       "from_poi_to_this_person     86\n",
       "dtype: int64"
      ]
     },
     "execution_count": 23,
     "metadata": {},
     "output_type": "execute_result"
    }
   ],
   "source": [
    "df.count() "
   ]
  },
  {
   "cell_type": "markdown",
   "metadata": {},
   "source": [
    "#### Verificamos a quantidade de variáveis por cada atributo. Apenas `poi` possuem todos os valores."
   ]
  },
  {
   "cell_type": "code",
   "execution_count": 24,
   "metadata": {},
   "outputs": [
    {
     "data": {
      "text/html": [
       "<div>\n",
       "<style scoped>\n",
       "    .dataframe tbody tr th:only-of-type {\n",
       "        vertical-align: middle;\n",
       "    }\n",
       "\n",
       "    .dataframe tbody tr th {\n",
       "        vertical-align: top;\n",
       "    }\n",
       "\n",
       "    .dataframe thead th {\n",
       "        text-align: right;\n",
       "    }\n",
       "</style>\n",
       "<table border=\"1\" class=\"dataframe\">\n",
       "  <thead>\n",
       "    <tr style=\"text-align: right;\">\n",
       "      <th></th>\n",
       "      <th>salary</th>\n",
       "      <th>to_messages</th>\n",
       "      <th>total_payments</th>\n",
       "      <th>exercised_stock_options</th>\n",
       "      <th>bonus</th>\n",
       "      <th>restricted_stock</th>\n",
       "      <th>shared_receipt_with_poi</th>\n",
       "      <th>total_stock_value</th>\n",
       "      <th>expenses</th>\n",
       "      <th>from_messages</th>\n",
       "      <th>other</th>\n",
       "      <th>from_this_person_to_poi</th>\n",
       "      <th>poi</th>\n",
       "      <th>deferred_income</th>\n",
       "      <th>long_term_incentive</th>\n",
       "      <th>from_poi_to_this_person</th>\n",
       "    </tr>\n",
       "  </thead>\n",
       "  <tbody>\n",
       "    <tr>\n",
       "      <th>BELDEN TIMOTHY N</th>\n",
       "      <td>213999.0</td>\n",
       "      <td>7991.0</td>\n",
       "      <td>5501630.0</td>\n",
       "      <td>953136.0</td>\n",
       "      <td>5249999.0</td>\n",
       "      <td>157569.0</td>\n",
       "      <td>5521.0</td>\n",
       "      <td>1110705.0</td>\n",
       "      <td>17355.0</td>\n",
       "      <td>484.0</td>\n",
       "      <td>210698.0</td>\n",
       "      <td>108.0</td>\n",
       "      <td>True</td>\n",
       "      <td>-2334434.0</td>\n",
       "      <td>NaN</td>\n",
       "      <td>228.0</td>\n",
       "    </tr>\n",
       "    <tr>\n",
       "      <th>BOWEN JR RAYMOND M</th>\n",
       "      <td>278601.0</td>\n",
       "      <td>1858.0</td>\n",
       "      <td>2669589.0</td>\n",
       "      <td>NaN</td>\n",
       "      <td>1350000.0</td>\n",
       "      <td>252055.0</td>\n",
       "      <td>1593.0</td>\n",
       "      <td>252055.0</td>\n",
       "      <td>65907.0</td>\n",
       "      <td>27.0</td>\n",
       "      <td>1621.0</td>\n",
       "      <td>15.0</td>\n",
       "      <td>True</td>\n",
       "      <td>-833.0</td>\n",
       "      <td>974293.0</td>\n",
       "      <td>140.0</td>\n",
       "    </tr>\n",
       "    <tr>\n",
       "      <th>CALGER CHRISTOPHER F</th>\n",
       "      <td>240189.0</td>\n",
       "      <td>2598.0</td>\n",
       "      <td>1639297.0</td>\n",
       "      <td>NaN</td>\n",
       "      <td>1250000.0</td>\n",
       "      <td>126027.0</td>\n",
       "      <td>2188.0</td>\n",
       "      <td>126027.0</td>\n",
       "      <td>35818.0</td>\n",
       "      <td>144.0</td>\n",
       "      <td>486.0</td>\n",
       "      <td>25.0</td>\n",
       "      <td>True</td>\n",
       "      <td>-262500.0</td>\n",
       "      <td>375304.0</td>\n",
       "      <td>199.0</td>\n",
       "    </tr>\n",
       "    <tr>\n",
       "      <th>CAUSEY RICHARD A</th>\n",
       "      <td>415189.0</td>\n",
       "      <td>1892.0</td>\n",
       "      <td>1868758.0</td>\n",
       "      <td>NaN</td>\n",
       "      <td>1000000.0</td>\n",
       "      <td>2502063.0</td>\n",
       "      <td>1585.0</td>\n",
       "      <td>2502063.0</td>\n",
       "      <td>30674.0</td>\n",
       "      <td>49.0</td>\n",
       "      <td>307895.0</td>\n",
       "      <td>12.0</td>\n",
       "      <td>True</td>\n",
       "      <td>-235000.0</td>\n",
       "      <td>350000.0</td>\n",
       "      <td>58.0</td>\n",
       "    </tr>\n",
       "    <tr>\n",
       "      <th>COLWELL WESLEY</th>\n",
       "      <td>288542.0</td>\n",
       "      <td>1758.0</td>\n",
       "      <td>1490344.0</td>\n",
       "      <td>NaN</td>\n",
       "      <td>1200000.0</td>\n",
       "      <td>698242.0</td>\n",
       "      <td>1132.0</td>\n",
       "      <td>698242.0</td>\n",
       "      <td>16514.0</td>\n",
       "      <td>40.0</td>\n",
       "      <td>101740.0</td>\n",
       "      <td>11.0</td>\n",
       "      <td>True</td>\n",
       "      <td>-144062.0</td>\n",
       "      <td>NaN</td>\n",
       "      <td>240.0</td>\n",
       "    </tr>\n",
       "    <tr>\n",
       "      <th>DELAINEY DAVID W</th>\n",
       "      <td>365163.0</td>\n",
       "      <td>3093.0</td>\n",
       "      <td>4747979.0</td>\n",
       "      <td>2291113.0</td>\n",
       "      <td>3000000.0</td>\n",
       "      <td>1323148.0</td>\n",
       "      <td>2097.0</td>\n",
       "      <td>3614261.0</td>\n",
       "      <td>86174.0</td>\n",
       "      <td>3069.0</td>\n",
       "      <td>1661.0</td>\n",
       "      <td>609.0</td>\n",
       "      <td>True</td>\n",
       "      <td>NaN</td>\n",
       "      <td>1294981.0</td>\n",
       "      <td>66.0</td>\n",
       "    </tr>\n",
       "    <tr>\n",
       "      <th>FASTOW ANDREW S</th>\n",
       "      <td>440698.0</td>\n",
       "      <td>NaN</td>\n",
       "      <td>2424083.0</td>\n",
       "      <td>NaN</td>\n",
       "      <td>1300000.0</td>\n",
       "      <td>1794412.0</td>\n",
       "      <td>NaN</td>\n",
       "      <td>1794412.0</td>\n",
       "      <td>55921.0</td>\n",
       "      <td>NaN</td>\n",
       "      <td>277464.0</td>\n",
       "      <td>NaN</td>\n",
       "      <td>True</td>\n",
       "      <td>-1386055.0</td>\n",
       "      <td>1736055.0</td>\n",
       "      <td>NaN</td>\n",
       "    </tr>\n",
       "    <tr>\n",
       "      <th>GLISAN JR BEN F</th>\n",
       "      <td>274975.0</td>\n",
       "      <td>873.0</td>\n",
       "      <td>1272284.0</td>\n",
       "      <td>384728.0</td>\n",
       "      <td>600000.0</td>\n",
       "      <td>393818.0</td>\n",
       "      <td>874.0</td>\n",
       "      <td>778546.0</td>\n",
       "      <td>125978.0</td>\n",
       "      <td>16.0</td>\n",
       "      <td>200308.0</td>\n",
       "      <td>6.0</td>\n",
       "      <td>True</td>\n",
       "      <td>NaN</td>\n",
       "      <td>71023.0</td>\n",
       "      <td>52.0</td>\n",
       "    </tr>\n",
       "    <tr>\n",
       "      <th>HANNON KEVIN P</th>\n",
       "      <td>243293.0</td>\n",
       "      <td>1045.0</td>\n",
       "      <td>288682.0</td>\n",
       "      <td>5538001.0</td>\n",
       "      <td>1500000.0</td>\n",
       "      <td>853064.0</td>\n",
       "      <td>1035.0</td>\n",
       "      <td>6391065.0</td>\n",
       "      <td>34039.0</td>\n",
       "      <td>32.0</td>\n",
       "      <td>11350.0</td>\n",
       "      <td>21.0</td>\n",
       "      <td>True</td>\n",
       "      <td>-3117011.0</td>\n",
       "      <td>1617011.0</td>\n",
       "      <td>32.0</td>\n",
       "    </tr>\n",
       "    <tr>\n",
       "      <th>HIRKO JOSEPH</th>\n",
       "      <td>NaN</td>\n",
       "      <td>NaN</td>\n",
       "      <td>91093.0</td>\n",
       "      <td>30766064.0</td>\n",
       "      <td>NaN</td>\n",
       "      <td>NaN</td>\n",
       "      <td>NaN</td>\n",
       "      <td>30766064.0</td>\n",
       "      <td>77978.0</td>\n",
       "      <td>NaN</td>\n",
       "      <td>2856.0</td>\n",
       "      <td>NaN</td>\n",
       "      <td>True</td>\n",
       "      <td>NaN</td>\n",
       "      <td>NaN</td>\n",
       "      <td>NaN</td>\n",
       "    </tr>\n",
       "    <tr>\n",
       "      <th>KOENIG MARK E</th>\n",
       "      <td>309946.0</td>\n",
       "      <td>2374.0</td>\n",
       "      <td>1587421.0</td>\n",
       "      <td>671737.0</td>\n",
       "      <td>700000.0</td>\n",
       "      <td>1248318.0</td>\n",
       "      <td>2271.0</td>\n",
       "      <td>1920055.0</td>\n",
       "      <td>127017.0</td>\n",
       "      <td>61.0</td>\n",
       "      <td>150458.0</td>\n",
       "      <td>15.0</td>\n",
       "      <td>True</td>\n",
       "      <td>NaN</td>\n",
       "      <td>300000.0</td>\n",
       "      <td>53.0</td>\n",
       "    </tr>\n",
       "    <tr>\n",
       "      <th>KOPPER MICHAEL J</th>\n",
       "      <td>224305.0</td>\n",
       "      <td>NaN</td>\n",
       "      <td>2652612.0</td>\n",
       "      <td>NaN</td>\n",
       "      <td>800000.0</td>\n",
       "      <td>985032.0</td>\n",
       "      <td>NaN</td>\n",
       "      <td>985032.0</td>\n",
       "      <td>118134.0</td>\n",
       "      <td>NaN</td>\n",
       "      <td>907502.0</td>\n",
       "      <td>NaN</td>\n",
       "      <td>True</td>\n",
       "      <td>NaN</td>\n",
       "      <td>602671.0</td>\n",
       "      <td>NaN</td>\n",
       "    </tr>\n",
       "    <tr>\n",
       "      <th>LAY KENNETH L</th>\n",
       "      <td>1072321.0</td>\n",
       "      <td>4273.0</td>\n",
       "      <td>103559793.0</td>\n",
       "      <td>34348384.0</td>\n",
       "      <td>7000000.0</td>\n",
       "      <td>14761694.0</td>\n",
       "      <td>2411.0</td>\n",
       "      <td>49110078.0</td>\n",
       "      <td>99832.0</td>\n",
       "      <td>36.0</td>\n",
       "      <td>10359729.0</td>\n",
       "      <td>16.0</td>\n",
       "      <td>True</td>\n",
       "      <td>-300000.0</td>\n",
       "      <td>3600000.0</td>\n",
       "      <td>123.0</td>\n",
       "    </tr>\n",
       "    <tr>\n",
       "      <th>RICE KENNETH D</th>\n",
       "      <td>420636.0</td>\n",
       "      <td>905.0</td>\n",
       "      <td>505050.0</td>\n",
       "      <td>19794175.0</td>\n",
       "      <td>1750000.0</td>\n",
       "      <td>2748364.0</td>\n",
       "      <td>864.0</td>\n",
       "      <td>22542539.0</td>\n",
       "      <td>46950.0</td>\n",
       "      <td>18.0</td>\n",
       "      <td>174839.0</td>\n",
       "      <td>4.0</td>\n",
       "      <td>True</td>\n",
       "      <td>-3504386.0</td>\n",
       "      <td>1617011.0</td>\n",
       "      <td>42.0</td>\n",
       "    </tr>\n",
       "    <tr>\n",
       "      <th>RIEKER PAULA H</th>\n",
       "      <td>249201.0</td>\n",
       "      <td>1328.0</td>\n",
       "      <td>1099100.0</td>\n",
       "      <td>1635238.0</td>\n",
       "      <td>700000.0</td>\n",
       "      <td>283649.0</td>\n",
       "      <td>1258.0</td>\n",
       "      <td>1918887.0</td>\n",
       "      <td>33271.0</td>\n",
       "      <td>82.0</td>\n",
       "      <td>1950.0</td>\n",
       "      <td>48.0</td>\n",
       "      <td>True</td>\n",
       "      <td>-100000.0</td>\n",
       "      <td>NaN</td>\n",
       "      <td>35.0</td>\n",
       "    </tr>\n",
       "    <tr>\n",
       "      <th>SHELBY REX</th>\n",
       "      <td>211844.0</td>\n",
       "      <td>225.0</td>\n",
       "      <td>2003885.0</td>\n",
       "      <td>1624396.0</td>\n",
       "      <td>200000.0</td>\n",
       "      <td>869220.0</td>\n",
       "      <td>91.0</td>\n",
       "      <td>2493616.0</td>\n",
       "      <td>22884.0</td>\n",
       "      <td>39.0</td>\n",
       "      <td>1573324.0</td>\n",
       "      <td>14.0</td>\n",
       "      <td>True</td>\n",
       "      <td>-4167.0</td>\n",
       "      <td>NaN</td>\n",
       "      <td>13.0</td>\n",
       "    </tr>\n",
       "    <tr>\n",
       "      <th>SKILLING JEFFREY K</th>\n",
       "      <td>1111258.0</td>\n",
       "      <td>3627.0</td>\n",
       "      <td>8682716.0</td>\n",
       "      <td>19250000.0</td>\n",
       "      <td>5600000.0</td>\n",
       "      <td>6843672.0</td>\n",
       "      <td>2042.0</td>\n",
       "      <td>26093672.0</td>\n",
       "      <td>29336.0</td>\n",
       "      <td>108.0</td>\n",
       "      <td>22122.0</td>\n",
       "      <td>30.0</td>\n",
       "      <td>True</td>\n",
       "      <td>NaN</td>\n",
       "      <td>1920000.0</td>\n",
       "      <td>88.0</td>\n",
       "    </tr>\n",
       "    <tr>\n",
       "      <th>YEAGER F SCOTT</th>\n",
       "      <td>158403.0</td>\n",
       "      <td>NaN</td>\n",
       "      <td>360300.0</td>\n",
       "      <td>8308552.0</td>\n",
       "      <td>NaN</td>\n",
       "      <td>3576206.0</td>\n",
       "      <td>NaN</td>\n",
       "      <td>11884758.0</td>\n",
       "      <td>53947.0</td>\n",
       "      <td>NaN</td>\n",
       "      <td>147950.0</td>\n",
       "      <td>NaN</td>\n",
       "      <td>True</td>\n",
       "      <td>NaN</td>\n",
       "      <td>NaN</td>\n",
       "      <td>NaN</td>\n",
       "    </tr>\n",
       "  </tbody>\n",
       "</table>\n",
       "</div>"
      ],
      "text/plain": [
       "                         salary  to_messages  total_payments  \\\n",
       "BELDEN TIMOTHY N       213999.0       7991.0       5501630.0   \n",
       "BOWEN JR RAYMOND M     278601.0       1858.0       2669589.0   \n",
       "CALGER CHRISTOPHER F   240189.0       2598.0       1639297.0   \n",
       "CAUSEY RICHARD A       415189.0       1892.0       1868758.0   \n",
       "COLWELL WESLEY         288542.0       1758.0       1490344.0   \n",
       "DELAINEY DAVID W       365163.0       3093.0       4747979.0   \n",
       "FASTOW ANDREW S        440698.0          NaN       2424083.0   \n",
       "GLISAN JR BEN F        274975.0        873.0       1272284.0   \n",
       "HANNON KEVIN P         243293.0       1045.0        288682.0   \n",
       "HIRKO JOSEPH                NaN          NaN         91093.0   \n",
       "KOENIG MARK E          309946.0       2374.0       1587421.0   \n",
       "KOPPER MICHAEL J       224305.0          NaN       2652612.0   \n",
       "LAY KENNETH L         1072321.0       4273.0     103559793.0   \n",
       "RICE KENNETH D         420636.0        905.0        505050.0   \n",
       "RIEKER PAULA H         249201.0       1328.0       1099100.0   \n",
       "SHELBY REX             211844.0        225.0       2003885.0   \n",
       "SKILLING JEFFREY K    1111258.0       3627.0       8682716.0   \n",
       "YEAGER F SCOTT         158403.0          NaN        360300.0   \n",
       "\n",
       "                      exercised_stock_options      bonus  restricted_stock  \\\n",
       "BELDEN TIMOTHY N                     953136.0  5249999.0          157569.0   \n",
       "BOWEN JR RAYMOND M                        NaN  1350000.0          252055.0   \n",
       "CALGER CHRISTOPHER F                      NaN  1250000.0          126027.0   \n",
       "CAUSEY RICHARD A                          NaN  1000000.0         2502063.0   \n",
       "COLWELL WESLEY                            NaN  1200000.0          698242.0   \n",
       "DELAINEY DAVID W                    2291113.0  3000000.0         1323148.0   \n",
       "FASTOW ANDREW S                           NaN  1300000.0         1794412.0   \n",
       "GLISAN JR BEN F                      384728.0   600000.0          393818.0   \n",
       "HANNON KEVIN P                      5538001.0  1500000.0          853064.0   \n",
       "HIRKO JOSEPH                       30766064.0        NaN               NaN   \n",
       "KOENIG MARK E                        671737.0   700000.0         1248318.0   \n",
       "KOPPER MICHAEL J                          NaN   800000.0          985032.0   \n",
       "LAY KENNETH L                      34348384.0  7000000.0        14761694.0   \n",
       "RICE KENNETH D                     19794175.0  1750000.0         2748364.0   \n",
       "RIEKER PAULA H                      1635238.0   700000.0          283649.0   \n",
       "SHELBY REX                          1624396.0   200000.0          869220.0   \n",
       "SKILLING JEFFREY K                 19250000.0  5600000.0         6843672.0   \n",
       "YEAGER F SCOTT                      8308552.0        NaN         3576206.0   \n",
       "\n",
       "                      shared_receipt_with_poi  total_stock_value  expenses  \\\n",
       "BELDEN TIMOTHY N                       5521.0          1110705.0   17355.0   \n",
       "BOWEN JR RAYMOND M                     1593.0           252055.0   65907.0   \n",
       "CALGER CHRISTOPHER F                   2188.0           126027.0   35818.0   \n",
       "CAUSEY RICHARD A                       1585.0          2502063.0   30674.0   \n",
       "COLWELL WESLEY                         1132.0           698242.0   16514.0   \n",
       "DELAINEY DAVID W                       2097.0          3614261.0   86174.0   \n",
       "FASTOW ANDREW S                           NaN          1794412.0   55921.0   \n",
       "GLISAN JR BEN F                         874.0           778546.0  125978.0   \n",
       "HANNON KEVIN P                         1035.0          6391065.0   34039.0   \n",
       "HIRKO JOSEPH                              NaN         30766064.0   77978.0   \n",
       "KOENIG MARK E                          2271.0          1920055.0  127017.0   \n",
       "KOPPER MICHAEL J                          NaN           985032.0  118134.0   \n",
       "LAY KENNETH L                          2411.0         49110078.0   99832.0   \n",
       "RICE KENNETH D                          864.0         22542539.0   46950.0   \n",
       "RIEKER PAULA H                         1258.0          1918887.0   33271.0   \n",
       "SHELBY REX                               91.0          2493616.0   22884.0   \n",
       "SKILLING JEFFREY K                     2042.0         26093672.0   29336.0   \n",
       "YEAGER F SCOTT                            NaN         11884758.0   53947.0   \n",
       "\n",
       "                      from_messages       other  from_this_person_to_poi  \\\n",
       "BELDEN TIMOTHY N              484.0    210698.0                    108.0   \n",
       "BOWEN JR RAYMOND M             27.0      1621.0                     15.0   \n",
       "CALGER CHRISTOPHER F          144.0       486.0                     25.0   \n",
       "CAUSEY RICHARD A               49.0    307895.0                     12.0   \n",
       "COLWELL WESLEY                 40.0    101740.0                     11.0   \n",
       "DELAINEY DAVID W             3069.0      1661.0                    609.0   \n",
       "FASTOW ANDREW S                 NaN    277464.0                      NaN   \n",
       "GLISAN JR BEN F                16.0    200308.0                      6.0   \n",
       "HANNON KEVIN P                 32.0     11350.0                     21.0   \n",
       "HIRKO JOSEPH                    NaN      2856.0                      NaN   \n",
       "KOENIG MARK E                  61.0    150458.0                     15.0   \n",
       "KOPPER MICHAEL J                NaN    907502.0                      NaN   \n",
       "LAY KENNETH L                  36.0  10359729.0                     16.0   \n",
       "RICE KENNETH D                 18.0    174839.0                      4.0   \n",
       "RIEKER PAULA H                 82.0      1950.0                     48.0   \n",
       "SHELBY REX                     39.0   1573324.0                     14.0   \n",
       "SKILLING JEFFREY K            108.0     22122.0                     30.0   \n",
       "YEAGER F SCOTT                  NaN    147950.0                      NaN   \n",
       "\n",
       "                       poi  deferred_income  long_term_incentive  \\\n",
       "BELDEN TIMOTHY N      True       -2334434.0                  NaN   \n",
       "BOWEN JR RAYMOND M    True           -833.0             974293.0   \n",
       "CALGER CHRISTOPHER F  True        -262500.0             375304.0   \n",
       "CAUSEY RICHARD A      True        -235000.0             350000.0   \n",
       "COLWELL WESLEY        True        -144062.0                  NaN   \n",
       "DELAINEY DAVID W      True              NaN            1294981.0   \n",
       "FASTOW ANDREW S       True       -1386055.0            1736055.0   \n",
       "GLISAN JR BEN F       True              NaN              71023.0   \n",
       "HANNON KEVIN P        True       -3117011.0            1617011.0   \n",
       "HIRKO JOSEPH          True              NaN                  NaN   \n",
       "KOENIG MARK E         True              NaN             300000.0   \n",
       "KOPPER MICHAEL J      True              NaN             602671.0   \n",
       "LAY KENNETH L         True        -300000.0            3600000.0   \n",
       "RICE KENNETH D        True       -3504386.0            1617011.0   \n",
       "RIEKER PAULA H        True        -100000.0                  NaN   \n",
       "SHELBY REX            True          -4167.0                  NaN   \n",
       "SKILLING JEFFREY K    True              NaN            1920000.0   \n",
       "YEAGER F SCOTT        True              NaN                  NaN   \n",
       "\n",
       "                      from_poi_to_this_person  \n",
       "BELDEN TIMOTHY N                        228.0  \n",
       "BOWEN JR RAYMOND M                      140.0  \n",
       "CALGER CHRISTOPHER F                    199.0  \n",
       "CAUSEY RICHARD A                         58.0  \n",
       "COLWELL WESLEY                          240.0  \n",
       "DELAINEY DAVID W                         66.0  \n",
       "FASTOW ANDREW S                           NaN  \n",
       "GLISAN JR BEN F                          52.0  \n",
       "HANNON KEVIN P                           32.0  \n",
       "HIRKO JOSEPH                              NaN  \n",
       "KOENIG MARK E                            53.0  \n",
       "KOPPER MICHAEL J                          NaN  \n",
       "LAY KENNETH L                           123.0  \n",
       "RICE KENNETH D                           42.0  \n",
       "RIEKER PAULA H                           35.0  \n",
       "SHELBY REX                               13.0  \n",
       "SKILLING JEFFREY K                       88.0  \n",
       "YEAGER F SCOTT                            NaN  "
      ]
     },
     "execution_count": 24,
     "metadata": {},
     "output_type": "execute_result"
    }
   ],
   "source": [
    "#listando os POI\n",
    "df[df.poi==True]"
   ]
  },
  {
   "cell_type": "code",
   "execution_count": 25,
   "metadata": {
    "scrolled": false
   },
   "outputs": [
    {
     "name": "stderr",
     "output_type": "stream",
     "text": [
      "/Users/saidwafiq/anaconda3/envs/py27/lib/python2.7/site-packages/ipykernel_launcher.py:2: UserWarning: Boolean Series key will be reindexed to match DataFrame index.\n",
      "  \n"
     ]
    },
    {
     "data": {
      "text/plain": [
       "LAY KENNETH L           103559793.0\n",
       "SKILLING JEFFREY K        8682716.0\n",
       "BELDEN TIMOTHY N          5501630.0\n",
       "DELAINEY DAVID W          4747979.0\n",
       "BOWEN JR RAYMOND M        2669589.0\n",
       "KOPPER MICHAEL J          2652612.0\n",
       "FASTOW ANDREW S           2424083.0\n",
       "SHELBY REX                2003885.0\n",
       "CAUSEY RICHARD A          1868758.0\n",
       "CALGER CHRISTOPHER F      1639297.0\n",
       "KOENIG MARK E             1587421.0\n",
       "COLWELL WESLEY            1490344.0\n",
       "GLISAN JR BEN F           1272284.0\n",
       "RIEKER PAULA H            1099100.0\n",
       "RICE KENNETH D             505050.0\n",
       "YEAGER F SCOTT             360300.0\n",
       "HANNON KEVIN P             288682.0\n",
       "HIRKO JOSEPH                91093.0\n",
       "Name: total_payments, dtype: float64"
      ]
     },
     "execution_count": 25,
     "metadata": {},
     "output_type": "execute_result"
    }
   ],
   "source": [
    "# Funcionarios POI ordenado pelos que receberam maiores pagamentos.\n",
    "df.sort_values(by='total_payments', ascending=False)[df.poi==True]['total_payments']"
   ]
  },
  {
   "cell_type": "markdown",
   "metadata": {},
   "source": [
    "### Imputando dados faltantes\n",
    "\n",
    "Imputar é usar o modelo para substituir dados faltantes.\n",
    "\n",
    "Primeiro vamos separar a base de POI e Não POI e preencher os dados faltantes com base na mediana de cada uma delas.\n",
    "Utilizamos a mediana porque  alguns dados como salário, bonus, entre outros possuem outliers e usar média acabaria distorcendo o resultado."
   ]
  },
  {
   "cell_type": "code",
   "execution_count": 26,
   "metadata": {},
   "outputs": [],
   "source": [
    "# separando as bases\n",
    "poi_df = pd.DataFrame(df[df.poi==1])\n",
    "notpoi_df = pd.DataFrame(df[df.poi==0])"
   ]
  },
  {
   "cell_type": "code",
   "execution_count": 27,
   "metadata": {},
   "outputs": [
    {
     "name": "stdout",
     "output_type": "stream",
     "text": [
      "salary                     14.049587\n",
      "to_messages                11.570248\n",
      "total_payments             14.876033\n",
      "exercised_stock_options     9.917355\n",
      "bonus                      13.223140\n",
      "restricted_stock           14.049587\n",
      "shared_receipt_with_poi    11.570248\n",
      "total_stock_value          14.876033\n",
      "expenses                   14.876033\n",
      "from_messages              11.570248\n",
      "other                      14.876033\n",
      "from_this_person_to_poi    11.570248\n",
      "poi                        14.876033\n",
      "deferred_income             9.090909\n",
      "long_term_incentive         9.917355\n",
      "from_poi_to_this_person    11.570248\n",
      "dtype: float64\n",
      "salary                     63.636364\n",
      "to_messages                59.504132\n",
      "total_payments             76.033058\n",
      "exercised_stock_options    66.115702\n",
      "bonus                      53.719008\n",
      "restricted_stock           70.247934\n",
      "shared_receipt_with_poi    59.504132\n",
      "total_stock_value          79.338843\n",
      "expenses                   57.024793\n",
      "from_messages              59.504132\n",
      "other                      59.504132\n",
      "from_this_person_to_poi    59.504132\n",
      "poi                        85.123967\n",
      "deferred_income            23.966942\n",
      "long_term_incentive        43.801653\n",
      "from_poi_to_this_person    59.504132\n",
      "dtype: float64\n"
     ]
    }
   ],
   "source": [
    "# porcentagem de dados faltantes em cada uma delas\n",
    "print ((poi_df.notna().sum()*1.0)/(len(df))*100)\n",
    "print ((notpoi_df.notna().sum()*1.0)/(len(df))*100)"
   ]
  },
  {
   "cell_type": "code",
   "execution_count": 28,
   "metadata": {},
   "outputs": [],
   "source": [
    "# imputando mediana\n",
    "poi_df.fillna(poi_df.median(),inplace=True)\n",
    "notpoi_df.fillna(notpoi_df.median(),inplace=True)"
   ]
  },
  {
   "cell_type": "code",
   "execution_count": 30,
   "metadata": {},
   "outputs": [
    {
     "name": "stdout",
     "output_type": "stream",
     "text": [
      "<class 'pandas.core.frame.DataFrame'>\n",
      "Index: 18 entries, BELDEN TIMOTHY N to YEAGER F SCOTT\n",
      "Data columns (total 16 columns):\n",
      "salary                     18 non-null float64\n",
      "to_messages                18 non-null float64\n",
      "total_payments             18 non-null float64\n",
      "exercised_stock_options    18 non-null float64\n",
      "bonus                      18 non-null float64\n",
      "restricted_stock           18 non-null float64\n",
      "shared_receipt_with_poi    18 non-null float64\n",
      "total_stock_value          18 non-null float64\n",
      "expenses                   18 non-null float64\n",
      "from_messages              18 non-null float64\n",
      "other                      18 non-null float64\n",
      "from_this_person_to_poi    18 non-null float64\n",
      "poi                        18 non-null bool\n",
      "deferred_income            18 non-null float64\n",
      "long_term_incentive        18 non-null float64\n",
      "from_poi_to_this_person    18 non-null float64\n",
      "dtypes: bool(1), float64(15)\n",
      "memory usage: 2.3+ KB\n"
     ]
    }
   ],
   "source": [
    "poi_df.info()"
   ]
  },
  {
   "cell_type": "code",
   "execution_count": 31,
   "metadata": {},
   "outputs": [],
   "source": [
    "# concatenando as duas em apenas um dataframe\n",
    "df = pd.concat([poi_df, notpoi_df]) "
   ]
  },
  {
   "cell_type": "code",
   "execution_count": 32,
   "metadata": {},
   "outputs": [
    {
     "name": "stdout",
     "output_type": "stream",
     "text": [
      "<class 'pandas.core.frame.DataFrame'>\n",
      "Index: 121 entries, BELDEN TIMOTHY N to YEAP SOON\n",
      "Data columns (total 16 columns):\n",
      "salary                     121 non-null float64\n",
      "to_messages                121 non-null float64\n",
      "total_payments             121 non-null float64\n",
      "exercised_stock_options    121 non-null float64\n",
      "bonus                      121 non-null float64\n",
      "restricted_stock           121 non-null float64\n",
      "shared_receipt_with_poi    121 non-null float64\n",
      "total_stock_value          121 non-null float64\n",
      "expenses                   121 non-null float64\n",
      "from_messages              121 non-null float64\n",
      "other                      121 non-null float64\n",
      "from_this_person_to_poi    121 non-null float64\n",
      "poi                        121 non-null bool\n",
      "deferred_income            121 non-null float64\n",
      "long_term_incentive        121 non-null float64\n",
      "from_poi_to_this_person    121 non-null float64\n",
      "dtypes: bool(1), float64(15)\n",
      "memory usage: 15.2+ KB\n"
     ]
    }
   ],
   "source": [
    "df.info()"
   ]
  },
  {
   "cell_type": "markdown",
   "metadata": {},
   "source": [
    "# 2. Selecionando e criando features\n",
    "\n",
    "Essa etapa, também conhecida como *feature selection* e *feature engineering* trata a questão de como criar o melhor conjunto de dados possível para treinar um modelo."
   ]
  },
  {
   "cell_type": "markdown",
   "metadata": {},
   "source": [
    "### Procurando bons atributos\n",
    "\n",
    "Como nosso objetivo é identificar fraude, um modo de encontrar bons candidatos a features é encontrando as variáveis com mais outliers. Entre os modos disponíveis temos:\n",
    "- Box plot\n",
    "- Scatter plot\n",
    "- Z-score\n",
    "- IQR score\n",
    "\n",
    "Nessa caso vamos utilizar o IQR score, porque ele apresenta uma lista dos outliers identificados pra cada variável."
   ]
  },
  {
   "cell_type": "code",
   "execution_count": 33,
   "metadata": {},
   "outputs": [
    {
     "name": "stdout",
     "output_type": "stream",
     "text": [
      "salary                       54296.0\n",
      "to_messages                   1128.0\n",
      "total_payments             1281069.0\n",
      "exercised_stock_options    1785512.0\n",
      "bonus                       400000.0\n",
      "restricted_stock            641707.0\n",
      "shared_receipt_with_poi       1108.0\n",
      "total_stock_value          1938631.0\n",
      "expenses                     23030.0\n",
      "from_messages                   38.0\n",
      "other                       198647.0\n",
      "from_this_person_to_poi         12.5\n",
      "poi                              0.0\n",
      "deferred_income                  0.0\n",
      "long_term_incentive         179118.0\n",
      "from_poi_to_this_person         38.0\n",
      "dtype: float64\n"
     ]
    }
   ],
   "source": [
    "# Primeiro calculamos o IQR\n",
    "Q1 = df.quantile(0.25)\n",
    "Q3 = df.quantile(0.75)\n",
    "IQR = Q3 - Q1\n",
    "print(IQR)"
   ]
  },
  {
   "cell_type": "code",
   "execution_count": 34,
   "metadata": {
    "scrolled": true
   },
   "outputs": [
    {
     "data": {
      "text/plain": [
       "deferred_income            46\n",
       "long_term_incentive        28\n",
       "from_messages              25\n",
       "salary                     25\n",
       "total_stock_value          20\n",
       "poi                        18\n",
       "from_this_person_to_poi    18\n",
       "from_poi_to_this_person    16\n",
       "restricted_stock           16\n",
       "expenses                   15\n",
       "bonus                      14\n",
       "other                      13\n",
       "exercised_stock_options    13\n",
       "total_payments             13\n",
       "to_messages                11\n",
       "shared_receipt_with_poi     6\n",
       "dtype: int64"
      ]
     },
     "execution_count": 34,
     "metadata": {},
     "output_type": "execute_result"
    }
   ],
   "source": [
    "# Aqui listamos o número de outliers por atributo\n",
    "n_out = ((df < (Q1 - 1.5 * IQR)) | (df > (Q3 + 1.5 * IQR))).sum()\n",
    "n_out.sort_values(ascending=False)"
   ]
  },
  {
   "cell_type": "code",
   "execution_count": 37,
   "metadata": {},
   "outputs": [],
   "source": [
    "### Task 1: Select what features you'll use.\n",
    "### features_list is a list of strings, each of which is a feature name.\n",
    "### The first feature must be \"poi\".\n",
    "features_list = ['poi','salary'] # You will need to use more features\n",
    "\n",
    "# Minha primeira lista de features \n",
    "my_features_list = ['poi', \n",
    "                    'deferred_income', \n",
    "                    'long_term_incentive', \n",
    "                    'from_messages', \n",
    "                    'salary',  \n",
    "                    'total_stock_value',\n",
    "                    'from_this_person_to_poi',\n",
    "                    'from_poi_to_this_person',\n",
    "                    'restricted_stock']"
   ]
  },
  {
   "cell_type": "markdown",
   "metadata": {},
   "source": [
    "#### Agregamos todas as features que mais possuiam outliers."
   ]
  },
  {
   "cell_type": "code",
   "execution_count": 38,
   "metadata": {},
   "outputs": [],
   "source": [
    "### Store to my_dataset for easy export below.\n",
    "my_dataset = df.to_dict('index')"
   ]
  },
  {
   "cell_type": "markdown",
   "metadata": {},
   "source": [
    "# 3. Testando os classificadores\n",
    "Vamos começar testando a `my_features_list`.\n",
    "\n",
    "Utilizamos os scores de accuracy, precision, recall e f1-score para avaliar qual algoritmo de classificação será selecionado."
   ]
  },
  {
   "cell_type": "markdown",
   "metadata": {},
   "source": [
    " ## Escalonando features\n",
    "Precisamos corrigir pesos discrepantes entre algumas features que possuem escalas muito diferentes como por exemplo `from messages` e `total_stock_value`. \n",
    "\n",
    "Features com pesos discrepantes podem impactar o modelo em classificadores como **SVM** e **K Means**."
   ]
  },
  {
   "cell_type": "code",
   "execution_count": 57,
   "metadata": {},
   "outputs": [],
   "source": [
    "### Extract my features and labels from dataset for local testing\n",
    "data = featureFormat(my_dataset, my_features_list, sort_keys = True)\n",
    "labels, features = targetFeatureSplit(data)\n",
    "\n",
    "scaler = MinMaxScaler(feature_range=(0, 1))\n",
    "features = scaler.fit_transform(features)"
   ]
  },
  {
   "cell_type": "code",
   "execution_count": 63,
   "metadata": {},
   "outputs": [],
   "source": [
    "# criando os conjuntos de treinamento e teste\n",
    "features_train, features_test, labels_train, labels_test = \\\n",
    "    train_test_split(features, labels, test_size=0.3, random_state=0)"
   ]
  },
  {
   "cell_type": "markdown",
   "metadata": {},
   "source": [
    "### Naive Bayes"
   ]
  },
  {
   "cell_type": "code",
   "execution_count": 133,
   "metadata": {},
   "outputs": [
    {
     "name": "stdout",
     "output_type": "stream",
     "text": [
      "('Accuracy', '0.676')\n",
      "('Precision', '0.000')\n",
      "('Recall', '0.000')\n",
      "('F1-Score', '0.000')\n"
     ]
    }
   ],
   "source": [
    "from sklearn.naive_bayes import GaussianNB\n",
    "clf = GaussianNB()\n",
    "\n",
    "clf.fit(features_train, labels_train)\n",
    "pred = clf.predict(features_test)\n",
    "print('Accuracy', \"%.3f\" % round(accuracy_score(labels_test, pred), 3))\n",
    "print('Precision',  \"%.3f\" % round(precision_score(labels_test, pred), 3))\n",
    "print('Recall',  \"%.3f\" % round(recall_score(labels_test, pred), 3))\n",
    "print('F1-Score',  \"%.3f\" % round(f1_score(labels_test, pred), 3))"
   ]
  },
  {
   "cell_type": "markdown",
   "metadata": {},
   "source": [
    "### k-nearest neighbors"
   ]
  },
  {
   "cell_type": "code",
   "execution_count": 65,
   "metadata": {
    "scrolled": true
   },
   "outputs": [
    {
     "name": "stdout",
     "output_type": "stream",
     "text": [
      "('Accuracy', '0.838')\n",
      "('Precision', '0.000')\n",
      "('Recall', '0.000')\n",
      "('F1-Score', '0.000')\n"
     ]
    }
   ],
   "source": [
    "from sklearn.neighbors import KNeighborsClassifier\n",
    "clf = KNeighborsClassifier()\n",
    "\n",
    "clf.fit(features_train, labels_train)\n",
    "pred = clf.predict(features_test)\n",
    "print('Accuracy', \"%.3f\" % round(accuracy_score(labels_test, pred), 3))\n",
    "print('Precision',  \"%.3f\" % round(precision_score(labels_test, pred), 3))\n",
    "print('Recall',  \"%.3f\" % round(recall_score(labels_test, pred), 3))\n",
    "print('F1-Score',  \"%.3f\" % round(f1_score(labels_test, pred), 3))"
   ]
  },
  {
   "cell_type": "markdown",
   "metadata": {},
   "source": [
    "Temos um problema aqui, resultados como precision **1 ou 0** são um sintoma claro de **overfitting**.\n",
    "\n",
    "O que causou esse problema é que usamos o `train_test_split` em nosso **dataset** que é bem **pequeno e desbalanceado**. \n",
    "Entre as duas classes de classificação do nosso modelo, temos apenas **18 POI, em torno de 15% do total**. Nosso modelo não tem boa capacidade de generalizar, então com a entrada de novos dados o resultado de predição será bem fraco. "
   ]
  },
  {
   "cell_type": "markdown",
   "metadata": {},
   "source": [
    "### StratifiedShuffleSplit"
   ]
  },
  {
   "cell_type": "code",
   "execution_count": 109,
   "metadata": {},
   "outputs": [],
   "source": [
    "# criando os conjuntos de treinamento e teste com StratifiedShuffleSplit\n",
    "def validate(classifier, features_list, dataset):\n",
    "    accuracy_scores = []\n",
    "    precision_scores = []\n",
    "    recall_scores = []\n",
    "    f1_scores = []\n",
    "    \n",
    "    data = featureFormat(dataset, features_list, sort_keys = True)\n",
    "    labels, features = targetFeatureSplit(data)\n",
    "\n",
    "    scaler = MinMaxScaler(feature_range=(0, 1))\n",
    "    features = scaler.fit_transform(features)\n",
    "    sss = StratifiedShuffleSplit(n_splits=1000, test_size=0.3, random_state=0)\n",
    "    for train_index, test_index in sss.split(features, labels):\n",
    "        features_train = []\n",
    "        features_test  = []\n",
    "        labels_train   = []\n",
    "        labels_test    = []\n",
    "        for ii in train_index:\n",
    "            features_train.append( features[ii] )\n",
    "            labels_train.append( labels[ii] )\n",
    "        for jj in test_index:\n",
    "            features_test.append( features[jj] )\n",
    "            labels_test.append( labels[jj] )\n",
    "        clf = classifier\n",
    "        clf.fit(features_train, labels_train)\n",
    "        pred = clf.predict(features_test)\n",
    "        accuracy_scores.append(accuracy_score(labels_test, pred))\n",
    "        precision_scores.append(precision_score(labels_test, pred))\n",
    "        recall_scores.append(recall_score(labels_test, pred))\n",
    "        f1_scores.append(f1_score(labels_test, pred))\n",
    "\n",
    "    print('Accuracy', \"%.3f\" % round(np.mean(accuracy_scores), 3)   + \\\n",
    "          ' | Precision', \"%.3f\" % round(np.mean(precision_scores), 3) + \\\n",
    "          ' | Recall', \"%.3f\" % round(np.mean(recall_scores), 3)       + \\\n",
    "          ' | F1-measure', \"%.3f\" % round(np.mean(f1_scores), 3))"
   ]
  },
  {
   "cell_type": "markdown",
   "metadata": {},
   "source": [
    "### Naive Bayes"
   ]
  },
  {
   "cell_type": "code",
   "execution_count": 134,
   "metadata": {},
   "outputs": [
    {
     "name": "stdout",
     "output_type": "stream",
     "text": [
      "('Accuracy', '0.809 | Precision', '0.444 | Recall', '0.358 | F1-measure', '0.373')\n"
     ]
    }
   ],
   "source": [
    "# chama função\n",
    "validate(GaussianNB(), my_features_list, my_dataset)"
   ]
  },
  {
   "cell_type": "markdown",
   "metadata": {},
   "source": [
    "### k-nearest neighbors"
   ]
  },
  {
   "cell_type": "code",
   "execution_count": 111,
   "metadata": {
    "scrolled": true
   },
   "outputs": [
    {
     "name": "stdout",
     "output_type": "stream",
     "text": [
      "('Accuracy', '0.815 | Precision', '0.122 | Recall', '0.040 | F1-measure', '0.057')\n"
     ]
    }
   ],
   "source": [
    "# chama função com SSS\n",
    "validate(KNeighborsClassifier(), my_features_list, my_dataset)"
   ]
  },
  {
   "cell_type": "markdown",
   "metadata": {},
   "source": [
    "### Random Forest"
   ]
  },
  {
   "cell_type": "code",
   "execution_count": 112,
   "metadata": {},
   "outputs": [
    {
     "name": "stdout",
     "output_type": "stream",
     "text": [
      "('Accuracy', '0.870 | Precision', '0.703 | Recall', '0.332 | F1-measure', '0.427')\n"
     ]
    }
   ],
   "source": [
    "from sklearn.ensemble import RandomForestClassifier\n",
    "\n",
    "# chama função com SSS\n",
    "validate(RandomForestClassifier(), my_features_list, my_dataset)"
   ]
  },
  {
   "cell_type": "markdown",
   "metadata": {},
   "source": [
    "### Decision Tree"
   ]
  },
  {
   "cell_type": "code",
   "execution_count": 122,
   "metadata": {
    "scrolled": true
   },
   "outputs": [
    {
     "name": "stdout",
     "output_type": "stream",
     "text": [
      "('Accuracy', '0.875 | Precision', '0.635 | Recall', '0.623 | F1-measure', '0.608')\n"
     ]
    }
   ],
   "source": [
    "from sklearn.tree import DecisionTreeClassifier\n",
    "\n",
    "# chama função com SSS\n",
    "validate(DecisionTreeClassifier(), my_features_list, my_dataset)"
   ]
  },
  {
   "cell_type": "markdown",
   "metadata": {},
   "source": [
    "### Ada Booster"
   ]
  },
  {
   "cell_type": "code",
   "execution_count": 114,
   "metadata": {},
   "outputs": [
    {
     "name": "stdout",
     "output_type": "stream",
     "text": [
      "('Accuracy', '0.871 | Precision', '0.666 | Recall', '0.474 | F1-measure', '0.527')\n"
     ]
    }
   ],
   "source": [
    "from sklearn.ensemble import AdaBoostClassifier\n",
    "\n",
    "# chama função com SSS\n",
    "validate(AdaBoostClassifier(), my_features_list, my_dataset)"
   ]
  },
  {
   "cell_type": "markdown",
   "metadata": {},
   "source": [
    "### SVM"
   ]
  },
  {
   "cell_type": "code",
   "execution_count": 115,
   "metadata": {},
   "outputs": [
    {
     "name": "stdout",
     "output_type": "stream",
     "text": [
      "('Accuracy', '0.838 | Precision', '0.000 | Recall', '0.000 | F1-measure', '0.000')\n"
     ]
    }
   ],
   "source": [
    "from sklearn.svm import SVC\n",
    "\n",
    "# chama função com SSS\n",
    "validate(SVC(), my_features_list, my_dataset)"
   ]
  },
  {
   "cell_type": "markdown",
   "metadata": {},
   "source": [
    "### K Means"
   ]
  },
  {
   "cell_type": "code",
   "execution_count": 116,
   "metadata": {
    "scrolled": true
   },
   "outputs": [
    {
     "name": "stdout",
     "output_type": "stream",
     "text": [
      "('Accuracy', '0.654 | Precision', '0.390 | Recall', '0.335 | F1-measure', '0.233')\n"
     ]
    }
   ],
   "source": [
    "from sklearn.cluster import KMeans\n",
    "\n",
    "# chama função com SSS\n",
    "validate(KMeans(n_clusters=2), my_features_list, my_dataset)"
   ]
  },
  {
   "cell_type": "markdown",
   "metadata": {},
   "source": [
    "## Verificando os resultados\n",
    "\n",
    "    NB  ('Accuracy', '0.809 | Precision', '0.444 | Recall', '0.358 | F1-measure', '0.373')\n",
    "    kNN ('Accuracy', '0.815 | Precision', '0.122 | Recall', '0.040 | F1-measure', '0.057')\n",
    "    RF  ('Accuracy', '0.870 | Precision', '0.703 | Recall', '0.332 | F1-measure', '0.427')\n",
    "    DT  ('Accuracy', '0.875 | Precision', '0.635 | Recall', '0.623 | F1-measure', '0.608')\n",
    "    AB  ('Accuracy', '0.871 | Precision', '0.666 | Recall', '0.474 | F1-measure', '0.527')\n",
    "    SVM ('Accuracy', '0.838 | Precision', '0.000 | Recall', '0.000 | F1-measure', '0.000')\n",
    "    KM  ('Accuracy', '0.654 | Precision', '0.390 | Recall', '0.335 | F1-measure', '0.233')\n",
    "    \n",
    "O algoritmo que apresentou o melhor resultado foi o **Decision Tree**\n",
    "\n",
    "Como nosso objetivo é classificar POI e Não POI e como temos dados de entrada que correspondem ao que queremos classificar, **selecionei dois algoritmos**: **Naive Bayes** e **Decision Tree**.\n",
    "#### Vamos usar o Naive Bayes como controle e utilizaremos o Decision Tree na fase de tuning. Dessa forma, quando trabalharmos na afinação do algoritmo, conseguiremos ter uma ideia melhor do impacto dessa fase no ajuste do modelo."
   ]
  },
  {
   "cell_type": "markdown",
   "metadata": {},
   "source": [
    "# Criando uma nova feature\n",
    "O objetivo nesta etapa é combinar features para melhorar o desempenho do classificador.\n",
    "\n",
    "Nesse caso proponho criar duas novas features combinando uma série.\n",
    "\n",
    "### Financials\n",
    "**renda líquida** `net_revenue` somando `salary`, `bonus`, `long_term_incentive` e subtraindo `expenses`\n",
    "\n",
    "### E-mail\n",
    "**relacionado a POI** `related_to_poi` somando `from_poi_to_this_person`, `from_this_person_to_poi`, `shared_receipt_with_poi` dividindo pela soma de `to_messages` e `from_messages`"
   ]
  },
  {
   "cell_type": "code",
   "execution_count": 117,
   "metadata": {},
   "outputs": [
    {
     "data": {
      "text/plain": [
       "(121, 18)"
      ]
     },
     "execution_count": 117,
     "metadata": {},
     "output_type": "execute_result"
    }
   ],
   "source": [
    "### Task 3: Create new feature(s)\n",
    "df_2 = df.copy()\n",
    "df_2['net_revenue'] = df_2['bonus']               + \\\n",
    "                      df_2['salary']              + \\\n",
    "                      df_2['long_term_incentive'] - \\\n",
    "                      df_2['expenses']\n",
    "\n",
    "df_2['related_to_poi'] = (df_2.from_poi_to_this_person  + \\\n",
    "                          df_2.from_this_person_to_poi  + \\\n",
    "                          df_2.shared_receipt_with_poi) / \\\n",
    "                         (df_2.to_messages              + \\\n",
    "                          df_2.from_messages)\n",
    "\n",
    "df_nona = df_2.fillna(value='NaN')\n",
    "data_dict_2 = df_nona.to_dict(orient='index')\n",
    "df_2.shape"
   ]
  },
  {
   "cell_type": "code",
   "execution_count": 118,
   "metadata": {},
   "outputs": [
    {
     "data": {
      "text/html": [
       "<div>\n",
       "<style scoped>\n",
       "    .dataframe tbody tr th:only-of-type {\n",
       "        vertical-align: middle;\n",
       "    }\n",
       "\n",
       "    .dataframe tbody tr th {\n",
       "        vertical-align: top;\n",
       "    }\n",
       "\n",
       "    .dataframe thead th {\n",
       "        text-align: right;\n",
       "    }\n",
       "</style>\n",
       "<table border=\"1\" class=\"dataframe\">\n",
       "  <thead>\n",
       "    <tr style=\"text-align: right;\">\n",
       "      <th></th>\n",
       "      <th>salary</th>\n",
       "      <th>to_messages</th>\n",
       "      <th>total_payments</th>\n",
       "      <th>exercised_stock_options</th>\n",
       "      <th>bonus</th>\n",
       "      <th>restricted_stock</th>\n",
       "      <th>shared_receipt_with_poi</th>\n",
       "      <th>total_stock_value</th>\n",
       "      <th>expenses</th>\n",
       "      <th>from_messages</th>\n",
       "      <th>other</th>\n",
       "      <th>from_this_person_to_poi</th>\n",
       "      <th>poi</th>\n",
       "      <th>deferred_income</th>\n",
       "      <th>long_term_incentive</th>\n",
       "      <th>from_poi_to_this_person</th>\n",
       "      <th>net_revenue</th>\n",
       "      <th>related_to_poi</th>\n",
       "    </tr>\n",
       "  </thead>\n",
       "  <tbody>\n",
       "    <tr>\n",
       "      <th>BELDEN TIMOTHY N</th>\n",
       "      <td>213999.0</td>\n",
       "      <td>7991.0</td>\n",
       "      <td>5501630.0</td>\n",
       "      <td>953136.0</td>\n",
       "      <td>5249999.0</td>\n",
       "      <td>157569.0</td>\n",
       "      <td>5521.0</td>\n",
       "      <td>1110705.0</td>\n",
       "      <td>17355.0</td>\n",
       "      <td>484.0</td>\n",
       "      <td>210698.0</td>\n",
       "      <td>108.0</td>\n",
       "      <td>True</td>\n",
       "      <td>-2334434.0</td>\n",
       "      <td>1134637.0</td>\n",
       "      <td>228.0</td>\n",
       "      <td>6581280.0</td>\n",
       "      <td>0.691091</td>\n",
       "    </tr>\n",
       "    <tr>\n",
       "      <th>BOWEN JR RAYMOND M</th>\n",
       "      <td>278601.0</td>\n",
       "      <td>1858.0</td>\n",
       "      <td>2669589.0</td>\n",
       "      <td>3914557.0</td>\n",
       "      <td>1350000.0</td>\n",
       "      <td>252055.0</td>\n",
       "      <td>1593.0</td>\n",
       "      <td>252055.0</td>\n",
       "      <td>65907.0</td>\n",
       "      <td>27.0</td>\n",
       "      <td>1621.0</td>\n",
       "      <td>15.0</td>\n",
       "      <td>True</td>\n",
       "      <td>-833.0</td>\n",
       "      <td>974293.0</td>\n",
       "      <td>140.0</td>\n",
       "      <td>2536987.0</td>\n",
       "      <td>0.927321</td>\n",
       "    </tr>\n",
       "    <tr>\n",
       "      <th>CALGER CHRISTOPHER F</th>\n",
       "      <td>240189.0</td>\n",
       "      <td>2598.0</td>\n",
       "      <td>1639297.0</td>\n",
       "      <td>3914557.0</td>\n",
       "      <td>1250000.0</td>\n",
       "      <td>126027.0</td>\n",
       "      <td>2188.0</td>\n",
       "      <td>126027.0</td>\n",
       "      <td>35818.0</td>\n",
       "      <td>144.0</td>\n",
       "      <td>486.0</td>\n",
       "      <td>25.0</td>\n",
       "      <td>True</td>\n",
       "      <td>-262500.0</td>\n",
       "      <td>375304.0</td>\n",
       "      <td>199.0</td>\n",
       "      <td>1829675.0</td>\n",
       "      <td>0.879650</td>\n",
       "    </tr>\n",
       "    <tr>\n",
       "      <th>CAUSEY RICHARD A</th>\n",
       "      <td>415189.0</td>\n",
       "      <td>1892.0</td>\n",
       "      <td>1868758.0</td>\n",
       "      <td>3914557.0</td>\n",
       "      <td>1000000.0</td>\n",
       "      <td>2502063.0</td>\n",
       "      <td>1585.0</td>\n",
       "      <td>2502063.0</td>\n",
       "      <td>30674.0</td>\n",
       "      <td>49.0</td>\n",
       "      <td>307895.0</td>\n",
       "      <td>12.0</td>\n",
       "      <td>True</td>\n",
       "      <td>-235000.0</td>\n",
       "      <td>350000.0</td>\n",
       "      <td>58.0</td>\n",
       "      <td>1734515.0</td>\n",
       "      <td>0.852653</td>\n",
       "    </tr>\n",
       "    <tr>\n",
       "      <th>COLWELL WESLEY</th>\n",
       "      <td>288542.0</td>\n",
       "      <td>1758.0</td>\n",
       "      <td>1490344.0</td>\n",
       "      <td>3914557.0</td>\n",
       "      <td>1200000.0</td>\n",
       "      <td>698242.0</td>\n",
       "      <td>1132.0</td>\n",
       "      <td>698242.0</td>\n",
       "      <td>16514.0</td>\n",
       "      <td>40.0</td>\n",
       "      <td>101740.0</td>\n",
       "      <td>11.0</td>\n",
       "      <td>True</td>\n",
       "      <td>-144062.0</td>\n",
       "      <td>1134637.0</td>\n",
       "      <td>240.0</td>\n",
       "      <td>2606665.0</td>\n",
       "      <td>0.769188</td>\n",
       "    </tr>\n",
       "  </tbody>\n",
       "</table>\n",
       "</div>"
      ],
      "text/plain": [
       "                        salary  to_messages  total_payments  \\\n",
       "BELDEN TIMOTHY N      213999.0       7991.0       5501630.0   \n",
       "BOWEN JR RAYMOND M    278601.0       1858.0       2669589.0   \n",
       "CALGER CHRISTOPHER F  240189.0       2598.0       1639297.0   \n",
       "CAUSEY RICHARD A      415189.0       1892.0       1868758.0   \n",
       "COLWELL WESLEY        288542.0       1758.0       1490344.0   \n",
       "\n",
       "                      exercised_stock_options      bonus  restricted_stock  \\\n",
       "BELDEN TIMOTHY N                     953136.0  5249999.0          157569.0   \n",
       "BOWEN JR RAYMOND M                  3914557.0  1350000.0          252055.0   \n",
       "CALGER CHRISTOPHER F                3914557.0  1250000.0          126027.0   \n",
       "CAUSEY RICHARD A                    3914557.0  1000000.0         2502063.0   \n",
       "COLWELL WESLEY                      3914557.0  1200000.0          698242.0   \n",
       "\n",
       "                      shared_receipt_with_poi  total_stock_value  expenses  \\\n",
       "BELDEN TIMOTHY N                       5521.0          1110705.0   17355.0   \n",
       "BOWEN JR RAYMOND M                     1593.0           252055.0   65907.0   \n",
       "CALGER CHRISTOPHER F                   2188.0           126027.0   35818.0   \n",
       "CAUSEY RICHARD A                       1585.0          2502063.0   30674.0   \n",
       "COLWELL WESLEY                         1132.0           698242.0   16514.0   \n",
       "\n",
       "                      from_messages     other  from_this_person_to_poi   poi  \\\n",
       "BELDEN TIMOTHY N              484.0  210698.0                    108.0  True   \n",
       "BOWEN JR RAYMOND M             27.0    1621.0                     15.0  True   \n",
       "CALGER CHRISTOPHER F          144.0     486.0                     25.0  True   \n",
       "CAUSEY RICHARD A               49.0  307895.0                     12.0  True   \n",
       "COLWELL WESLEY                 40.0  101740.0                     11.0  True   \n",
       "\n",
       "                      deferred_income  long_term_incentive  \\\n",
       "BELDEN TIMOTHY N           -2334434.0            1134637.0   \n",
       "BOWEN JR RAYMOND M             -833.0             974293.0   \n",
       "CALGER CHRISTOPHER F        -262500.0             375304.0   \n",
       "CAUSEY RICHARD A            -235000.0             350000.0   \n",
       "COLWELL WESLEY              -144062.0            1134637.0   \n",
       "\n",
       "                      from_poi_to_this_person  net_revenue  related_to_poi  \n",
       "BELDEN TIMOTHY N                        228.0    6581280.0        0.691091  \n",
       "BOWEN JR RAYMOND M                      140.0    2536987.0        0.927321  \n",
       "CALGER CHRISTOPHER F                    199.0    1829675.0        0.879650  \n",
       "CAUSEY RICHARD A                         58.0    1734515.0        0.852653  \n",
       "COLWELL WESLEY                          240.0    2606665.0        0.769188  "
      ]
     },
     "execution_count": 118,
     "metadata": {},
     "output_type": "execute_result"
    }
   ],
   "source": [
    "df_2.head()"
   ]
  },
  {
   "cell_type": "code",
   "execution_count": 145,
   "metadata": {},
   "outputs": [],
   "source": [
    "my_dataset_2 = data_dict_2\n",
    "\n",
    "my_features_list2 = ['poi', \n",
    "                    'deferred_income', \n",
    "                    'long_term_incentive', \n",
    "                    'from_messages', \n",
    "                    'salary',  \n",
    "                    'total_stock_value',\n",
    "                    'from_this_person_to_poi',\n",
    "                    'from_poi_to_this_person',\n",
    "                    'restricted_stock',\n",
    "                    'net_revenue',\n",
    "                    'related_to_poi']"
   ]
  },
  {
   "cell_type": "markdown",
   "metadata": {},
   "source": [
    "## Testando os novos atributos"
   ]
  },
  {
   "cell_type": "code",
   "execution_count": 146,
   "metadata": {},
   "outputs": [
    {
     "name": "stdout",
     "output_type": "stream",
     "text": [
      "('Accuracy', '0.814 | Precision', '0.463 | Recall', '0.378 | F1-measure', '0.392')\n"
     ]
    }
   ],
   "source": [
    "# NB\n",
    "validate(GaussianNB(), my_features_list2, my_dataset_2)"
   ]
  },
  {
   "cell_type": "code",
   "execution_count": 148,
   "metadata": {},
   "outputs": [
    {
     "name": "stdout",
     "output_type": "stream",
     "text": [
      "('Accuracy', '0.854 | Precision', '0.569 | Recall', '0.527 | F1-measure', '0.525')\n"
     ]
    }
   ],
   "source": [
    "# DT\n",
    "validate(DecisionTreeClassifier(), my_features_list2, my_dataset_2)"
   ]
  },
  {
   "cell_type": "markdown",
   "metadata": {},
   "source": [
    "## Comparando os resultados com os novos atributos\n",
    "\n",
    "    NB  ('Accuracy', '0.809 | Precision', '0.444 | Recall', '0.358 | F1-measure', '0.373')\n",
    "    NB  ('Accuracy', '0.814 | Precision', '0.463 | Recall', '0.378 | F1-measure', '0.392')\n",
    "    \n",
    "    DT  ('Accuracy', '0.875 | Precision', '0.635 | Recall', '0.623 | F1-measure', '0.608')\n",
    "    DT  ('Accuracy', '0.854 | Precision', '0.569 | Recall', '0.527 | F1-measure', '0.525')"
   ]
  },
  {
   "cell_type": "markdown",
   "metadata": {},
   "source": [
    "#### Os novos atributos tiveram sensível melhora na performance do Naive Bayes e sensível piora no Decision Tree."
   ]
  },
  {
   "cell_type": "markdown",
   "metadata": {},
   "source": [
    "# Outra forma de selecionar features\n",
    "O scikit-learn possui um módulo de seleção de features auxiliando na melhoria da acurácia e performance do modelo."
   ]
  },
  {
   "cell_type": "code",
   "execution_count": 124,
   "metadata": {},
   "outputs": [],
   "source": [
    "# adicionando todas as features\n",
    "features_list = ['poi',\n",
    "                 'salary',\n",
    "                 'deferred_income',\n",
    "                 'to_messages',\n",
    "                 'total_payments',\n",
    "                 'exercised_stock_options',\n",
    "                 'bonus',\n",
    "                 'restricted_stock',\n",
    "                 'shared_receipt_with_poi',\n",
    "                 'total_stock_value',\n",
    "                 'expenses',\n",
    "                 'from_messages',\n",
    "                 'other',\n",
    "                 'from_this_person_to_poi',\n",
    "                 'long_term_incentive',\n",
    "                 'from_poi_to_this_person',\n",
    "                 'net_revenue',  \n",
    "                 'related_to_poi']"
   ]
  },
  {
   "cell_type": "markdown",
   "metadata": {},
   "source": [
    "### SelectKBest\n",
    "Utilizamos o módulo SelectKBest que por meio do teste da Análise de Variância ANOVA- ANAlysis of VAriance determina quais as features mais importantes."
   ]
  },
  {
   "cell_type": "code",
   "execution_count": 125,
   "metadata": {},
   "outputs": [],
   "source": [
    "data = featureFormat(my_dataset_2, features_list)\n",
    "labels, features = targetFeatureSplit(data)\n",
    "\n",
    "scaler = MinMaxScaler(feature_range=(0, 1))\n",
    "features = scaler.fit_transform(features)\n",
    "\n",
    "##avalia o score de cada feature\n",
    "from sklearn.feature_selection import SelectKBest, f_classif\n",
    "selek = SelectKBest(f_classif, k='all').fit(features, labels)"
   ]
  },
  {
   "cell_type": "code",
   "execution_count": 126,
   "metadata": {},
   "outputs": [
    {
     "data": {
      "text/plain": [
       "[('exercised_stock_options', 31.10299762616781),\n",
       " ('net_revenue', 21.64893015367207),\n",
       " ('total_stock_value', 18.170465739952885),\n",
       " ('long_term_incentive', 17.55521104523202),\n",
       " ('bonus', 14.442559223991168),\n",
       " ('related_to_poi', 12.141479066179944),\n",
       " ('shared_receipt_with_poi', 10.539576761245815),\n",
       " ('salary', 9.333642062035022),\n",
       " ('deferred_income', 8.165365207492425),\n",
       " ('restricted_stock', 6.507023743603638),\n",
       " ('total_payments', 6.36045559885996),\n",
       " ('from_poi_to_this_person', 4.699033217204729),\n",
       " ('other', 2.9066864849496747),\n",
       " ('from_this_person_to_poi', 1.6659682243757588),\n",
       " ('to_messages', 1.1473388033157685),\n",
       " ('expenses', 0.8556827313673798),\n",
       " ('from_messages', 0.34490413204215864)]"
      ]
     },
     "execution_count": 126,
     "metadata": {},
     "output_type": "execute_result"
    }
   ],
   "source": [
    "##concatena o nome da feature e seu respectivo score\n",
    "all_scores_dict = {}\n",
    "for i, score in enumerate(selek.scores_):\n",
    "    all_scores_dict[features_list[i+1]] = score\n",
    "\n",
    "##organiza features e respectivos scores em ordem decrescente\n",
    "import operator\n",
    "sorted_dict_scores = sorted(all_scores_dict.items(), key=operator.itemgetter(1),reverse = True)\n",
    "\n",
    "sorted_dict_scores"
   ]
  },
  {
   "cell_type": "markdown",
   "metadata": {},
   "source": [
    "#### Para comparar com as listas de atributos anteriores, vamos selecionar a mesma quantidade de features: `10`, de maior score e incluir o `poi`."
   ]
  },
  {
   "cell_type": "code",
   "execution_count": 149,
   "metadata": {},
   "outputs": [],
   "source": [
    "features_list = ['poi', \n",
    "                 'exercised_stock_options', \n",
    "                 'total_stock_value', \n",
    "                 'net_revenue', \n",
    "                 'bonus',  \n",
    "                 'salary',\n",
    "                 'related_to_poi',\n",
    "                 'restricted_stock',\n",
    "                 'long_term_incentive',\n",
    "                 'deferred_income',\n",
    "                 'shared_receipt_with_poi']"
   ]
  },
  {
   "cell_type": "code",
   "execution_count": 150,
   "metadata": {
    "scrolled": true
   },
   "outputs": [
    {
     "name": "stdout",
     "output_type": "stream",
     "text": [
      "('Accuracy', '0.823 | Precision', '0.474 | Recall', '0.374 | F1-measure', '0.394')\n"
     ]
    }
   ],
   "source": [
    "# NB\n",
    "validate(GaussianNB(), features_list, my_dataset_2)"
   ]
  },
  {
   "cell_type": "code",
   "execution_count": 137,
   "metadata": {},
   "outputs": [
    {
     "name": "stdout",
     "output_type": "stream",
     "text": [
      "('Accuracy', '0.854 | Precision', '0.575 | Recall', '0.536 | F1-measure', '0.533')\n"
     ]
    }
   ],
   "source": [
    "# DT\n",
    "validate(DecisionTreeClassifier(), features_list, my_dataset_2)"
   ]
  },
  {
   "cell_type": "markdown",
   "metadata": {},
   "source": [
    "## Comparando os resultados\n",
    "\n",
    "    NB  ('Accuracy', '0.809 | Precision', '0.444 | Recall', '0.358 | F1-measure', '0.373')\n",
    "    NB  ('Accuracy', '0.814 | Precision', '0.463 | Recall', '0.378 | F1-measure', '0.392')\n",
    "    NB  ('Accuracy', '0.823 | Precision', '0.474 | Recall', '0.374 | F1-measure', '0.394')\n",
    "    \n",
    "    DT  ('Accuracy', '0.875 | Precision', '0.635 | Recall', '0.623 | F1-measure', '0.608')\n",
    "    DT  ('Accuracy', '0.854 | Precision', '0.569 | Recall', '0.527 | F1-measure', '0.525')\n",
    "    DT  ('Accuracy', '0.854 | Precision', '0.575 | Recall', '0.536 | F1-measure', '0.533')\n",
    "    \n",
    "    \n",
    "A nova lista de atributos melhorou sensivelmente o classificador **Naive Bayes** e piorou o classificador **Decision Tree**"
   ]
  },
  {
   "cell_type": "markdown",
   "metadata": {},
   "source": [
    "# Testando feature por feature"
   ]
  },
  {
   "cell_type": "code",
   "execution_count": 151,
   "metadata": {},
   "outputs": [],
   "source": [
    "a = ['poi','salary']\n",
    "b = ['poi','to_messages'] # #6\n",
    "c = ['poi','total_payments']\n",
    "d = ['poi','exercised_stock_options'] #1 #1\n",
    "e = ['poi','bonus'] #4 #3\n",
    "f = ['poi','restricted_stock']\n",
    "g = ['poi','shared_receipt_with_poi'] # #2\n",
    "h = ['poi','total_stock_value'] #2\n",
    "i = ['poi','expenses']\n",
    "j = ['poi','from_messages']\n",
    "k = ['poi','other']\n",
    "l = ['poi','from_this_person_to_poi'] # #7\n",
    "m = ['poi','long_term_incentive'] # #4\n",
    "n = ['poi','from_poi_to_this_person']\n",
    "o = ['poi','net_revenue'] #3\n",
    "p = ['poi','related_to_poi'] # #5\n",
    "feature_test = [a,b,c,d,e,f,g,h,i,j,k,l,m,n,o,p]"
   ]
  },
  {
   "cell_type": "code",
   "execution_count": 152,
   "metadata": {},
   "outputs": [
    {
     "name": "stdout",
     "output_type": "stream",
     "text": [
      "('Accuracy', '0.828 | Precision', '0.330 | Recall', '0.082 | F1-measure', '0.125')\n",
      "('Accuracy', '0.830 | Precision', '0.000 | Recall', '0.000 | F1-measure', '0.000')\n",
      "('Accuracy', '0.819 | Precision', '0.057 | Recall', '0.025 | F1-measure', '0.034')\n",
      "('Accuracy', '0.843 | Precision', '0.551 | Recall', '0.258 | F1-measure', '0.331')\n",
      "('Accuracy', '0.837 | Precision', '0.504 | Recall', '0.164 | F1-measure', '0.232')\n",
      "('Accuracy', '0.826 | Precision', '0.230 | Recall', '0.068 | F1-measure', '0.097')\n",
      "('Accuracy', '0.805 | Precision', '0.000 | Recall', '0.001 | F1-measure', '0.000')\n",
      "('Accuracy', '0.850 | Precision', '0.600 | Recall', '0.249 | F1-measure', '0.335')\n",
      "('Accuracy', '0.823 | Precision', '0.005 | Recall', '0.004 | F1-measure', '0.004')\n",
      "('Accuracy', '0.649 | Precision', '0.049 | Recall', '0.244 | F1-measure', '0.081')\n",
      "('Accuracy', '0.812 | Precision', '0.022 | Recall', '0.016 | F1-measure', '0.017')\n",
      "('Accuracy', '0.768 | Precision', '0.031 | Recall', '0.045 | F1-measure', '0.035')\n",
      "('Accuracy', '0.823 | Precision', '0.140 | Recall', '0.108 | F1-measure', '0.116')\n",
      "('Accuracy', '0.829 | Precision', '0.031 | Recall', '0.025 | F1-measure', '0.027')\n",
      "('Accuracy', '0.837 | Precision', '0.504 | Recall', '0.179 | F1-measure', '0.245')\n",
      "('Accuracy', '0.838 | Precision', '0.001 | Recall', '0.000 | F1-measure', '0.000')\n"
     ]
    }
   ],
   "source": [
    "for feature in feature_test:\n",
    "    validate(GaussianNB(), feature, my_dataset_2)"
   ]
  },
  {
   "cell_type": "code",
   "execution_count": 153,
   "metadata": {},
   "outputs": [
    {
     "name": "stdout",
     "output_type": "stream",
     "text": [
      "NB | 5 features\n",
      "('Accuracy', '0.833 | Precision', '0.532 | Recall', '0.326 | F1-measure', '0.377')\n",
      "NB | 3 features\n",
      "('Accuracy', '0.835 | Precision', '0.517 | Recall', '0.271 | F1-measure', '0.336')\n",
      "DT | 5 features\n",
      "('Accuracy', '0.826 | Precision', '0.488 | Recall', '0.452 | F1-measure', '0.448')\n",
      "DT | 3 features\n",
      "('Accuracy', '0.838 | Precision', '0.534 | Recall', '0.480 | F1-measure', '0.485')\n"
     ]
    }
   ],
   "source": [
    "features_5 = ['poi', 'exercised_stock_options', 'bonus', 'total_stock_value', 'net_revenue']\n",
    "features_3 = ['poi', 'exercised_stock_options', 'total_stock_value']\n",
    "print ('NB | 5 features') \n",
    "validate(GaussianNB(), features_5, my_dataset_2)\n",
    "print ('NB | 3 features') \n",
    "validate(GaussianNB(), features_3, my_dataset_2)\n",
    "print ('DT | 5 features') \n",
    "validate(DecisionTreeClassifier(), features_5, my_dataset_2)\n",
    "print ('DT | 3 features') \n",
    "validate(DecisionTreeClassifier(), features_3, my_dataset_2)"
   ]
  },
  {
   "cell_type": "markdown",
   "metadata": {},
   "source": [
    "A lista das 5 features se saiu melhor mas piorou o resultado nos dois classificadores."
   ]
  },
  {
   "cell_type": "code",
   "execution_count": 154,
   "metadata": {},
   "outputs": [
    {
     "name": "stdout",
     "output_type": "stream",
     "text": [
      "('Accuracy', '0.762 | Precision', '0.246 | Recall', '0.231 | F1-measure', '0.230')\n",
      "('Accuracy', '0.798 | Precision', '0.385 | Recall', '0.343 | F1-measure', '0.347')\n",
      "('Accuracy', '0.742 | Precision', '0.108 | Recall', '0.091 | F1-measure', '0.095')\n",
      "('Accuracy', '0.851 | Precision', '0.582 | Recall', '0.536 | F1-measure', '0.534')\n",
      "('Accuracy', '0.853 | Precision', '0.593 | Recall', '0.419 | F1-measure', '0.469')\n",
      "('Accuracy', '0.775 | Precision', '0.236 | Recall', '0.178 | F1-measure', '0.193')\n",
      "('Accuracy', '0.854 | Precision', '0.590 | Recall', '0.472 | F1-measure', '0.501')\n",
      "('Accuracy', '0.769 | Precision', '0.261 | Recall', '0.227 | F1-measure', '0.232')\n",
      "('Accuracy', '0.743 | Precision', '0.165 | Recall', '0.154 | F1-measure', '0.153')\n",
      "('Accuracy', '0.766 | Precision', '0.262 | Recall', '0.228 | F1-measure', '0.232')\n",
      "('Accuracy', '0.743 | Precision', '0.180 | Recall', '0.174 | F1-measure', '0.170')\n",
      "('Accuracy', '0.788 | Precision', '0.465 | Recall', '0.294 | F1-measure', '0.340')\n",
      "('Accuracy', '0.829 | Precision', '0.492 | Recall', '0.395 | F1-measure', '0.417')\n",
      "('Accuracy', '0.779 | Precision', '0.294 | Recall', '0.309 | F1-measure', '0.287')\n",
      "('Accuracy', '0.778 | Precision', '0.326 | Recall', '0.332 | F1-measure', '0.316')\n",
      "('Accuracy', '0.815 | Precision', '0.440 | Recall', '0.392 | F1-measure', '0.396')\n"
     ]
    }
   ],
   "source": [
    "for feature in feature_test:\n",
    "    validate(DecisionTreeClassifier(), feature, my_dataset_2)"
   ]
  },
  {
   "cell_type": "markdown",
   "metadata": {},
   "source": [
    "Ao testar cada feature com o classificador **Decision Tree** temos um resultado diferente, vamos testar uma nova combinação de features."
   ]
  },
  {
   "cell_type": "code",
   "execution_count": 155,
   "metadata": {},
   "outputs": [
    {
     "name": "stdout",
     "output_type": "stream",
     "text": [
      "NB | 8 features\n",
      "('Accuracy', '0.818 | Precision', '0.461 | Recall', '0.319 | F1-measure', '0.350')\n",
      "NB | 6 features\n",
      "('Accuracy', '0.829 | Precision', '0.509 | Recall', '0.329 | F1-measure', '0.369')\n",
      "NB | 4 features\n",
      "('Accuracy', '0.819 | Precision', '0.429 | Recall', '0.267 | F1-measure', '0.309')\n",
      "DT | 8  features\n",
      "('Accuracy', '0.859 | Precision', '0.588 | Recall', '0.550 | F1-measure', '0.548')\n",
      "DT | 6 features\n",
      "('Accuracy', '0.861 | Precision', '0.595 | Recall', '0.562 | F1-measure', '0.557')\n",
      "DT | 4 features\n",
      "('Accuracy', '0.842 | Precision', '0.544 | Recall', '0.504 | F1-measure', '0.501')\n"
     ]
    }
   ],
   "source": [
    "features_8 = ['poi', 'exercised_stock_options', 'shared_receipt_with_poi', 'bonus', 'long_term_incentive', 'related_to_poi', 'to_messages', 'from_this_person_to_poi']\n",
    "features_6 = ['poi', 'exercised_stock_options', 'shared_receipt_with_poi', 'bonus', 'long_term_incentive', 'related_to_poi']\n",
    "features_4 = ['poi', 'exercised_stock_options', 'shared_receipt_with_poi', 'bonus']\n",
    "print ('NB | 8 features') \n",
    "validate(GaussianNB(), features_8, my_dataset_2)\n",
    "print ('NB | 6 features') \n",
    "validate(GaussianNB(), features_6, my_dataset_2)\n",
    "print ('NB | 4 features') \n",
    "validate(GaussianNB(), features_4, my_dataset_2)\n",
    "print ('DT | 8  features') \n",
    "validate(DecisionTreeClassifier(), features_8, my_dataset_2)\n",
    "print ('DT | 6 features') \n",
    "validate(DecisionTreeClassifier(), features_6, my_dataset_2)\n",
    "print ('DT | 4 features') \n",
    "validate(DecisionTreeClassifier(), features_4, my_dataset_2)"
   ]
  },
  {
   "cell_type": "markdown",
   "metadata": {},
   "source": [
    "A lista de 6 features se saiu melhor mas também piorou o resultado nos dois classificadores. Vamos trabalhar com a `my_features_list` definida por meio do **IQR Score**. Infelizmente, nenhuma das features construídas será utilizada no modelo."
   ]
  },
  {
   "cell_type": "markdown",
   "metadata": {},
   "source": [
    "# 4. Afinação do algoritmo\n",
    "A tarefa de *model tuning* trata a questão de como encontrar os melhores hiper parâmetros para o modelo escolhido.\n",
    "\n",
    "Treinamos nosso modelo com a configuração de parâmetros padrão para servir de *baseline* e agora vamos tentar melhorar os resultados testando diversas configurações de parâmetros.\n",
    "\n",
    "Existem duas formas de fazer isso:\n",
    "\n",
    "- Manualmente: testar diferentes parâmetros, um a um, e analisar os resultados.\n",
    "- Usando algoritmos de tuning: um algoritmo pode testar diferentes cenários.\n",
    "\n",
    "Existem duas classes de algoritmos de tuning:\n",
    "\n",
    "- Grid search: define-se exatamente quais são os valores dos parâmetros que serão testados.\n",
    "- Random search: valores aleatórios de parâmetros são testados.\n",
    "\n",
    "#### Vamos trabalhar com o algoritmo de tuning `GridSearchCV` e `RandomizedSearchCV` e vamos compará-los.\n",
    "\n",
    "Como não há quase parâmetros para tunar no **Naive Bayes**, vamos trabalhar apenas com o **Decision Tree** e ver o quanto conseguimos otimizar este modelo."
   ]
  },
  {
   "cell_type": "code",
   "execution_count": 156,
   "metadata": {},
   "outputs": [
    {
     "name": "stderr",
     "output_type": "stream",
     "text": [
      "/Users/saidwafiq/anaconda3/envs/py27/lib/python2.7/site-packages/sklearn/model_selection/_split.py:2053: FutureWarning: You should specify a value for 'cv' instead of relying on the default value. The default value will change from 3 to 5 in version 0.22.\n",
      "  warnings.warn(CV_WARNING, FutureWarning)\n"
     ]
    },
    {
     "name": "stdout",
     "output_type": "stream",
     "text": [
      "RandomizedSearchCV took 0.41 seconds for 50 candidates parameter settings.\n",
      "Model with rank: 1\n",
      "Mean validation score: 0.655 (std: 0.064)\n",
      "Parameters: {'splitter': 'best', 'min_samples_split': 5, 'criterion': 'entropy', 'max_features': 6, 'max_depth': None, 'class_weight': 'balanced'}\n",
      "\n",
      "Model with rank: 2\n",
      "Mean validation score: 0.609 (std: 0.093)\n",
      "Parameters: {'splitter': 'best', 'min_samples_split': 8, 'criterion': 'gini', 'max_features': 5, 'max_depth': 3, 'class_weight': 'balanced'}\n",
      "\n",
      "Model with rank: 3\n",
      "Mean validation score: 0.584 (std: 0.218)\n",
      "Parameters: {'splitter': 'best', 'min_samples_split': 8, 'criterion': 'gini', 'max_features': 2, 'max_depth': None, 'class_weight': None}\n",
      "\n"
     ]
    }
   ],
   "source": [
    "from time import time\n",
    "from scipy.stats import randint as sp_randint\n",
    "from sklearn.model_selection import RandomizedSearchCV\n",
    "from sklearn.metrics import f1_score, make_scorer\n",
    "\n",
    "# criando o f1 score para rankeamento\n",
    "f1 = make_scorer(f1_score)\n",
    "\n",
    "# Utility function to report best scores\n",
    "def report(results, n_top=3):\n",
    "    for i in range(1, n_top + 1):\n",
    "        candidates = np.flatnonzero(results['rank_test_score'] == i)\n",
    "        for candidate in candidates:\n",
    "            print(\"Model with rank: {0}\".format(i))\n",
    "            print(\"Mean validation score: {0:.3f} (std: {1:.3f})\".format(\n",
    "                  results['mean_test_score'][candidate],\n",
    "                  results['std_test_score'][candidate]))\n",
    "            print(\"Parameters: {0}\".format(results['params'][candidate]))\n",
    "            print(\"\")\n",
    "\n",
    "# specify parameters and distributions to sample from\n",
    "param_dist = {'max_depth': [3, None],\n",
    "              'max_features': sp_randint(1, 9),\n",
    "              'min_samples_split': sp_randint(2, 11),\n",
    "              'class_weight':(None, 'balanced'),\n",
    "              'criterion': ['gini', 'entropy'],\n",
    "              'splitter': ['best', 'random']}\n",
    "\n",
    "# run randomized search\n",
    "n_iter_search = 50\n",
    "random_search = RandomizedSearchCV(DecisionTreeClassifier(), scoring=f1, param_distributions=param_dist,\n",
    "                                   n_iter=n_iter_search, refit='recall')\n",
    "\n",
    "data = featureFormat(my_dataset, my_features_list)\n",
    "labels, features = targetFeatureSplit(data)\n",
    "\n",
    "scaler = MinMaxScaler(feature_range=(0, 1))\n",
    "features = scaler.fit_transform(features)\n",
    "sss = StratifiedShuffleSplit(n_splits=1000, test_size=0.3, random_state=0)\n",
    "for train_index, test_index in sss.split(features, labels):\n",
    "    features_train = []\n",
    "    features_test  = []\n",
    "    labels_train   = []\n",
    "    labels_test    = []\n",
    "    for ii in train_index:\n",
    "        features_train.append( features[ii] )\n",
    "        labels_train.append( labels[ii] )\n",
    "    for jj in test_index:\n",
    "        features_test.append( features[jj] )\n",
    "        labels_test.append( labels[jj] )\n",
    "        \n",
    "start = time()\n",
    "random_search.fit(features_train, labels_train)\n",
    "print('RandomizedSearchCV took %.2f seconds for %d candidates'\n",
    "      ' parameter settings.' % ((time() - start), n_iter_search))\n",
    "report(random_search.cv_results_)"
   ]
  },
  {
   "cell_type": "code",
   "execution_count": 157,
   "metadata": {},
   "outputs": [
    {
     "name": "stdout",
     "output_type": "stream",
     "text": [
      "('Accuracy', '0.854 | Precision', '0.575 | Recall', '0.557 | F1-measure', '0.544')\n"
     ]
    }
   ],
   "source": [
    "clf = DecisionTreeClassifier(splitter ='best',\n",
    "                             max_features = 6, \n",
    "                             min_samples_split = 5, \n",
    "                             criterion = 'gini', \n",
    "                             max_depth = None, \n",
    "                             class_weight = 'balanced')\n",
    "\n",
    "validate(clf, my_features_list, my_dataset)"
   ]
  },
  {
   "cell_type": "markdown",
   "metadata": {},
   "source": [
    "O `RandomSearchCV` teve boa performance mas não apresentou uma configuração de parâmetros que de fato melhorou o resultado do modelo se comparado com a primeira iteração.\n",
    "\n",
    "    DT  ('Accuracy', '0.854 | Precision', '0.575 | Recall', '0.557 | F1-measure', '0.544')"
   ]
  },
  {
   "cell_type": "code",
   "execution_count": 172,
   "metadata": {},
   "outputs": [
    {
     "name": "stdout",
     "output_type": "stream",
     "text": [
      "GridSearchCV took 4.41 seconds for 576 candidate parameter settings.\n",
      "Model with rank: 1\n",
      "Mean validation score: 0.759 (std: 0.030)\n",
      "Parameters: {'splitter': 'best', 'min_samples_split': 11, 'criterion': 'entropy', 'max_features': 3, 'max_depth': None, 'class_weight': 'balanced'}\n",
      "\n",
      "Model with rank: 2\n",
      "Mean validation score: 0.707 (std: 0.029)\n",
      "Parameters: {'splitter': 'best', 'min_samples_split': 11, 'criterion': 'gini', 'max_features': 4, 'max_depth': None, 'class_weight': 'balanced'}\n",
      "\n",
      "Model with rank: 3\n",
      "Mean validation score: 0.695 (std: 0.301)\n",
      "Parameters: {'splitter': 'random', 'min_samples_split': 2, 'criterion': 'entropy', 'max_features': 3, 'max_depth': None, 'class_weight': None}\n",
      "\n"
     ]
    }
   ],
   "source": [
    "from sklearn.model_selection import GridSearchCV\n",
    "\n",
    "# use a full grid over all parameters\n",
    "param_grid = {'max_depth': [3, None],\n",
    "              'max_features': [None, 1, 2, 3, 4, 5, 6, 7, 8],\n",
    "              'min_samples_split': [2, 3, 7, 11],\n",
    "              'class_weight':(None, 'balanced'),\n",
    "              'criterion': ['gini', 'entropy'],\n",
    "              'splitter': ['best', 'random']}\n",
    "\n",
    "# run grid search\n",
    "grid_search = GridSearchCV(DecisionTreeClassifier(), scoring=f1, param_grid=param_grid, refit='recall')\n",
    "start = time()\n",
    "grid_search.fit(features_train, labels_train)\n",
    "\n",
    "print(\"GridSearchCV took %.2f seconds for %d candidate parameter settings.\"\n",
    "      % (time() - start, len(grid_search.cv_results_['params'])))\n",
    "report(grid_search.cv_results_)"
   ]
  },
  {
   "cell_type": "code",
   "execution_count": 196,
   "metadata": {},
   "outputs": [
    {
     "name": "stdout",
     "output_type": "stream",
     "text": [
      "('Accuracy', '0.821 | Precision', '0.492 | Recall', '0.640 | F1-measure', '0.536')\n"
     ]
    }
   ],
   "source": [
    "## DT\n",
    "clf = DecisionTreeClassifier(splitter ='best',\n",
    "                             max_features = 3, \n",
    "                             min_samples_split = 11, \n",
    "                             criterion = 'entropy', \n",
    "                             max_depth = None, \n",
    "                             class_weight = 'balanced')\n",
    "\n",
    "validate(clf, my_features_list, my_dataset)"
   ]
  },
  {
   "cell_type": "markdown",
   "metadata": {},
   "source": [
    "O `GridSearchCV` teve performance ainda pior que o `RandomSearch`. No meu caso as duas abordagens apresentaram sintomas de overtuning, piorando o resultado do modelo com os parâmetros **default**.\n",
    "\n",
    "    DT  ('Accuracy', '0.875 | Precision', '0.635 | Recall', '0.623 | F1-measure', '0.608')\n",
    "    --------------------------------------------------------------------------------------\n",
    "    DT  ('Accuracy', '0.854 | Precision', '0.575 | Recall', '0.557 | F1-measure', '0.544')\n",
    "    DT  ('Accuracy', '0.821 | Precision', '0.492 | Recall', '0.640 | F1-measure', '0.536')\n"
   ]
  },
  {
   "cell_type": "markdown",
   "metadata": {},
   "source": [
    "# 5. SSS e validação cruzada\n",
    "\n",
    "Validação é a medida para checar se nosso modelo performa bem com dados reais. Podemos também utilizá-lo para evitar overfitting.\n",
    "\n",
    "Para contornar nosso problema de unbalanced data, primeiro devemos dar mais importância ao **precision** e **recall** do que accuracy, pois como vimos accuracy em datasets desbalanceados pode ser enganoso. \n",
    "\n",
    "Outra medida que deve ser tomada é utilização de validação cruzada. Escolhi utilizar o `StratifiedShuffleSplit` porque ele randomiza o dataset e suas partes de treinamento e teste **preservando a proporção entre as duas classes**. Preservar a proporção no nosso caso é imperativo devido a distruibuição desbalanceada entre elas. Se não fizermos isso corremos o risco de ter uma divisão com apenas uma das classes, gerando um modelo com scores altos, mas que não funcionaria como preditor."
   ]
  },
  {
   "cell_type": "markdown",
   "metadata": {},
   "source": [
    "# 6. Eu utilizei **precision** e **recall** como métricas para avaliar a performance final do modelo.\n",
    "\n",
    "O modelo final com **Decision Tree** atingiu os resultados abaixo:\n",
    "- **Precision** 63.5% dos funcionários classificados como POI são realmente pessoas suspeitas de terem participado da fraude. O mesmo que 36.5% de **Falsos Positivo**.\n",
    "- **Recall** 62.3% das vezes que um funcionário, que de fato é um POI foi submetido ao classificador, o algoritmo o prediz como tal. Significa dizer que 37.7% serão **Falsos Negativo**.\n",
    "\n",
    "Se esse modelo fosse utilizado no processo de investigação de fraude da Enron, poderíamos afirmar que 37.7% dos envolvidos no crime não seriam investigados e 63.5% dos investigados seriam culpados.\n",
    "\n",
    "No futuro gostaria de trabalhar mais com esses dados para aumentar o recall. Neste problema o custo de falsos negativo é muito alto e gostaria de reduzi-lo ao máximo, mesmo com trade-off em precision."
   ]
  },
  {
   "cell_type": "markdown",
   "metadata": {},
   "source": [
    "# Referências\n",
    "\n",
    "- https://towardsdatascience.com/ways-to-detect-and-remove-the-outliers-404d16608dba\n",
    "- https://hackinganalytics.com/2016/09/04/model-tuning-otimizando-os-hiper-parametros-do-modelo/\n",
    "- https://scikit-learn.org/stable/auto_examples/model_selection/plot_randomized_search.html\n",
    "- https://machinelearningmastery.com/handle-missing-data-python/"
   ]
  }
 ],
 "metadata": {
  "kernelspec": {
   "display_name": "Python [conda env:py27]",
   "language": "python",
   "name": "conda-env-py27-py"
  },
  "language_info": {
   "codemirror_mode": {
    "name": "ipython",
    "version": 2
   },
   "file_extension": ".py",
   "mimetype": "text/x-python",
   "name": "python",
   "nbconvert_exporter": "python",
   "pygments_lexer": "ipython2",
   "version": "2.7.15"
  }
 },
 "nbformat": 4,
 "nbformat_minor": 2
}
